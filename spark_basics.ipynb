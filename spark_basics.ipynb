{
  "cells": [
    {
      "cell_type": "markdown",
      "metadata": {
        "id": "view-in-github",
        "colab_type": "text"
      },
      "source": [
        "<a href=\"https://colab.research.google.com/github/isabellacadisco/Algorithms-for-Massive-Data-course/blob/main/spark_basics.ipynb\" target=\"_parent\"><img src=\"https://colab.research.google.com/assets/colab-badge.svg\" alt=\"Open In Colab\"/></a>"
      ]
    },
    {
      "cell_type": "code",
      "execution_count": null,
      "metadata": {
        "colab": {
          "base_uri": "https://localhost:8080/"
        },
        "id": "2KBSMN42Hj-s",
        "outputId": "4ffebe31-e56c-4773-b3e9-5465999b3199"
      },
      "outputs": [
        {
          "output_type": "stream",
          "name": "stdout",
          "text": [
            "tar: spark-2.4.5-bin-hadoop2.7.tgz: Cannot open: No such file or directory\n",
            "tar: Error is not recoverable: exiting now\n"
          ]
        }
      ],
      "source": [
        "!apt-get install openjdk-8-jdk-headless -qq > /dev/null\n",
        "!wget -q http://www-eu.apache.org/dist/spark/spark-2.4.5/spark-2.4.5-bin-hadoop2.7.tgz\n",
        "!tar xf spark-2.4.5-bin-hadoop2.7.tgz\n",
        "!pip install -q findspark"
      ]
    },
    {
      "cell_type": "code",
      "execution_count": null,
      "metadata": {
        "id": "UYYkANspf62h"
      },
      "outputs": [],
      "source": [
        "# hadoop to store data\n",
        "# advise executing this directly in google colab to avoid installing spark in yuor machine"
      ]
    },
    {
      "cell_type": "code",
      "execution_count": null,
      "metadata": {
        "id": "27fwVZvzf62i"
      },
      "outputs": [],
      "source": [
        "# env variables to have together spark and python"
      ]
    },
    {
      "cell_type": "code",
      "execution_count": null,
      "metadata": {
        "id": "UsnMvQDRIG8p"
      },
      "outputs": [],
      "source": [
        "import os\n",
        "os.environ[\"JAVA_HOME\"] = \"/usr/lib/jvm/java-8-openjdk-amd64\"\n",
        "os.environ[\"SPARK_HOME\"] = \"/content/spark-2.4.5-bin-hadoop2.7\""
      ]
    },
    {
      "cell_type": "code",
      "execution_count": null,
      "metadata": {
        "id": "mgrVtOSef62j"
      },
      "outputs": [],
      "source": [
        "# where the magic begins\n",
        "# entity of spark that can be used with python\n",
        "# "
      ]
    },
    {
      "cell_type": "code",
      "execution_count": null,
      "metadata": {
        "id": "evOnjggtJEXg"
      },
      "outputs": [],
      "source": [
        "import findspark\n",
        "findspark.init(\"spark-2.4.5-bin-hadoop2.7\")# SPARK_HOME\n",
        "from pyspark.sql import SparkSession\n",
        "spark = SparkSession.builder.master(\"local[*]\").getOrCreate()"
      ]
    },
    {
      "cell_type": "code",
      "execution_count": null,
      "metadata": {
        "colab": {
          "base_uri": "https://localhost:8080/",
          "height": 34
        },
        "id": "0LSsYt0-I7J7",
        "outputId": "133c6eee-bdc3-4470-ebf9-a2a4d91fafc3"
      },
      "outputs": [
        {
          "data": {
            "text/plain": [
              "pyspark.sql.session.SparkSession"
            ]
          },
          "execution_count": 4,
          "metadata": {
            "tags": []
          },
          "output_type": "execute_result"
        }
      ],
      "source": [
        "import pyspark\n",
        "type(spark)"
      ]
    },
    {
      "cell_type": "code",
      "execution_count": null,
      "metadata": {
        "id": "3RaboEqpf62m"
      },
      "outputs": [],
      "source": [
        "# spark content, to invoke 'methods' you want to use"
      ]
    },
    {
      "cell_type": "code",
      "execution_count": null,
      "metadata": {
        "id": "6J2Cm3DMJZkZ"
      },
      "outputs": [],
      "source": [
        "sc = spark.sparkContext"
      ]
    },
    {
      "cell_type": "code",
      "execution_count": null,
      "metadata": {
        "id": "5A6CDbnAf62n"
      },
      "outputs": [],
      "source": [
        "# from now on examples of basic operations\n",
        "# a string, parallelizing the split of this string\n",
        "# ''' string''' -> 3 strings"
      ]
    },
    {
      "cell_type": "code",
      "execution_count": null,
      "metadata": {
        "id": "SB-1ZpL9P9ve"
      },
      "outputs": [],
      "source": [
        "s = '''Every person had a star, every star had a friend, and for every person\n",
        "carrying a star there was someone else who reflected it, and everyone\n",
        "carried this reflection like a secret confidante in the heart'''\n",
        "simple_rdd = sc.parallelize(s.split('\\n'))"
      ]
    },
    {
      "cell_type": "code",
      "execution_count": null,
      "metadata": {
        "colab": {
          "base_uri": "https://localhost:8080/",
          "height": 69
        },
        "id": "8pe238QyJsCP",
        "outputId": "a5a75233-79bf-4d79-9a64-2c707f6514f5"
      },
      "outputs": [
        {
          "data": {
            "text/plain": [
              "['Every person had a star, every star had a friend, and for every person',\n",
              " 'carrying a star there was someone else who reflected it, and everyone',\n",
              " 'carried this reflection like a secret confidante in the heart']"
            ]
          },
          "execution_count": 37,
          "metadata": {
            "tags": []
          },
          "output_type": "execute_result"
        }
      ],
      "source": [
        "simple_rdd.collect()"
      ]
    },
    {
      "cell_type": "code",
      "execution_count": null,
      "metadata": {
        "id": "rgzEP6Rdf62p"
      },
      "outputs": [],
      "source": [
        "# applied on each instance of the RDD"
      ]
    },
    {
      "cell_type": "code",
      "execution_count": null,
      "metadata": {
        "colab": {
          "base_uri": "https://localhost:8080/",
          "height": 637
        },
        "id": "LymNHuZDQlgZ",
        "outputId": "f5983ce4-a44a-42b8-9e7d-abf61b615196"
      },
      "outputs": [
        {
          "data": {
            "text/plain": [
              "[['Every',\n",
              "  'person',\n",
              "  'had',\n",
              "  'a',\n",
              "  'star,',\n",
              "  'every',\n",
              "  'star',\n",
              "  'had',\n",
              "  'a',\n",
              "  'friend,',\n",
              "  'and',\n",
              "  'for',\n",
              "  'every',\n",
              "  'person'],\n",
              " ['carrying',\n",
              "  'a',\n",
              "  'star',\n",
              "  'there',\n",
              "  'was',\n",
              "  'someone',\n",
              "  'else',\n",
              "  'who',\n",
              "  'reflected',\n",
              "  'it,',\n",
              "  'and',\n",
              "  'everyone'],\n",
              " ['carried',\n",
              "  'this',\n",
              "  'reflection',\n",
              "  'like',\n",
              "  'a',\n",
              "  'secret',\n",
              "  'confidante',\n",
              "  'in',\n",
              "  'the',\n",
              "  'heart']]"
            ]
          },
          "execution_count": 38,
          "metadata": {
            "tags": []
          },
          "output_type": "execute_result"
        }
      ],
      "source": [
        "(simple_rdd.map(lambda line: line.split(' '))\n",
        "           .collect())"
      ]
    },
    {
      "cell_type": "code",
      "execution_count": null,
      "metadata": {
        "colab": {
          "base_uri": "https://localhost:8080/",
          "height": 189
        },
        "id": "OGbH_xQyQ1pJ",
        "outputId": "33e037f0-347d-42ed-eb1d-8224594f6619"
      },
      "outputs": [
        {
          "data": {
            "text/plain": [
              "['Every',\n",
              " 'person',\n",
              " 'had',\n",
              " 'a',\n",
              " 'star,',\n",
              " 'every',\n",
              " 'star',\n",
              " 'had',\n",
              " 'a',\n",
              " 'friend,']"
            ]
          },
          "execution_count": 39,
          "metadata": {
            "tags": []
          },
          "output_type": "execute_result"
        }
      ],
      "source": [
        "(simple_rdd.flatMap(lambda line: line.split(' '))\n",
        "           .take(10))"
      ]
    },
    {
      "cell_type": "code",
      "execution_count": null,
      "metadata": {
        "colab": {
          "base_uri": "https://localhost:8080/",
          "height": 34
        },
        "id": "PsArbQfrRH2l",
        "outputId": "22505b8c-5c62-4403-ebf0-5bc7aff2bc0c"
      },
      "outputs": [
        {
          "data": {
            "text/plain": [
              "['every', 'person', 'had', 'a', 'star']"
            ]
          },
          "execution_count": 40,
          "metadata": {
            "tags": []
          },
          "output_type": "execute_result"
        }
      ],
      "source": [
        "(simple_rdd.flatMap(lambda line: line.split(' '))\n",
        "           .map(lambda word: word.replace(',', '').lower())\n",
        "           .take(5))"
      ]
    },
    {
      "cell_type": "code",
      "execution_count": null,
      "metadata": {
        "colab": {
          "base_uri": "https://localhost:8080/",
          "height": 34
        },
        "id": "mp8z9tJNRVQZ",
        "outputId": "59a396c1-e609-4f78-d186-9b66fb766862"
      },
      "outputs": [
        {
          "data": {
            "text/plain": [
              "[('every', 1), ('person', 1), ('had', 1), ('a', 1), ('star', 1)]"
            ]
          },
          "execution_count": 41,
          "metadata": {
            "tags": []
          },
          "output_type": "execute_result"
        }
      ],
      "source": [
        "(simple_rdd.flatMap(lambda line: line.split(' '))\n",
        "           .map(lambda word: word.replace(',', '').lower())\n",
        "           .map(lambda word: (word, 1))\n",
        "           .take(5))"
      ]
    },
    {
      "cell_type": "code",
      "execution_count": null,
      "metadata": {
        "colab": {
          "base_uri": "https://localhost:8080/",
          "height": 465
        },
        "id": "-Vcv7UcsRjBr",
        "outputId": "a92133d5-94f0-4cdd-af2c-63cde156d204"
      },
      "outputs": [
        {
          "data": {
            "text/plain": [
              "[('person', 2),\n",
              " ('there', 1),\n",
              " ('was', 1),\n",
              " ('carried', 1),\n",
              " ('this', 1),\n",
              " ('like', 1),\n",
              " ('secret', 1),\n",
              " ('confidante', 1),\n",
              " ('in', 1),\n",
              " ('heart', 1),\n",
              " ('every', 3),\n",
              " ('had', 2),\n",
              " ('a', 4),\n",
              " ('star', 3),\n",
              " ('friend', 1),\n",
              " ('and', 2),\n",
              " ('for', 1),\n",
              " ('carrying', 1),\n",
              " ('someone', 1),\n",
              " ('else', 1),\n",
              " ('who', 1),\n",
              " ('reflected', 1),\n",
              " ('it', 1),\n",
              " ('everyone', 1),\n",
              " ('reflection', 1),\n",
              " ('the', 1)]"
            ]
          },
          "execution_count": 42,
          "metadata": {
            "tags": []
          },
          "output_type": "execute_result"
        }
      ],
      "source": [
        "(simple_rdd.flatMap(lambda line: line.split(' '))\n",
        "           .map(lambda word: word.replace(',', '').lower())\n",
        "           .map(lambda word: (word, 1))\n",
        "           .reduceByKey(lambda a,b: a+b)\n",
        "           .collect())"
      ]
    },
    {
      "cell_type": "code",
      "execution_count": null,
      "metadata": {
        "id": "70Zlz-SER3ki"
      },
      "outputs": [],
      "source": [
        "def count_freq(rdd):\n",
        "  return (rdd.flatMap(lambda line: line.split(' '))\n",
        "            .map(lambda word: word.replace(',', '').lower())\n",
        "            .map(lambda word: (word, 1))\n",
        "            .reduceByKey(lambda a,b: a+b)\n",
        "            .collect())"
      ]
    },
    {
      "cell_type": "code",
      "execution_count": null,
      "metadata": {
        "colab": {
          "base_uri": "https://localhost:8080/",
          "height": 207
        },
        "id": "dA_3tetsHQm8",
        "outputId": "8ca4b837-ceaa-4382-b834-8a211dc426eb"
      },
      "outputs": [
        {
          "name": "stdout",
          "output_type": "stream",
          "text": [
            "--2020-03-11 11:24:00--  http://www.scifiscripts.com/scripts/swd1_5-74.txt\n",
            "Resolving www.scifiscripts.com (www.scifiscripts.com)... 207.32.177.145\n",
            "Connecting to www.scifiscripts.com (www.scifiscripts.com)|207.32.177.145|:80... connected.\n",
            "HTTP request sent, awaiting response... 200 OK\n",
            "Length: 203125 (198K) [text/plain]\n",
            "Saving to: ‘swd1_5-74.txt.1’\n",
            "\n",
            "swd1_5-74.txt.1     100%[===================>] 198.36K   294KB/s    in 0.7s    \n",
            "\n",
            "2020-03-11 11:24:01 (294 KB/s) - ‘swd1_5-74.txt.1’ saved [203125/203125]\n",
            "\n"
          ]
        }
      ],
      "source": [
        "!wget http://www.scifiscripts.com/scripts/swd1_5-74.txt"
      ]
    },
    {
      "cell_type": "code",
      "execution_count": null,
      "metadata": {
        "id": "EZA0B20IJxkN"
      },
      "outputs": [],
      "source": [
        "sw = sc.textFile('swd1_5-74.txt')"
      ]
    },
    {
      "cell_type": "code",
      "execution_count": null,
      "metadata": {
        "colab": {
          "base_uri": "https://localhost:8080/",
          "height": 189
        },
        "id": "VjXWVqhOJ1Vu",
        "outputId": "d9d57546-df80-43dd-cc1a-9549b8d8145e"
      },
      "outputs": [
        {
          "data": {
            "text/plain": [
              "['The Star Wars',\n",
              " 'by',\n",
              " 'George Lucas',\n",
              " '',\n",
              " '',\n",
              " '',\n",
              " 'Rough Draft [First of four major screenplay drafts]',\n",
              " 'Lucasfilm Ltd.',\n",
              " '5/74',\n",
              " '']"
            ]
          },
          "execution_count": 46,
          "metadata": {
            "tags": []
          },
          "output_type": "execute_result"
        }
      ],
      "source": [
        "sw.take(10)"
      ]
    },
    {
      "cell_type": "code",
      "execution_count": null,
      "metadata": {
        "colab": {
          "base_uri": "https://localhost:8080/",
          "height": 189
        },
        "id": "GjY7hco0J6Mu",
        "outputId": "21e5f767-59d3-49ee-8e22-2dd3b8444386"
      },
      "outputs": [
        {
          "data": {
            "text/plain": [
              "[('george', 1),\n",
              " ('', 3543),\n",
              " ('draft', 1),\n",
              " ('of', 744),\n",
              " ('four', 25),\n",
              " ('major', 2),\n",
              " ('drafts]', 1),\n",
              " ('ltd.', 1),\n",
              " ('5/74', 1),\n",
              " ('1.', 1)]"
            ]
          },
          "execution_count": 47,
          "metadata": {
            "tags": []
          },
          "output_type": "execute_result"
        }
      ],
      "source": [
        "count_freq(sw)[: 10]"
      ]
    },
    {
      "cell_type": "code",
      "execution_count": null,
      "metadata": {
        "colab": {
          "base_uri": "https://localhost:8080/",
          "height": 34
        },
        "id": "SRPuxtCuSHOH",
        "outputId": "244b2499-95c5-49b1-af84-b3fe3f1a103c"
      },
      "outputs": [
        {
          "name": "stdout",
          "output_type": "stream",
          "text": [
            "Pi is roughly 3.1404776\n"
          ]
        }
      ],
      "source": [
        "import random\n",
        "\n",
        "NUM_SAMPLES = 10**7\n",
        "\n",
        "def inside(p):\n",
        "    x, y = random.random(), random.random()\n",
        "    return x*x + y*y < 1\n",
        "\n",
        "count = (sc.parallelize(range(0, NUM_SAMPLES))\n",
        "           .filter(inside).count())\n",
        "\n",
        "print('Pi is roughly {}'.format(4.0 * count / NUM_SAMPLES))"
      ]
    },
    {
      "cell_type": "code",
      "execution_count": null,
      "metadata": {
        "id": "NwO4G7dJSYF3"
      },
      "outputs": [],
      "source": []
    }
  ],
  "metadata": {
    "colab": {
      "provenance": [],
      "include_colab_link": true
    },
    "kernelspec": {
      "display_name": "Python 3 (ipykernel)",
      "language": "python",
      "name": "python3"
    },
    "language_info": {
      "codemirror_mode": {
        "name": "ipython",
        "version": 3
      },
      "file_extension": ".py",
      "mimetype": "text/x-python",
      "name": "python",
      "nbconvert_exporter": "python",
      "pygments_lexer": "ipython3",
      "version": "3.9.13"
    }
  },
  "nbformat": 4,
  "nbformat_minor": 0
}