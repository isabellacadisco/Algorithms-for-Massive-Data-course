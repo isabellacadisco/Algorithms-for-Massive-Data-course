{
  "cells": [
    {
      "cell_type": "markdown",
      "metadata": {
        "id": "view-in-github",
        "colab_type": "text"
      },
      "source": [
        "<a href=\"https://colab.research.google.com/github/isabellacadisco/Algorithms-for-Massive-Data-course/blob/main/spark_basics.ipynb\" target=\"_parent\"><img src=\"https://colab.research.google.com/assets/colab-badge.svg\" alt=\"Open In Colab\"/></a>"
      ]
    },
    {
      "cell_type": "code",
      "execution_count": 2,
      "metadata": {
        "id": "2KBSMN42Hj-s"
      },
      "outputs": [],
      "source": [
        "!apt-get install openjdk-8-jdk-headless -qq > /dev/null\n",
        "!wget -q https://dlcdn.apache.org/spark/spark-3.2.3/spark-3.2.3-bin-hadoop3.2.tgz\n",
        "!tar xf spark-3.2.3-bin-hadoop3.2.tgz\n",
        "!pip install -q findspark"
      ]
    },
    {
      "cell_type": "markdown",
      "source": [
        "hadoop to store data\n",
        "advise executing this directly in google colab to avoid installing spark in your machine"
      ],
      "metadata": {
        "id": "tX48ni3JxX87"
      }
    },
    {
      "cell_type": "markdown",
      "source": [
        "env variables to have together spark and python"
      ],
      "metadata": {
        "id": "oKQ09_wbxfWY"
      }
    },
    {
      "cell_type": "code",
      "execution_count": 3,
      "metadata": {
        "id": "UsnMvQDRIG8p"
      },
      "outputs": [],
      "source": [
        "import os\n",
        "os.environ[\"JAVA_HOME\"] = \"/usr/lib/jvm/java-8-openjdk-amd64\"\n",
        "os.environ[\"SPARK_HOME\"] = \"/content/spark-3.2.3-bin-hadoop3.2\""
      ]
    },
    {
      "cell_type": "markdown",
      "source": [
        "where the magic begins\n",
        "entity of spark that can be used with python\n"
      ],
      "metadata": {
        "id": "erBUMh8ix6Df"
      }
    },
    {
      "cell_type": "code",
      "execution_count": 5,
      "metadata": {
        "id": "evOnjggtJEXg"
      },
      "outputs": [],
      "source": [
        "import findspark\n",
        "findspark.init(\"spark-3.2.3-bin-hadoop3.2\")# SPARK_HOME\n",
        "from pyspark.sql import SparkSession\n",
        "spark = SparkSession.builder.master(\"local[*]\").getOrCreate()"
      ]
    },
    {
      "cell_type": "code",
      "execution_count": 6,
      "metadata": {
        "colab": {
          "base_uri": "https://localhost:8080/"
        },
        "id": "0LSsYt0-I7J7",
        "outputId": "ad1a1787-2492-4a40-cf28-02a50b8f6884"
      },
      "outputs": [
        {
          "output_type": "execute_result",
          "data": {
            "text/plain": [
              "pyspark.sql.session.SparkSession"
            ]
          },
          "metadata": {},
          "execution_count": 6
        }
      ],
      "source": [
        "import pyspark\n",
        "type(spark)"
      ]
    },
    {
      "cell_type": "code",
      "execution_count": null,
      "metadata": {
        "id": "3RaboEqpf62m"
      },
      "outputs": [],
      "source": [
        "# spark content, to invoke 'methods' you want to use"
      ]
    },
    {
      "cell_type": "code",
      "execution_count": 7,
      "metadata": {
        "id": "6J2Cm3DMJZkZ"
      },
      "outputs": [],
      "source": [
        "sc = spark.sparkContext"
      ]
    },
    {
      "cell_type": "code",
      "execution_count": null,
      "metadata": {
        "id": "5A6CDbnAf62n"
      },
      "outputs": [],
      "source": [
        "# from now on examples of basic operations\n",
        "# a string, parallelizing the split of this string\n",
        "# ''' string''' -> 3 strings"
      ]
    },
    {
      "cell_type": "code",
      "execution_count": 8,
      "metadata": {
        "id": "SB-1ZpL9P9ve"
      },
      "outputs": [],
      "source": [
        "s = '''Every person had a star, every star had a friend, and for every person\n",
        "carrying a star there was someone else who reflected it, and everyone\n",
        "carried this reflection like a secret confidante in the heart'''\n",
        "simple_rdd = sc.parallelize(s.split('\\n'))"
      ]
    },
    {
      "cell_type": "code",
      "execution_count": 9,
      "metadata": {
        "colab": {
          "base_uri": "https://localhost:8080/"
        },
        "id": "8pe238QyJsCP",
        "outputId": "861d0e31-86d1-4e5e-b56b-588a259f95e4"
      },
      "outputs": [
        {
          "output_type": "execute_result",
          "data": {
            "text/plain": [
              "['Every person had a star, every star had a friend, and for every person',\n",
              " 'carrying a star there was someone else who reflected it, and everyone',\n",
              " 'carried this reflection like a secret confidante in the heart']"
            ]
          },
          "metadata": {},
          "execution_count": 9
        }
      ],
      "source": [
        "simple_rdd.collect()"
      ]
    },
    {
      "cell_type": "code",
      "execution_count": null,
      "metadata": {
        "id": "rgzEP6Rdf62p"
      },
      "outputs": [],
      "source": [
        "# applied on each instance of the RDD"
      ]
    },
    {
      "cell_type": "code",
      "execution_count": 10,
      "metadata": {
        "colab": {
          "base_uri": "https://localhost:8080/"
        },
        "id": "LymNHuZDQlgZ",
        "outputId": "314cabc5-2258-45ae-9c3a-e0e8dbe2d122"
      },
      "outputs": [
        {
          "output_type": "execute_result",
          "data": {
            "text/plain": [
              "[['Every',\n",
              "  'person',\n",
              "  'had',\n",
              "  'a',\n",
              "  'star,',\n",
              "  'every',\n",
              "  'star',\n",
              "  'had',\n",
              "  'a',\n",
              "  'friend,',\n",
              "  'and',\n",
              "  'for',\n",
              "  'every',\n",
              "  'person'],\n",
              " ['carrying',\n",
              "  'a',\n",
              "  'star',\n",
              "  'there',\n",
              "  'was',\n",
              "  'someone',\n",
              "  'else',\n",
              "  'who',\n",
              "  'reflected',\n",
              "  'it,',\n",
              "  'and',\n",
              "  'everyone'],\n",
              " ['carried',\n",
              "  'this',\n",
              "  'reflection',\n",
              "  'like',\n",
              "  'a',\n",
              "  'secret',\n",
              "  'confidante',\n",
              "  'in',\n",
              "  'the',\n",
              "  'heart']]"
            ]
          },
          "metadata": {},
          "execution_count": 10
        }
      ],
      "source": [
        "(simple_rdd.map(lambda line: line.split(' '))\n",
        "           .collect())"
      ]
    },
    {
      "cell_type": "code",
      "execution_count": 11,
      "metadata": {
        "colab": {
          "base_uri": "https://localhost:8080/"
        },
        "id": "OGbH_xQyQ1pJ",
        "outputId": "429faaba-5c3e-4c66-d2b8-13d752ab5447"
      },
      "outputs": [
        {
          "output_type": "execute_result",
          "data": {
            "text/plain": [
              "['Every',\n",
              " 'person',\n",
              " 'had',\n",
              " 'a',\n",
              " 'star,',\n",
              " 'every',\n",
              " 'star',\n",
              " 'had',\n",
              " 'a',\n",
              " 'friend,']"
            ]
          },
          "metadata": {},
          "execution_count": 11
        }
      ],
      "source": [
        "(simple_rdd.flatMap(lambda line: line.split(' '))\n",
        "           .take(10))"
      ]
    },
    {
      "cell_type": "code",
      "execution_count": 12,
      "metadata": {
        "colab": {
          "base_uri": "https://localhost:8080/"
        },
        "id": "PsArbQfrRH2l",
        "outputId": "66735209-1951-48e4-c552-06f77d74570d"
      },
      "outputs": [
        {
          "output_type": "execute_result",
          "data": {
            "text/plain": [
              "['every', 'person', 'had', 'a', 'star']"
            ]
          },
          "metadata": {},
          "execution_count": 12
        }
      ],
      "source": [
        "(simple_rdd.flatMap(lambda line: line.split(' '))\n",
        "           .map(lambda word: word.replace(',', '').lower())\n",
        "           .take(5))"
      ]
    },
    {
      "cell_type": "code",
      "execution_count": 13,
      "metadata": {
        "colab": {
          "base_uri": "https://localhost:8080/"
        },
        "id": "mp8z9tJNRVQZ",
        "outputId": "8e926951-70f8-450b-a471-d3e9e3bc0063"
      },
      "outputs": [
        {
          "output_type": "execute_result",
          "data": {
            "text/plain": [
              "[('every', 1), ('person', 1), ('had', 1), ('a', 1), ('star', 1)]"
            ]
          },
          "metadata": {},
          "execution_count": 13
        }
      ],
      "source": [
        "(simple_rdd.flatMap(lambda line: line.split(' '))\n",
        "           .map(lambda word: word.replace(',', '').lower())\n",
        "           .map(lambda word: (word, 1))\n",
        "           .take(5))"
      ]
    },
    {
      "cell_type": "code",
      "execution_count": 14,
      "metadata": {
        "colab": {
          "base_uri": "https://localhost:8080/"
        },
        "id": "-Vcv7UcsRjBr",
        "outputId": "b28f672c-7988-4117-d8fa-7b3c257a7c94"
      },
      "outputs": [
        {
          "output_type": "execute_result",
          "data": {
            "text/plain": [
              "[('person', 2),\n",
              " ('there', 1),\n",
              " ('was', 1),\n",
              " ('carried', 1),\n",
              " ('this', 1),\n",
              " ('like', 1),\n",
              " ('secret', 1),\n",
              " ('confidante', 1),\n",
              " ('in', 1),\n",
              " ('heart', 1),\n",
              " ('every', 3),\n",
              " ('had', 2),\n",
              " ('a', 4),\n",
              " ('star', 3),\n",
              " ('friend', 1),\n",
              " ('and', 2),\n",
              " ('for', 1),\n",
              " ('carrying', 1),\n",
              " ('someone', 1),\n",
              " ('else', 1),\n",
              " ('who', 1),\n",
              " ('reflected', 1),\n",
              " ('it', 1),\n",
              " ('everyone', 1),\n",
              " ('reflection', 1),\n",
              " ('the', 1)]"
            ]
          },
          "metadata": {},
          "execution_count": 14
        }
      ],
      "source": [
        "(simple_rdd.flatMap(lambda line: line.split(' '))\n",
        "           .map(lambda word: word.replace(',', '').lower())\n",
        "           .map(lambda word: (word, 1))\n",
        "           .reduceByKey(lambda a,b: a+b)\n",
        "           .collect())"
      ]
    },
    {
      "cell_type": "code",
      "execution_count": 15,
      "metadata": {
        "id": "70Zlz-SER3ki"
      },
      "outputs": [],
      "source": [
        "def count_freq(rdd):\n",
        "  return (rdd.flatMap(lambda line: line.split(' '))\n",
        "            .map(lambda word: word.replace(',', '').lower())\n",
        "            .map(lambda word: (word, 1))\n",
        "            .reduceByKey(lambda a,b: a+b)\n",
        "            .collect())"
      ]
    },
    {
      "cell_type": "code",
      "execution_count": 16,
      "metadata": {
        "colab": {
          "base_uri": "https://localhost:8080/"
        },
        "id": "dA_3tetsHQm8",
        "outputId": "3ec35b72-3e42-4dbb-9032-1d2767371853"
      },
      "outputs": [
        {
          "output_type": "stream",
          "name": "stdout",
          "text": [
            "--2023-01-30 13:08:37--  http://www.scifiscripts.com/scripts/swd1_5-74.txt\n",
            "Resolving www.scifiscripts.com (www.scifiscripts.com)... 207.32.177.145\n",
            "Connecting to www.scifiscripts.com (www.scifiscripts.com)|207.32.177.145|:80... connected.\n",
            "HTTP request sent, awaiting response... 403 Forbidden\n",
            "2023-01-30 13:08:38 ERROR 403: Forbidden.\n",
            "\n"
          ]
        }
      ],
      "source": [
        "!wget http://www.scifiscripts.com/scripts/swd1_5-74.txt"
      ]
    },
    {
      "cell_type": "markdown",
      "source": [],
      "metadata": {
        "id": "ScalaZ9Zz1M1"
      }
    },
    {
      "cell_type": "code",
      "execution_count": null,
      "metadata": {
        "id": "EZA0B20IJxkN"
      },
      "outputs": [],
      "source": [
        "sw = sc.textFile('swd1_5-74.txt')"
      ]
    },
    {
      "cell_type": "code",
      "execution_count": null,
      "metadata": {
        "colab": {
          "base_uri": "https://localhost:8080/",
          "height": 189
        },
        "id": "VjXWVqhOJ1Vu",
        "outputId": "d9d57546-df80-43dd-cc1a-9549b8d8145e"
      },
      "outputs": [
        {
          "data": {
            "text/plain": [
              "['The Star Wars',\n",
              " 'by',\n",
              " 'George Lucas',\n",
              " '',\n",
              " '',\n",
              " '',\n",
              " 'Rough Draft [First of four major screenplay drafts]',\n",
              " 'Lucasfilm Ltd.',\n",
              " '5/74',\n",
              " '']"
            ]
          },
          "execution_count": 46,
          "metadata": {
            "tags": []
          },
          "output_type": "execute_result"
        }
      ],
      "source": [
        "sw.take(10)"
      ]
    },
    {
      "cell_type": "code",
      "execution_count": null,
      "metadata": {
        "colab": {
          "base_uri": "https://localhost:8080/",
          "height": 189
        },
        "id": "GjY7hco0J6Mu",
        "outputId": "21e5f767-59d3-49ee-8e22-2dd3b8444386"
      },
      "outputs": [
        {
          "data": {
            "text/plain": [
              "[('george', 1),\n",
              " ('', 3543),\n",
              " ('draft', 1),\n",
              " ('of', 744),\n",
              " ('four', 25),\n",
              " ('major', 2),\n",
              " ('drafts]', 1),\n",
              " ('ltd.', 1),\n",
              " ('5/74', 1),\n",
              " ('1.', 1)]"
            ]
          },
          "execution_count": 47,
          "metadata": {
            "tags": []
          },
          "output_type": "execute_result"
        }
      ],
      "source": [
        "count_freq(sw)[: 10]"
      ]
    },
    {
      "cell_type": "code",
      "execution_count": null,
      "metadata": {
        "colab": {
          "base_uri": "https://localhost:8080/",
          "height": 34
        },
        "id": "SRPuxtCuSHOH",
        "outputId": "244b2499-95c5-49b1-af84-b3fe3f1a103c"
      },
      "outputs": [
        {
          "name": "stdout",
          "output_type": "stream",
          "text": [
            "Pi is roughly 3.1404776\n"
          ]
        }
      ],
      "source": [
        "import random\n",
        "\n",
        "NUM_SAMPLES = 10**7\n",
        "\n",
        "def inside(p):\n",
        "    x, y = random.random(), random.random()\n",
        "    return x*x + y*y < 1\n",
        "\n",
        "count = (sc.parallelize(range(0, NUM_SAMPLES))\n",
        "           .filter(inside).count())\n",
        "\n",
        "print('Pi is roughly {}'.format(4.0 * count / NUM_SAMPLES))"
      ]
    },
    {
      "cell_type": "code",
      "execution_count": null,
      "metadata": {
        "id": "NwO4G7dJSYF3"
      },
      "outputs": [],
      "source": []
    }
  ],
  "metadata": {
    "colab": {
      "provenance": [],
      "include_colab_link": true
    },
    "kernelspec": {
      "display_name": "Python 3 (ipykernel)",
      "language": "python",
      "name": "python3"
    },
    "language_info": {
      "codemirror_mode": {
        "name": "ipython",
        "version": 3
      },
      "file_extension": ".py",
      "mimetype": "text/x-python",
      "name": "python",
      "nbconvert_exporter": "python",
      "pygments_lexer": "ipython3",
      "version": "3.9.13"
    }
  },
  "nbformat": 4,
  "nbformat_minor": 0
}