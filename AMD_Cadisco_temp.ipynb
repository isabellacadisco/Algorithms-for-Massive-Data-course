{
  "nbformat": 4,
  "nbformat_minor": 0,
  "metadata": {
    "colab": {
      "provenance": [],
      "authorship_tag": "ABX9TyPze+MdaFVZtKFGoAzgc+Ft",
      "include_colab_link": true
    },
    "kernelspec": {
      "name": "python3",
      "display_name": "Python 3"
    },
    "language_info": {
      "name": "python"
    }
  },
  "cells": [
    {
      "cell_type": "markdown",
      "metadata": {
        "id": "view-in-github",
        "colab_type": "text"
      },
      "source": [
        "<a href=\"https://colab.research.google.com/github/isabellacadisco/Algorithms-for-Massive-Data-course/blob/main/AMD_Cadisco_temp.ipynb\" target=\"_parent\"><img src=\"https://colab.research.google.com/assets/colab-badge.svg\" alt=\"Open In Colab\"/></a>"
      ]
    },
    {
      "cell_type": "code",
      "execution_count": 1,
      "metadata": {
        "colab": {
          "base_uri": "https://localhost:8080/"
        },
        "id": "5UaD9q_9AQIm",
        "outputId": "e3ff7539-6f1c-4f5a-b874-da262fbe77b1"
      },
      "outputs": [
        {
          "output_type": "stream",
          "name": "stdout",
          "text": [
            "Downloading medal-emnlp.zip to /content\n",
            "100% 6.82G/6.82G [02:13<00:00, 24.6MB/s]\n",
            "100% 6.82G/6.82G [02:13<00:00, 54.8MB/s]\n"
          ]
        }
      ],
      "source": [
        "import os\n",
        "#set up os env\n",
        "os.environ['KAGGLE_USERNAME'] = \"XXXXXXXX\"\n",
        "os.environ['KAGGLE_KEY'] = \"XXXXXXXX\"\n",
        "\n",
        "# download dataset from kaggle and save it in drive\n",
        "!kaggle datasets download -d xhlulu/medal-emnlp"
      ]
    },
    {
      "cell_type": "code",
      "source": [
        "!unzip medal-emnlp.zip #unzip dataset"
      ],
      "metadata": {
        "colab": {
          "base_uri": "https://localhost:8080/"
        },
        "id": "B6lfg06SAWqc",
        "outputId": "6d4dffa9-0413-4d5a-c28b-f3a5a12f02d2"
      },
      "execution_count": 2,
      "outputs": [
        {
          "output_type": "stream",
          "name": "stdout",
          "text": [
            "Archive:  medal-emnlp.zip\n",
            "  inflating: full_data.csv           \n",
            "  inflating: pretrain_subset/test.csv  \n",
            "  inflating: pretrain_subset/train.csv  \n",
            "  inflating: pretrain_subset/valid.csv  \n"
          ]
        }
      ]
    },
    {
      "cell_type": "code",
      "source": [
        "# set up spark\n",
        "!apt-get install openjdk-8-jdk-headless -qq > /dev/null #install java as VM\n",
        "!wget -q https://dlcdn.apache.org/spark/spark-3.4.0/spark-3.4.0-bin-hadoop3.tgz #download Spark\n",
        "!tar xf spark-3.4.0-bin-hadoop3.tgz #unzip the file\n",
        "!pip install -q findspark\n",
        "\n",
        "#boh\n",
        "!pip install pyspark\n",
        "\n",
        "os.environ[\"JAVA_HOME\"] = \"/usr/lib/jvm/java-8-openjdk-amd64\"\n",
        "os.environ[\"SPARK_HOME\"] = \"/content/spark-3.4.0-bin-hadoop3\"\n",
        "\n",
        "\n",
        "import findspark\n",
        "findspark.init(\"spark-3.4.0-bin-hadoop3\")# SPARK_HOME\n",
        "from pyspark.sql import SparkSession\n",
        "spark = SparkSession.builder.master(\"local[*]\").getOrCreate() #SPARK SESSION\n",
        "\n",
        "import pyspark\n",
        "type(spark)"
      ],
      "metadata": {
        "id": "31olTxr0DCcc",
        "colab": {
          "base_uri": "https://localhost:8080/"
        },
        "outputId": "a3db8ac1-ef99-45a4-b171-986fb4958e2c"
      },
      "execution_count": 36,
      "outputs": [
        {
          "output_type": "execute_result",
          "data": {
            "text/plain": [
              "pyspark.sql.session.SparkSession"
            ]
          },
          "metadata": {},
          "execution_count": 36
        }
      ]
    },
    {
      "cell_type": "code",
      "source": [
        "file_path = './full_data.csv'"
      ],
      "metadata": {
        "id": "UUzBvyRNZpju"
      },
      "execution_count": 39,
      "outputs": []
    },
    {
      "cell_type": "code",
      "source": [
        "data = spark.read.csv(file_path, header=True)"
      ],
      "metadata": {
        "id": "kieEF1BDZq2b"
      },
      "execution_count": 40,
      "outputs": []
    },
    {
      "cell_type": "code",
      "source": [
        "# withReplacement=True to (maybe) create duplicates which could be detected\n",
        "small_data = data.sample(withReplacement=True, fraction=0.00007, seed=42)"
      ],
      "metadata": {
        "id": "32Qu4BgOZ-e_"
      },
      "execution_count": 41,
      "outputs": []
    },
    {
      "cell_type": "code",
      "source": [
        "from pyspark.sql.functions import monotonically_increasing_id"
      ],
      "metadata": {
        "id": "kVc5E5iaZ3kq"
      },
      "execution_count": 42,
      "outputs": []
    },
    {
      "cell_type": "code",
      "source": [
        "dataset = small_data.select('TEXT', 'LABEL').withColumn('doc_id', monotonically_increasing_id())"
      ],
      "metadata": {
        "id": "vgopONHhZ7F2"
      },
      "execution_count": 44,
      "outputs": []
    },
    {
      "cell_type": "code",
      "source": [
        "dataset.show()"
      ],
      "metadata": {
        "colab": {
          "base_uri": "https://localhost:8080/"
        },
        "id": "ReIMzNLhcLIn",
        "outputId": "6ab903e8-d8ea-4834-ee95-3d69036f7172"
      },
      "execution_count": 49,
      "outputs": [
        {
          "output_type": "stream",
          "name": "stdout",
          "text": [
            "+--------------------+--------------------+----------+\n",
            "|                TEXT|               LABEL|    doc_id|\n",
            "+--------------------+--------------------+----------+\n",
            "|by sequential aci...|gel filtration|ph...|         0|\n",
            "|two case reports ...|parotid gland|sal...|         1|\n",
            "|because the pancr...|total parenteral ...|         2|\n",
            "|rat brain SSA des...|succinic semialde...|         3|\n",
            "|the physiological...|central|general|m...|         4|\n",
            "|we have studied f...|             history|         5|\n",
            "|exercise tests wi...|ischemic|heart|ac...|         6|\n",
            "|the concentration...|serum|liver|homog...|8589934592|\n",
            "|the authors repor...|side effects|onse...|8589934593|\n",
            "|ocular movement w...|parkinsons diseas...|8589934594|\n",
            "|in order to evalu...|           detection|8589934595|\n",
            "|the characteristi...|           detection|8589934596|\n",
            "|to determine the ...|specific|injectio...|8589934597|\n",
            "|we studied a seri...|development|speci...|8589934598|\n",
            "|we assessed the a...|glucose|errors|gl...|8589934599|\n",
            "|two methods for t...|  large|model|stress|8589934600|\n",
            "|hypercalcaemic hy...|         development|8589934601|\n",
            "|ultrastructural d...|bodies|large|vesi...|8589934602|\n",
            "|conscientious pre...|alone|biochemical...|8589934603|\n",
            "|a simple timecycl...|        bronchoscope|8589934604|\n",
            "+--------------------+--------------------+----------+\n",
            "only showing top 20 rows\n",
            "\n"
          ]
        }
      ]
    },
    {
      "cell_type": "markdown",
      "source": [
        "# Text preprocessing"
      ],
      "metadata": {
        "id": "8D7WFELiaaRB"
      }
    },
    {
      "cell_type": "code",
      "source": [
        "%%capture\n",
        "!pip install spacy\n",
        "!python -m spacy download en_core_web_sm"
      ],
      "metadata": {
        "id": "RqOrovnTad0X"
      },
      "execution_count": 11,
      "outputs": []
    },
    {
      "cell_type": "code",
      "source": [
        "# Import spaCy and download the English model\n",
        "import spacy\n",
        "import en_core_web_sm\n",
        "\n",
        "# Load the spaCy English model FORSE NON SERVE BOH\n",
        "nlp = en_core_web_sm.load()\n",
        "\n",
        "import string"
      ],
      "metadata": {
        "id": "zKj-w0A2av7z"
      },
      "execution_count": 12,
      "outputs": []
    },
    {
      "cell_type": "code",
      "source": [
        "def preprocess_text(text):\n",
        "    # Initialize spaCy resources\n",
        "    nlp = spacy.load(\"en_core_web_sm\")\n",
        "\n",
        "    # Apply spaCy NLP pipeline\n",
        "    doc = nlp(text)\n",
        "\n",
        "    # Lemmatize and remove stopwords\n",
        "    tokens = [token.lemma_.lower() for token in doc if not token.is_stop and token.text not in string.punctuation]\n",
        "\n",
        "    # Join tokens back into a text\n",
        "    cleaned_text = \" \".join(tokens)\n",
        "\n",
        "    return cleaned_text"
      ],
      "metadata": {
        "id": "ZE7sjUo-a0sw"
      },
      "execution_count": 13,
      "outputs": []
    },
    {
      "cell_type": "code",
      "source": [
        "# UDF --\n",
        "\n",
        "from pyspark.sql.functions import udf\n",
        "from pyspark.sql.types import StringType\n",
        "\n",
        "# Register the UDF with Spark\n",
        "preprocess_udf_spark = udf(preprocess_text, StringType())"
      ],
      "metadata": {
        "id": "oGprMrV5a2Sy"
      },
      "execution_count": 14,
      "outputs": []
    },
    {
      "cell_type": "code",
      "source": [
        "df_prepr = dataset.withColumn(\"preprocessed_text\", preprocess_udf_spark(dataset['TEXT']))"
      ],
      "metadata": {
        "id": "enpfKB7za4_i"
      },
      "execution_count": 50,
      "outputs": []
    },
    {
      "cell_type": "code",
      "source": [
        "df_prepr.show()"
      ],
      "metadata": {
        "colab": {
          "base_uri": "https://localhost:8080/"
        },
        "id": "ZJbyinofbGLQ",
        "outputId": "ab9fa093-db70-4886-95fb-9acdb6c6e9d4"
      },
      "execution_count": 51,
      "outputs": [
        {
          "output_type": "stream",
          "name": "stdout",
          "text": [
            "+--------------------+--------------------+----------+--------------------+\n",
            "|                TEXT|               LABEL|    doc_id|   preprocessed_text|\n",
            "+--------------------+--------------------+----------+--------------------+\n",
            "|by sequential aci...|gel filtration|ph...|         0|sequential acid t...|\n",
            "|two case reports ...|parotid gland|sal...|         1|case report pure ...|\n",
            "|because the pancr...|total parenteral ...|         2|pancrea undergo i...|\n",
            "|rat brain SSA des...|succinic semialde...|         3|rat brain ssa des...|\n",
            "|the physiological...|central|general|m...|         4|physiological eff...|\n",
            "|we have studied f...|             history|         5|study unrelated m...|\n",
            "|exercise tests wi...|ischemic|heart|ac...|         6|exercise test bic...|\n",
            "|the concentration...|serum|liver|homog...|8589934592|concentration som...|\n",
            "|the authors repor...|side effects|onse...|8589934593|author report cas...|\n",
            "|ocular movement w...|parkinsons diseas...|8589934594|ocular movement s...|\n",
            "|in order to evalu...|           detection|8589934595|order evaluate re...|\n",
            "|the characteristi...|           detection|8589934596|characteristic he...|\n",
            "|to determine the ...|specific|injectio...|8589934597|determine relativ...|\n",
            "|we studied a seri...|development|speci...|8589934598|study series eye ...|\n",
            "|we assessed the a...|glucose|errors|gl...|8589934599|assess analytical...|\n",
            "|two methods for t...|  large|model|stress|8589934600|method assay seru...|\n",
            "|hypercalcaemic hy...|         development|8589934601|hypercalcaemic hy...|\n",
            "|ultrastructural d...|bodies|large|vesi...|8589934602|ultrastructural d...|\n",
            "|conscientious pre...|alone|biochemical...|8589934603|conscientious pre...|\n",
            "|a simple timecycl...|        bronchoscope|8589934604|simple timecycle ...|\n",
            "+--------------------+--------------------+----------+--------------------+\n",
            "only showing top 20 rows\n",
            "\n"
          ]
        }
      ]
    },
    {
      "cell_type": "markdown",
      "source": [
        "# Shingling"
      ],
      "metadata": {
        "id": "1Lsmp1rubUs7"
      }
    },
    {
      "cell_type": "code",
      "source": [
        "# create new dataframe w/ just doc_id, preprocessed_text\n",
        "\n",
        "df = df_prepr.select(\"doc_id\", \"preprocessed_text\")"
      ],
      "metadata": {
        "id": "JN5jh4Qtb7Ul"
      },
      "execution_count": 52,
      "outputs": []
    },
    {
      "cell_type": "code",
      "source": [
        "df.show()"
      ],
      "metadata": {
        "colab": {
          "base_uri": "https://localhost:8080/"
        },
        "id": "dqcjounEd8Rx",
        "outputId": "2764984c-4251-464c-f248-413eef7b1d7a"
      },
      "execution_count": 53,
      "outputs": [
        {
          "output_type": "stream",
          "name": "stdout",
          "text": [
            "+----------+--------------------+\n",
            "|    doc_id|   preprocessed_text|\n",
            "+----------+--------------------+\n",
            "|         0|sequential acid t...|\n",
            "|         1|case report pure ...|\n",
            "|         2|pancrea undergo i...|\n",
            "|         3|rat brain ssa des...|\n",
            "|         4|physiological eff...|\n",
            "|         5|study unrelated m...|\n",
            "|         6|exercise test bic...|\n",
            "|8589934592|concentration som...|\n",
            "|8589934593|author report cas...|\n",
            "|8589934594|ocular movement s...|\n",
            "|8589934595|order evaluate re...|\n",
            "|8589934596|characteristic he...|\n",
            "|8589934597|determine relativ...|\n",
            "|8589934598|study series eye ...|\n",
            "|8589934599|assess analytical...|\n",
            "|8589934600|method assay seru...|\n",
            "|8589934601|hypercalcaemic hy...|\n",
            "|8589934602|ultrastructural d...|\n",
            "|8589934603|conscientious pre...|\n",
            "|8589934604|simple timecycle ...|\n",
            "+----------+--------------------+\n",
            "only showing top 20 rows\n",
            "\n"
          ]
        }
      ]
    },
    {
      "cell_type": "code",
      "source": [
        "print(20**5, 2**16, 2**32)"
      ],
      "metadata": {
        "colab": {
          "base_uri": "https://localhost:8080/"
        },
        "id": "ScJmYgkIdPha",
        "outputId": "0fb7ee89-e2af-4212-9b56-1454cfa7bfaa"
      },
      "execution_count": 19,
      "outputs": [
        {
          "output_type": "stream",
          "name": "stdout",
          "text": [
            "3200000 65536 4294967296\n"
          ]
        }
      ]
    },
    {
      "cell_type": "code",
      "source": [
        "# per ora mi tengo k = 5 che ha senso per tipo di doc anche se non trovo roba e hasho su\n",
        "# 4 byte anche se sono molti di più, lo uso solo per mappare a numeri"
      ],
      "metadata": {
        "id": "jY3MoQzAdqnB"
      },
      "execution_count": 20,
      "outputs": []
    },
    {
      "cell_type": "code",
      "source": [
        "def get_shingles(text, k):\n",
        "    shingles = set()\n",
        "    for i in range(0, len(text)-k+1 ):\n",
        "        shingles.add(text[i:i+k])\n",
        "    return list(shingles)"
      ],
      "metadata": {
        "id": "dhoFvM1RbQr6"
      },
      "execution_count": 54,
      "outputs": []
    },
    {
      "cell_type": "code",
      "source": [
        "shingled_rdd = df.rdd.map(lambda x : (x[0], get_shingles(x[1], 5)))"
      ],
      "metadata": {
        "id": "YJx1jjUYbpbz"
      },
      "execution_count": 55,
      "outputs": []
    },
    {
      "cell_type": "code",
      "source": [
        "shingled_rdd.toDF().show()"
      ],
      "metadata": {
        "colab": {
          "base_uri": "https://localhost:8080/"
        },
        "id": "ZYHhHAbleSPU",
        "outputId": "5bf5814c-f4e4-4099-e356-ac127a7e0957"
      },
      "execution_count": 56,
      "outputs": [
        {
          "output_type": "stream",
          "name": "stdout",
          "text": [
            "+----------+--------------------+\n",
            "|        _1|                  _2|\n",
            "+----------+--------------------+\n",
            "|         0|[gh te, n hig, em...|\n",
            "|         1|[logic,  comp, ss...|\n",
            "|         2|[ily c, mm un, la...|\n",
            "|         3|[ fatt, se ac, ip...|\n",
            "|         4|[consc, the s, ve...|\n",
            "|         5|[ted m, n ava, et...|\n",
            "|         6|[ho he, lay m, le...|\n",
            "|8589934592|[ rat ,  tiss, ea...|\n",
            "|8589934593|[cal s, logic, ib...|\n",
            "|8589934594|[ sacc, ease , ar...|\n",
            "|8589934595|[de ip, y gre, l ...|\n",
            "|8589934596|[fecti, runca, es...|\n",
            "|8589934597|[ifera, n hig,  r...|\n",
            "|8589934598|[ease , tpron, ic...|\n",
            "|8589934599|[ce co, nicon, ep...|\n",
            "|8589934600|[der a, ense , ai...|\n",
            "|8589934601|[al fa, cal s, ea...|\n",
            "|8589934602|[cal s,  squi, yt...|\n",
            "|8589934603|[consc, cal s, sl...|\n",
            "|8589934604|[ntila, n sim, n ...|\n",
            "+----------+--------------------+\n",
            "only showing top 20 rows\n",
            "\n"
          ]
        }
      ]
    },
    {
      "cell_type": "code",
      "source": [
        "# CLASS HASH FAMILY\n",
        "\n",
        "import re, hashlib, math, time\n",
        "from random import randint, seed\n",
        "\n",
        "# scoprire esattamente a cosa serve\n",
        "seed(16)\n",
        "\n",
        "class hashFamily:\n",
        "    def __init__(self, i):\n",
        "        self.resultSize = 4 # how many bytes we want back\n",
        "        self.maxLen = 20 # how long can our i be (in decimal)\n",
        "        self.salt = str(i).zfill(self.maxLen)[-self.maxLen:]\n",
        "        self.id = i\n",
        "\n",
        "    def get_hash_value(self, el_to_hash):\n",
        "        return int(hashlib.sha1(str(el_to_hash).encode('utf-8') + self.salt.encode('utf-8')).hexdigest()[-self.resultSize:], 16)\n"
      ],
      "metadata": {
        "id": "lM7ErG68fJVY"
      },
      "execution_count": 57,
      "outputs": []
    },
    {
      "cell_type": "code",
      "source": [
        "h_f = hashFamily(5)\n",
        "\n",
        "print(\"ciao: \", h_f.get_hash_value(\"ciao\"), \", \", \"ciao\", h_f.get_hash_value(\"ciao\"))"
      ],
      "metadata": {
        "colab": {
          "base_uri": "https://localhost:8080/"
        },
        "id": "FsAUHZ8tnykX",
        "outputId": "dbdcfc27-56a2-4b4c-dfee-8b2d252c49ed"
      },
      "execution_count": 62,
      "outputs": [
        {
          "output_type": "stream",
          "name": "stdout",
          "text": [
            "ciao:  32651 ,  ciao 32651\n"
          ]
        }
      ]
    },
    {
      "cell_type": "code",
      "source": [
        "# Hash shingles\n",
        "\n",
        "def get_hashed_shingles(shingles_set):\n",
        "  hash_func = hashFamily(0)\n",
        "  return sorted({hash_func.get_hash_value(s) for s in set(shingles_set)})"
      ],
      "metadata": {
        "id": "VD9MkF0pfbdW"
      },
      "execution_count": 58,
      "outputs": []
    },
    {
      "cell_type": "code",
      "source": [
        "hashed_shingles_rdd = shingled_rdd.map(lambda x: (x[0], get_hashed_shingles(x[1])))"
      ],
      "metadata": {
        "id": "X3YaMtwkfe43"
      },
      "execution_count": 59,
      "outputs": []
    },
    {
      "cell_type": "code",
      "source": [
        "hashed_shingles_rdd.toDF().show()"
      ],
      "metadata": {
        "colab": {
          "base_uri": "https://localhost:8080/"
        },
        "id": "XLTSZyskgrd-",
        "outputId": "1c334fd0-adde-45e4-b8d3-31f8c12e5385"
      },
      "execution_count": 60,
      "outputs": [
        {
          "output_type": "stream",
          "name": "stdout",
          "text": [
            "+----------+--------------------+\n",
            "|        _1|                  _2|\n",
            "+----------+--------------------+\n",
            "|         0|[21, 98, 285, 287...|\n",
            "|         1|[328, 446, 460, 1...|\n",
            "|         2|[10, 28, 222, 287...|\n",
            "|         3|[266, 284, 287, 3...|\n",
            "|         4|[172, 210, 284, 4...|\n",
            "|         5|[99, 134, 222, 24...|\n",
            "|         6|[5, 100, 159, 329...|\n",
            "|8589934592|[382, 525, 540, 6...|\n",
            "|8589934593|[493, 580, 1260, ...|\n",
            "|8589934594|[537, 630, 655, 7...|\n",
            "|8589934595|[446, 550, 668, 7...|\n",
            "|8589934596|[88, 641, 880, 98...|\n",
            "|8589934597|[54, 147, 223, 39...|\n",
            "|8589934598|[238, 444, 655, 7...|\n",
            "|8589934599|[86, 287, 353, 44...|\n",
            "|8589934600|[11, 54, 144, 147...|\n",
            "|8589934601|[5, 42, 48, 210, ...|\n",
            "|8589934602|[5, 21, 242, 295,...|\n",
            "|8589934603|[134, 319, 328, 4...|\n",
            "|8589934604|[60, 147, 446, 56...|\n",
            "+----------+--------------------+\n",
            "only showing top 20 rows\n",
            "\n"
          ]
        }
      ]
    },
    {
      "cell_type": "markdown",
      "source": [
        "# Min Hashing"
      ],
      "metadata": {
        "id": "Fhp4j1n_ksfA"
      }
    },
    {
      "cell_type": "code",
      "source": [
        "# Function to replicate each element with a different number\n",
        "def replicate_element_with_number(element, i):\n",
        "    doc_id, shingles = element\n",
        "    return [(doc_id, shingles, j) for j in range(1, i + 1)]"
      ],
      "metadata": {
        "id": "nJs6Yer4gubb"
      },
      "execution_count": 82,
      "outputs": []
    },
    {
      "cell_type": "code",
      "source": [
        "desired_i = 300"
      ],
      "metadata": {
        "id": "1QYl9SbvuAwP"
      },
      "execution_count": 83,
      "outputs": []
    },
    {
      "cell_type": "code",
      "source": [
        "docId_shingles_hFunc_rdd  = hashed_shingles_rdd.flatMap(lambda x:\n",
        "                                                        replicate_element_with_number(x, desired_i))"
      ],
      "metadata": {
        "id": "ZhTq-MeolQEG"
      },
      "execution_count": 84,
      "outputs": []
    },
    {
      "cell_type": "code",
      "source": [
        "docId_shingles_hFunc_rdd.toDF().show()"
      ],
      "metadata": {
        "colab": {
          "base_uri": "https://localhost:8080/"
        },
        "id": "MyPmnst7oLwm",
        "outputId": "213346ad-7c77-45a9-bcc7-90963391c3a6"
      },
      "execution_count": 85,
      "outputs": [
        {
          "output_type": "stream",
          "name": "stdout",
          "text": [
            "+---+--------------------+---+\n",
            "| _1|                  _2| _3|\n",
            "+---+--------------------+---+\n",
            "|  0|[21, 98, 285, 287...|  1|\n",
            "|  0|[21, 98, 285, 287...|  2|\n",
            "|  0|[21, 98, 285, 287...|  3|\n",
            "|  0|[21, 98, 285, 287...|  4|\n",
            "|  0|[21, 98, 285, 287...|  5|\n",
            "|  0|[21, 98, 285, 287...|  6|\n",
            "|  0|[21, 98, 285, 287...|  7|\n",
            "|  0|[21, 98, 285, 287...|  8|\n",
            "|  0|[21, 98, 285, 287...|  9|\n",
            "|  0|[21, 98, 285, 287...| 10|\n",
            "|  0|[21, 98, 285, 287...| 11|\n",
            "|  0|[21, 98, 285, 287...| 12|\n",
            "|  0|[21, 98, 285, 287...| 13|\n",
            "|  0|[21, 98, 285, 287...| 14|\n",
            "|  0|[21, 98, 285, 287...| 15|\n",
            "|  0|[21, 98, 285, 287...| 16|\n",
            "|  0|[21, 98, 285, 287...| 17|\n",
            "|  0|[21, 98, 285, 287...| 18|\n",
            "|  0|[21, 98, 285, 287...| 19|\n",
            "|  0|[21, 98, 285, 287...| 20|\n",
            "+---+--------------------+---+\n",
            "only showing top 20 rows\n",
            "\n"
          ]
        }
      ]
    },
    {
      "cell_type": "code",
      "source": [
        "hashed_shingles_rdd.count()"
      ],
      "metadata": {
        "colab": {
          "base_uri": "https://localhost:8080/"
        },
        "id": "hgb78EKBoWWX",
        "outputId": "074e2edc-27e0-41ae-e24e-44b6dbc4eedf"
      },
      "execution_count": 86,
      "outputs": [
        {
          "output_type": "execute_result",
          "data": {
            "text/plain": [
              "986"
            ]
          },
          "metadata": {},
          "execution_count": 86
        }
      ]
    },
    {
      "cell_type": "code",
      "source": [
        "docId_shingles_hFunc_rdd.count()"
      ],
      "metadata": {
        "colab": {
          "base_uri": "https://localhost:8080/"
        },
        "id": "lMi28sm1u4BF",
        "outputId": "747b20da-f9f2-417d-95d1-5f907f63c8d2"
      },
      "execution_count": 87,
      "outputs": [
        {
          "output_type": "execute_result",
          "data": {
            "text/plain": [
              "295800"
            ]
          },
          "metadata": {},
          "execution_count": 87
        }
      ]
    },
    {
      "cell_type": "markdown",
      "source": [
        "verifica riuscita\n",
        "![image.png](data:image/png;base64,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)"
      ],
      "metadata": {
        "id": "3tLfewDy2WjY"
      }
    },
    {
      "cell_type": "code",
      "source": [
        "def minhash_map(docId_ShingleSet_hFunct):\n",
        "    doc_id = docId_ShingleSet_hFunct[0]\n",
        "    shingles = docId_ShingleSet_hFunct[1]\n",
        "    hash_f = hashFamily( docId_ShingleSet_hFunct[2] )\n",
        "    min_h = math.inf\n",
        "    for el in shingles:\n",
        "        hash_value = hash_f.get_hash_value(el)\n",
        "        if hash_value < min_h:\n",
        "            min_h = hash_value\n",
        "\n",
        "    return (doc_id, min_h )"
      ],
      "metadata": {
        "id": "qCF86_eWu5yl"
      },
      "execution_count": 88,
      "outputs": []
    },
    {
      "cell_type": "code",
      "source": [
        "sig_matrix = docId_shingles_hFunc_rdd.map(minhash_map).groupByKey().map(lambda x : (x[0], list(x[1])))"
      ],
      "metadata": {
        "id": "Neu2csfY3I2D"
      },
      "execution_count": 89,
      "outputs": []
    },
    {
      "cell_type": "code",
      "source": [
        "sig_matrix.toDF().show()"
      ],
      "metadata": {
        "colab": {
          "base_uri": "https://localhost:8080/"
        },
        "id": "47Be7nwT3PDz",
        "outputId": "94c7b852-441f-45db-9fb7-f002e952d013"
      },
      "execution_count": 90,
      "outputs": [
        {
          "output_type": "stream",
          "name": "stdout",
          "text": [
            "+------------+--------------------+\n",
            "|          _1|                  _2|\n",
            "+------------+--------------------+\n",
            "|           0|[397, 137, 417, 6...|\n",
            "| 60129542146|[77, 383, 36, 5, ...|\n",
            "|120259084292|[35, 346, 74, 287...|\n",
            "|180388626438|[35, 26, 47, 5, 6...|\n",
            "|240518168584|[1332, 1440, 383,...|\n",
            "|420906795022|[39, 123, 66, 25,...|\n",
            "|515396075521|[46, 95, 137, 25,...|\n",
            "|575525617667|[17, 105, 66, 82,...|\n",
            "|635655159813|[39, 26, 284, 220...|\n",
            "|695784701959|[97, 21, 44, 537,...|\n",
            "|           1|[121, 738, 494, 2...|\n",
            "| 60129542147|[179, 21, 11, 105...|\n",
            "|120259084293|[47, 492, 243, 15...|\n",
            "|180388626439|[73, 160, 243, 5,...|\n",
            "|240518168585|[5, 35, 74, 25, 5...|\n",
            "|455266533376|[97, 1428, 44, 55...|\n",
            "|515396075522|[97, 53, 47, 25, ...|\n",
            "|575525617668|[1315, 224, 33, 5...|\n",
            "|635655159814|[380, 21, 22, 13,...|\n",
            "|695784701960|[52, 21, 74, 91, ...|\n",
            "+------------+--------------------+\n",
            "only showing top 20 rows\n",
            "\n"
          ]
        }
      ]
    },
    {
      "cell_type": "markdown",
      "source": [
        "# LSH"
      ],
      "metadata": {
        "id": "g93SPuJU4Wxb"
      }
    },
    {
      "cell_type": "markdown",
      "source": [
        "## Banding technique: b and r choice"
      ],
      "metadata": {
        "id": "-v2pAO5T4dKa"
      }
    },
    {
      "cell_type": "code",
      "source": [
        "from scipy.optimize import fsolve\n",
        "\n",
        "# Define a function that represents the system of equations\n",
        "def equations(vars):\n",
        "    b, r = vars\n",
        "    eq1 = 0.7 - ((1 / b) ** (1 / r))\n",
        "    eq2 = b * r - 300\n",
        "    return [eq1, eq2]\n",
        "\n",
        "# Initial guess for the solution\n",
        "initial_guess = [1.0, 1.0]  # You can change these initial values\n",
        "\n",
        "# Solve the system of equations\n",
        "result = fsolve(equations, initial_guess)\n",
        "\n",
        "# Extract the values of b and r from the result\n",
        "b_solution, r_solution = result\n",
        "\n",
        "# Print the solutions\n",
        "print(f\"Approximate b: {b_solution}\")\n",
        "print(f\"Approximate r: {r_solution}\")\n"
      ],
      "metadata": {
        "colab": {
          "base_uri": "https://localhost:8080/"
        },
        "id": "zH1-C9Do3RuY",
        "outputId": "24265815-a015-4f98-c2e2-feb8e6d6156d"
      },
      "execution_count": 91,
      "outputs": [
        {
          "output_type": "stream",
          "name": "stdout",
          "text": [
            "Approximate b: 31.123733607951603\n",
            "Approximate r: 9.638946399547725\n"
          ]
        }
      ]
    },
    {
      "cell_type": "code",
      "source": [
        "b = 30\n",
        "r = 10\n",
        "\n",
        "t = ((1 / b) ** (1 / r))\n",
        "\n",
        "print(\"My threshold to be candidate: \", t)"
      ],
      "metadata": {
        "colab": {
          "base_uri": "https://localhost:8080/"
        },
        "id": "4w3_bxie4jIo",
        "outputId": "922bed42-9c01-4bc7-90b7-e0fe2843305a"
      },
      "execution_count": 92,
      "outputs": [
        {
          "output_type": "stream",
          "name": "stdout",
          "text": [
            "My threshold to be candidate:  0.7116851017915987\n"
          ]
        }
      ]
    },
    {
      "cell_type": "markdown",
      "source": [
        "## Map docs to buckets"
      ],
      "metadata": {
        "id": "RDwmh9w142m7"
      }
    },
    {
      "cell_type": "code",
      "source": [
        "def map_buckets(row):\n",
        "\n",
        "    band_nr = 30\n",
        "    row_nr = 10\n",
        "    doc_id = row[0]\n",
        "    doc_sign = row[1]\n",
        "    hash_funct = hashFamily(1)\n",
        "    out = []\n",
        "\n",
        "    for i in range(0,band_nr):\n",
        "        band_id = i\n",
        "        idx = i*row_nr\n",
        "        set_col = ' '.join(str(x) for x in doc_sign[idx:idx+row_nr])\n",
        "        bucket = hash_funct.get_hash_value(set_col)\n",
        "        out.append( ( (band_id, bucket), doc_id)  )\n",
        "\n",
        "    return iter(out) #since we are going to return multiple tuple we call flatMap() and return an iterator on those tuple\n"
      ],
      "metadata": {
        "id": "JxyGtDkE4uol"
      },
      "execution_count": 93,
      "outputs": []
    },
    {
      "cell_type": "code",
      "source": [
        "candidates = sig_matrix.flatMap(map_buckets).groupByKey().map(lambda x : (x[0], list(x[1])))"
      ],
      "metadata": {
        "id": "PZTe64us49my"
      },
      "execution_count": 94,
      "outputs": []
    },
    {
      "cell_type": "markdown",
      "source": [
        "## Generate candidate pairs"
      ],
      "metadata": {
        "id": "p6ofdi1t5Qoa"
      }
    },
    {
      "cell_type": "code",
      "source": [
        "from itertools import combinations"
      ],
      "metadata": {
        "id": "lWsJPAdA5UHv"
      },
      "execution_count": 95,
      "outputs": []
    },
    {
      "cell_type": "code",
      "source": [
        "def generate_pairs(rdd):\n",
        "    # Function to generate pairs from a list while considering (a, b) the same as (b, a)\n",
        "    def generate_unique_pairs(values):\n",
        "        pairs = list(combinations(values, 2))\n",
        "        #sorted_pairs = [tuple(sorted(pair)) for pair in pairs]\n",
        "        return pairs\n",
        "\n",
        "    # Generate pairs for each row\n",
        "    pairs_rdd = rdd.flatMap(lambda row: generate_unique_pairs(row[1]))\n",
        "\n",
        "    # Collect all pairs and deduplicate them\n",
        "    unique_pairs = pairs_rdd.collect()\n",
        "    unique_pairs = list(set(unique_pairs))\n",
        "\n",
        "    return unique_pairs"
      ],
      "metadata": {
        "id": "f77Rt9TI5WGP"
      },
      "execution_count": 96,
      "outputs": []
    },
    {
      "cell_type": "code",
      "source": [
        "unique_pairs = generate_pairs(candidates)"
      ],
      "metadata": {
        "id": "eSiRiuEh5jQE"
      },
      "execution_count": 97,
      "outputs": []
    },
    {
      "cell_type": "code",
      "source": [
        "len(unique_pairs)"
      ],
      "metadata": {
        "colab": {
          "base_uri": "https://localhost:8080/"
        },
        "id": "kMJzDawa5nvj",
        "outputId": "14f437ca-5c1e-4051-ae44-ed4b0fcbe7c4"
      },
      "execution_count": 98,
      "outputs": [
        {
          "output_type": "execute_result",
          "data": {
            "text/plain": [
              "254"
            ]
          },
          "metadata": {},
          "execution_count": 98
        }
      ]
    },
    {
      "cell_type": "code",
      "source": [
        "print(unique_pairs)"
      ],
      "metadata": {
        "colab": {
          "base_uri": "https://localhost:8080/"
        },
        "id": "aYejHN0j-iY7",
        "outputId": "428a7915-5e17-4286-fac0-0f5c95683572"
      },
      "execution_count": 99,
      "outputs": [
        {
          "output_type": "stream",
          "name": "stdout",
          "text": [
            "[(944892805125, 438086664198), (412316860416, 266287972355), (335007449094, 25769803779), (197568495616, 326417514498), (343597383681, 412316860418), (446676598787, 962072674310), (420906795022, 369367187460), (867583393792, 867583393795), (94489280512, 781684047877), (429496729605, 463856467970), (214748364804, 807453851649), (317827579912, 111669149700), (283467841541, 42949672968), (515396075529, 558345748481), (283467841540, 352187318283), (352187318274, 652835029004), (867583393795, 936302870531), (352187318274, 627065225228), (575525617670, 8589934596), (395136991235, 738734374912), (188978561030, 523986010115), (128849018880, 377957122048), (515396075521, 652835029002), (42949672961, 936302870532), (300647710722, 695784701958), (463856467970, 317827579904), (188978561031, 463856467969), (214748364800, 549755813892), (386547056640, 635655159810), (824633720834, 652835029005), (523986010113, 652835028992), (274877906951, 858993459200), (944892805120, 51539607553), (609885356033, 77309411336), (4, 523986010112), (283467841540, 326417514500), (34359738372, 17179869186), (764504178690, 128849018884), (575525617668, 541165879299), (953482739715, 661424963588), (6, 154618822662), (94489280512, 661424963592), (515396075524, 652835029000), (575525617669, 541165879300), (901943132162, 541165879296), (644245094403, 352187318279), (833223655426, 352187318274), (317827579905, 360777252871), (515396075525, 292057776133), (257698037761, 592705486853), (618475290633, 566935683078), (549755813889, 704374636545), (317827579906, 326417514501), (652835029001, 481036337156), (309237645318, 111669149698), (154618822666, 816043786240), (292057776129, 240518168582), (489626271749, 171798691847), (274877906948, 867583393796), (335007449092, 601295421445), (34359738370, 523986010112), (154618822658, 824633720838), (188978561031, 103079215105), (730144440323, 627065225220), (146028888075, 300647710721), (34359738372, 17179869197), (343597383682, 42949672971), (704374636547, 532575944710), (386547056645, 816043786244), (412316860424, 876173328387), (429496729603, 644245094410), (0, 919123001347), (335007449092, 34359738369), (850403524608, 343597383685), (42949672968, 927712935939), (395136991234, 111669149703), (94489280516, 8589934592), (798863917056, 292057776129), (532575944710, 446676598785), (549755813890, 249108103176), (515396075521, 68719476738), (352187318277, 962072674304), (8589934597, 103079215104), (85899345925, 661424963593), (841813590020, 901943132168), (670014898178, 146028888071), (773094113283, 360777252875), (8589934602, 747324309509), (154618822658, 34359738368), (77309411335, 17179869196), (584115552258, 446676598791), (249108103172, 481036337157), (197568495622, 360777252872), (773094113288, 326417514505), (704374636549, 180388626437), (3, 146028888068), (188978561027, 498216206340), (695784701960, 188978561029), (824633720837, 68719476739), (154618822662, 927712935937), (601295421446, 146028888076), (455266533377, 566935683077), (695784701959, 223338299396), (790273982465, 644245094408), (25769803777, 876173328387), (790273982465, 824633720833), (309237645323, 876173328394), (773094113287, 266287972352), (17179869188, 300647710724), (395136991233, 309237645320), (858993459206, 231928233987), (429496729607, 704374636548), (335007449090, 403726925825), (927712935937, 566935683078), (369367187460, 463856467975), (627065225220, 180388626434), (893353197570, 781684047872), (42949672962, 627065225216), (790273982465, 670014898177), (188978561028, 257698037762), (927712935939, 146028888065), (661424963590, 541165879301), (429496729605, 197568495616), (489626271748, 506806140935), (128849018882, 798863917060), (644245094408, 773094113288), (8589934601, 927712935937), (429496729608, 575525617666), (395136991237, 283467841541), (841813590016, 541165879300), (154618822656, 8589934596), (309237645317, 919123001345), (4, 309237645320), (68719476739, 343597383684), (412316860418, 721554505728), (644245094407, 77309411328), (566935683075, 300647710723), (695784701962, 738734374914), (609885356032, 300647710723), (395136991240, 326417514501), (240518168586, 893353197570), (824633720832, 635655159808), (627065225216, 481036337153), (223338299393, 240518168581), (0, 919123001344), (910533066753, 395136991239), (283467841537, 360777252865), (51539607555, 876173328388), (489626271746, 300647710721), (309237645314, 721554505728), (764504178688, 292057776136), (438086664194, 240518168581), (678604832772, 876173328392), (670014898192, 670014898193), (738734374917, 712964571140), (154618822656, 249108103177), (292057776128, 695784701955), (790273982466, 85899345925), (3, 206158430210), (317827579905, 807453851652), (249108103175, 901943132166), (790273982469, 678604832778), (283467841536, 77309411328), (240518168588, 695784701952), (120259084293, 910533066760), (137438953478, 420906795019), (635655159814, 128849018886), (833223655424, 326417514502), (549755813895, 103079215106), (77309411331, 661424963586), (558345748482, 566935683072), (678604832778, 360777252868), (180388626439, 919123001348), (858993459205, 257698037762), (618475290633, 876173328389), (652835028997, 601295421442), (670014898191, 292057776129), (644245094407, 936302870532), (146028888073, 240518168583), (893353197569, 206158430211), (446676598787, 326417514504), (936302870530, 240518168583), (481036337153, 876173328389), (781684047874, 240518168576), (592705486851, 695784701954), (240518168585, 730144440324), (652835028994, 180388626433), (154618822664, 523986010115), (618475290632, 962072674304), (644245094407, 661424963587), (901943132161, 206158430210), (377957122052, 472446402564), (463856467971, 343597383680), (704374636549, 755914244098), (670014898176, 317827579907), (575525617669, 395136991240), (618475290628, 618475290630), (919123001347, 541165879299), (575525617665, 635655159812), (94489280516, 420906795016), (34359738369, 188978561030), (549755813891, 292057776131), (317827579904, 292057776131), (429496729605, 343597383681), (670014898176, 927712935938), (120259084293, 300647710727), (249108103175, 876173328394), (730144440324, 944892805122), (730144440327, 446676598789), (335007449088, 94489280513), (558345748484, 317827579914), (17179869192, 876173328385), (858993459201, 618475290637), (154618822662, 858993459203), (94489280512, 42949672969), (807453851648, 120259084290), (790273982469, 257698037762), (670014898188, 644245094410), (575525617670, 455266533379), (266287972352, 661424963587), (515396075526, 42949672964), (395136991234, 618475290633), (489626271746, 627065225229), (386547056640, 661424963589), (627065225229, 300647710721), (214748364802, 670014898182), (541165879298, 876173328396), (240518168587, 223338299395), (249108103172, 472446402561), (910533066757, 549755813894), (0, 884763262977), (489626271745, 489626271748), (231928233988, 541165879299), (824633720839, 627065225219), (68719476736, 326417514504), (558345748482, 137438953475), (670014898187, 566935683074), (188978561035, 936302870534), (652835028992, 386547056640), (592705486848, 412316860421), (8589934606, 712964571143), (343597383689, 85899345927), (910533066756, 352187318278), (670014898182, 712964571136), (747324309504, 292057776132), (395136991234, 343597383690), (670014898179, 489626271744), (515396075523, 420906795012), (77309411336, 721554505738), (807453851652, 85899345923), (335007449091, 575525617664), (249108103171, 618475290632), (395136991237, 42949672968), (335007449090, 231928233989)]\n"
          ]
        }
      ]
    },
    {
      "cell_type": "code",
      "source": [
        "# docs in candidate pairs\n",
        "\n",
        "# Flatten the list and get unique values\n",
        "candidate_docs = set(item for sublist in unique_pairs for item in sublist)"
      ],
      "metadata": {
        "id": "mxb_rdd_-tHf"
      },
      "execution_count": 100,
      "outputs": []
    },
    {
      "cell_type": "code",
      "source": [
        "len(candidate_docs)"
      ],
      "metadata": {
        "colab": {
          "base_uri": "https://localhost:8080/"
        },
        "id": "W8bofj4n_Esn",
        "outputId": "90514a70-1a86-44bf-bc24-ae9491208184"
      },
      "execution_count": 143,
      "outputs": [
        {
          "output_type": "execute_result",
          "data": {
            "text/plain": [
              "398"
            ]
          },
          "metadata": {},
          "execution_count": 143
        }
      ]
    },
    {
      "cell_type": "code",
      "source": [
        "print(candidate_docs)"
      ],
      "metadata": {
        "colab": {
          "base_uri": "https://localhost:8080/"
        },
        "id": "yIKj8dyH_Lw8",
        "outputId": "92f0f5a5-c28a-489f-92c7-accc5fd8f9a7"
      },
      "execution_count": 146,
      "outputs": [
        {
          "output_type": "stream",
          "name": "stdout",
          "text": [
            "{412316860416, 197568495616, 326417514498, 266287972355, 25769803779, 944892805125, 438086664198, 335007449094, 343597383681, 412316860418, 446676598787, 962072674310, 369367187460, 867583393792, 420906795022, 94489280512, 867583393795, 463856467970, 515396075529, 352187318283, 352187318274, 214748364804, 111669149700, 283467841540, 936302870531, 8589934596, 429496729605, 781684047877, 283467841541, 936302870532, 549755813892, 317827579904, 807453851649, 558345748481, 575525617670, 738734374912, 188978561030, 128849018880, 377957122048, 515396075521, 42949672961, 317827579912, 42949672968, 188978561031, 274877906951, 77309411336, 661424963592, 652835029000, 618475290633, 652835029001, 412316860424, 652835029002, 154618822666, 644245094410, 661424963593, 8589934602, 300647710722, 635655159810, 824633720834, 17179869186, 764504178690, 652835029004, 627065225228, 901943132162, 833223655426, 17179869196, 652835029005, 17179869197, 146028888076, 240518168588, 146028888065, 901943132161, 618475290637, 627065225229, 489626271745, 515396075526, 670014898191, 8589934606, 395136991235, 523986010115, 541165879299, 953482739715, 644245094403, 730144440323, 704374636547, 876173328387, 429496729603, 919123001347, 670014898193, 867583393796, 335007449092, 627065225220, 816043786244, 94489280516, 841813590020, 249108103172, 146028888068, 498216206340, 223338299396, 180388626434, 42949672962, 343597383680, 652835028997, 575525617669, 515396075525, 292057776133, 592705486853, 326417514501, 489626271749, 601295421445, 386547056645, 343597383685, 541165879296, 300647710721, 455266533377, 25769803777, 403726925825, 8589934592, 858993459206, 481036337153, 137438953478, 635655159814, 627065225219, 352187318279, 360777252871, 171798691847, 111669149703, 146028888071, 77309411335, 446676598791, 695784701959, 773094113287, 429496729607, 292057776136, 876173328392, 326417514504, 249108103176, 901943132168, 360777252872, 773094113288, 695784701960, 644245094408, 309237645320, 730144440324, 42949672964, 326417514505, 8589934601, 249108103177, 146028888073, 240518168585, 42949672969, 343597383689, 876173328394, 695784701962, 240518168586, 678604832778, 317827579914, 343597383690, 721554505738, 944892805120, 670014898176, 807453851648, 575525617666, 489626271746, 438086664194, 661424963586, 558345748482, 936302870530, 317827579906, 111669149698, 34359738370, 154618822658, 670014898188, 876173328396, 704374636545, 292057776129, 223338299393, 910533066753, 360777252865, 661424963590, 936302870534, 601295421442, 670014898178, 257698037762, 944892805122, 120259084290, 927712935939, 773094113283, 3, 188978561027, 68719476739, 231928233987, 566935683075, 300647710723, 51539607555, 670014898192, 386547056640, 223338299395, 85899345923, 824633720839, 712964571143, 85899345927, 876173328388, 807453851652, 412316860421, 609885356032, 816043786240, 266287972352, 335007449088, 747324309504, 4, 326417514500, 34359738372, 128849018884, 575525617668, 661424963588, 515396075524, 541165879300, 481036337156, 274877906948, 910533066757, 523986010112, 824633720832, 575525617665, 94489280513, 601295421446, 670014898182, 300647710724, 489626271748, 798863917060, 678604832772, 712964571140, 919123001348, 17179869188, 704374636548, 188978561028, 343597383684, 592705486848, 335007449090, 128849018882, 541165879298, 352187318277, 8589934597, 85899345925, 747324309509, 481036337157, 704374636549, 180388626437, 188978561029, 824633720837, 566935683077, 472446402564, 326417514502, 283467841537, 695784701958, 463856467969, 523986010113, 51539607553, 609885356033, 919123001345, 670014898177, 962072674304, 231928233989, 798863917056, 790273982465, 103079215105, 34359738369, 446676598785, 927712935937, 858993459201, 128849018886, 420906795019, 360777252875, 309237645323, 893353197570, 755914244098, 240518168587, 670014898187, 188978561035, 463856467975, 506806140935, 644245094407, 395136991239, 249108103175, 549755813895, 180388626439, 240518168583, 300647710727, 730144440327, 515396075523, 618475290628, 429496729608, 910533066760, 395136991240, 154618822664, 618475290632, 420906795016, 627065225216, 77309411328, 214748364800, 695784701952, 764504178688, 283467841536, 833223655424, 489626271744, 17179869192, 317827579905, 180388626433, 618475290630, 549755813894, 695784701954, 214748364802, 455266533379, 249108103171, 541165879301, 395136991237, 309237645317, 240518168581, 738734374917, 790273982469, 120259084293, 858993459205, 876173328389, 446676598789, 558345748484, 420906795012, 841813590016, 566935683072, 635655159808, 292057776128, 154618822656, 661424963589, 257698037761, 395136991233, 876173328385, 901943132166, 352187318278, 566935683074, 146028888075, 343597383682, 42949672971, 395136991234, 549755813890, 68719476738, 738734374914, 309237645314, 790273982466, 206158430210, 670014898179, 360777252868, 635655159812, 910533066756, 292057776132, 781684047872, 850403524608, 919123001344, 712964571136, 575525617664, 472446402561, 884763262977, 781684047874, 335007449091, 231928233988, 652835028992, 858993459200, 34359738368, 103079215104, 721554505728, 240518168576, 6, 154618822662, 566935683078, 549755813889, 309237645318, 240518168582, 824633720838, 532575944710, 0, 197568495622, 824633720833, 103079215106, 584115552258, 652835028994, 927712935938, 68719476736, 893353197569, 137438953475, 377957122052, 695784701955, 77309411331, 206158430211, 592705486851, 661424963587, 463856467971, 317827579907, 549755813891, 292057776131, 858993459203}\n"
          ]
        }
      ]
    },
    {
      "cell_type": "markdown",
      "source": [
        "# Approximate Jaccard similarity\n",
        "from signature matrix"
      ],
      "metadata": {
        "id": "MPzrNYT981LF"
      }
    },
    {
      "cell_type": "markdown",
      "source": [
        "## Retrieve portion of sig_matrix corresponding to candidate pairs"
      ],
      "metadata": {
        "id": "c3RiZkvY-Tk0"
      }
    },
    {
      "cell_type": "code",
      "source": [
        "filtered_sig_m_rdd = sig_matrix.filter(lambda x: x[0] in candidate_docs)"
      ],
      "metadata": {
        "id": "sJXZo2jd-RTk"
      },
      "execution_count": 103,
      "outputs": []
    },
    {
      "cell_type": "code",
      "source": [
        "import pandas as pd"
      ],
      "metadata": {
        "id": "kWCyp35_CSKf"
      },
      "execution_count": 109,
      "outputs": []
    },
    {
      "cell_type": "code",
      "source": [
        "to_convert_pd = filtered_sig_m_rdd.collect()"
      ],
      "metadata": {
        "id": "JEWNoJeL8fWM"
      },
      "execution_count": 108,
      "outputs": []
    },
    {
      "cell_type": "code",
      "source": [
        "sig_m_filtered_pd = pd.DataFrame(to_convert_pd, columns=[\"doc_id\", \"min_hash_values\"])"
      ],
      "metadata": {
        "id": "SJo0TbjTAqP7"
      },
      "execution_count": 110,
      "outputs": []
    },
    {
      "cell_type": "code",
      "source": [
        "sig_m_filtered_pd"
      ],
      "metadata": {
        "colab": {
          "base_uri": "https://localhost:8080/",
          "height": 423
        },
        "id": "dELSRs25Cgja",
        "outputId": "d76269fc-b9d7-4f7b-967a-a560e846c004"
      },
      "execution_count": 122,
      "outputs": [
        {
          "output_type": "execute_result",
          "data": {
            "text/plain": [
              "           doc_id                                    min_hash_values\n",
              "0               0  [397, 137, 417, 63, 75, 105, 163, 63, 95, 164,...\n",
              "1    420906795022  [39, 123, 66, 25, 7, 35, 74, 98, 82, 207, 338,...\n",
              "2    515396075521  [46, 95, 137, 25, 21, 178, 16, 476, 46, 2, 138...\n",
              "3    695784701959  [97, 21, 44, 537, 478, 637, 840, 417, 114, 2, ...\n",
              "4    120259084293  [47, 492, 243, 159, 33, 47, 9, 131, 26, 103, 2...\n",
              "..            ...                                                ...\n",
              "393  360777252875  [163, 190, 227, 185, 152, 68, 140, 146, 95, 2,...\n",
              "394  575525617666  [52, 949, 329, 308, 328, 120, 9, 481, 6, 229, ...\n",
              "395  635655159812  [10, 23, 155, 308, 122, 894, 29, 51, 231, 32, ...\n",
              "396  695784701958  [52, 583, 243, 162, 372, 282, 17, 144, 118, 95...\n",
              "397  876173328396  [5, 191, 22, 313, 878, 164, 73, 33, 26, 191, 8...\n",
              "\n",
              "[398 rows x 2 columns]"
            ],
            "text/html": [
              "\n",
              "  <div id=\"df-b557c7e8-98f2-48fb-a22e-06bd4d7ba75b\" class=\"colab-df-container\">\n",
              "    <div>\n",
              "<style scoped>\n",
              "    .dataframe tbody tr th:only-of-type {\n",
              "        vertical-align: middle;\n",
              "    }\n",
              "\n",
              "    .dataframe tbody tr th {\n",
              "        vertical-align: top;\n",
              "    }\n",
              "\n",
              "    .dataframe thead th {\n",
              "        text-align: right;\n",
              "    }\n",
              "</style>\n",
              "<table border=\"1\" class=\"dataframe\">\n",
              "  <thead>\n",
              "    <tr style=\"text-align: right;\">\n",
              "      <th></th>\n",
              "      <th>doc_id</th>\n",
              "      <th>min_hash_values</th>\n",
              "    </tr>\n",
              "  </thead>\n",
              "  <tbody>\n",
              "    <tr>\n",
              "      <th>0</th>\n",
              "      <td>0</td>\n",
              "      <td>[397, 137, 417, 63, 75, 105, 163, 63, 95, 164,...</td>\n",
              "    </tr>\n",
              "    <tr>\n",
              "      <th>1</th>\n",
              "      <td>420906795022</td>\n",
              "      <td>[39, 123, 66, 25, 7, 35, 74, 98, 82, 207, 338,...</td>\n",
              "    </tr>\n",
              "    <tr>\n",
              "      <th>2</th>\n",
              "      <td>515396075521</td>\n",
              "      <td>[46, 95, 137, 25, 21, 178, 16, 476, 46, 2, 138...</td>\n",
              "    </tr>\n",
              "    <tr>\n",
              "      <th>3</th>\n",
              "      <td>695784701959</td>\n",
              "      <td>[97, 21, 44, 537, 478, 637, 840, 417, 114, 2, ...</td>\n",
              "    </tr>\n",
              "    <tr>\n",
              "      <th>4</th>\n",
              "      <td>120259084293</td>\n",
              "      <td>[47, 492, 243, 159, 33, 47, 9, 131, 26, 103, 2...</td>\n",
              "    </tr>\n",
              "    <tr>\n",
              "      <th>...</th>\n",
              "      <td>...</td>\n",
              "      <td>...</td>\n",
              "    </tr>\n",
              "    <tr>\n",
              "      <th>393</th>\n",
              "      <td>360777252875</td>\n",
              "      <td>[163, 190, 227, 185, 152, 68, 140, 146, 95, 2,...</td>\n",
              "    </tr>\n",
              "    <tr>\n",
              "      <th>394</th>\n",
              "      <td>575525617666</td>\n",
              "      <td>[52, 949, 329, 308, 328, 120, 9, 481, 6, 229, ...</td>\n",
              "    </tr>\n",
              "    <tr>\n",
              "      <th>395</th>\n",
              "      <td>635655159812</td>\n",
              "      <td>[10, 23, 155, 308, 122, 894, 29, 51, 231, 32, ...</td>\n",
              "    </tr>\n",
              "    <tr>\n",
              "      <th>396</th>\n",
              "      <td>695784701958</td>\n",
              "      <td>[52, 583, 243, 162, 372, 282, 17, 144, 118, 95...</td>\n",
              "    </tr>\n",
              "    <tr>\n",
              "      <th>397</th>\n",
              "      <td>876173328396</td>\n",
              "      <td>[5, 191, 22, 313, 878, 164, 73, 33, 26, 191, 8...</td>\n",
              "    </tr>\n",
              "  </tbody>\n",
              "</table>\n",
              "<p>398 rows × 2 columns</p>\n",
              "</div>\n",
              "    <div class=\"colab-df-buttons\">\n",
              "\n",
              "  <div class=\"colab-df-container\">\n",
              "    <button class=\"colab-df-convert\" onclick=\"convertToInteractive('df-b557c7e8-98f2-48fb-a22e-06bd4d7ba75b')\"\n",
              "            title=\"Convert this dataframe to an interactive table.\"\n",
              "            style=\"display:none;\">\n",
              "\n",
              "  <svg xmlns=\"http://www.w3.org/2000/svg\" height=\"24px\" viewBox=\"0 -960 960 960\">\n",
              "    <path d=\"M120-120v-720h720v720H120Zm60-500h600v-160H180v160Zm220 220h160v-160H400v160Zm0 220h160v-160H400v160ZM180-400h160v-160H180v160Zm440 0h160v-160H620v160ZM180-180h160v-160H180v160Zm440 0h160v-160H620v160Z\"/>\n",
              "  </svg>\n",
              "    </button>\n",
              "\n",
              "  <style>\n",
              "    .colab-df-container {\n",
              "      display:flex;\n",
              "      gap: 12px;\n",
              "    }\n",
              "\n",
              "    .colab-df-convert {\n",
              "      background-color: #E8F0FE;\n",
              "      border: none;\n",
              "      border-radius: 50%;\n",
              "      cursor: pointer;\n",
              "      display: none;\n",
              "      fill: #1967D2;\n",
              "      height: 32px;\n",
              "      padding: 0 0 0 0;\n",
              "      width: 32px;\n",
              "    }\n",
              "\n",
              "    .colab-df-convert:hover {\n",
              "      background-color: #E2EBFA;\n",
              "      box-shadow: 0px 1px 2px rgba(60, 64, 67, 0.3), 0px 1px 3px 1px rgba(60, 64, 67, 0.15);\n",
              "      fill: #174EA6;\n",
              "    }\n",
              "\n",
              "    .colab-df-buttons div {\n",
              "      margin-bottom: 4px;\n",
              "    }\n",
              "\n",
              "    [theme=dark] .colab-df-convert {\n",
              "      background-color: #3B4455;\n",
              "      fill: #D2E3FC;\n",
              "    }\n",
              "\n",
              "    [theme=dark] .colab-df-convert:hover {\n",
              "      background-color: #434B5C;\n",
              "      box-shadow: 0px 1px 3px 1px rgba(0, 0, 0, 0.15);\n",
              "      filter: drop-shadow(0px 1px 2px rgba(0, 0, 0, 0.3));\n",
              "      fill: #FFFFFF;\n",
              "    }\n",
              "  </style>\n",
              "\n",
              "    <script>\n",
              "      const buttonEl =\n",
              "        document.querySelector('#df-b557c7e8-98f2-48fb-a22e-06bd4d7ba75b button.colab-df-convert');\n",
              "      buttonEl.style.display =\n",
              "        google.colab.kernel.accessAllowed ? 'block' : 'none';\n",
              "\n",
              "      async function convertToInteractive(key) {\n",
              "        const element = document.querySelector('#df-b557c7e8-98f2-48fb-a22e-06bd4d7ba75b');\n",
              "        const dataTable =\n",
              "          await google.colab.kernel.invokeFunction('convertToInteractive',\n",
              "                                                    [key], {});\n",
              "        if (!dataTable) return;\n",
              "\n",
              "        const docLinkHtml = 'Like what you see? Visit the ' +\n",
              "          '<a target=\"_blank\" href=https://colab.research.google.com/notebooks/data_table.ipynb>data table notebook</a>'\n",
              "          + ' to learn more about interactive tables.';\n",
              "        element.innerHTML = '';\n",
              "        dataTable['output_type'] = 'display_data';\n",
              "        await google.colab.output.renderOutput(dataTable, element);\n",
              "        const docLink = document.createElement('div');\n",
              "        docLink.innerHTML = docLinkHtml;\n",
              "        element.appendChild(docLink);\n",
              "      }\n",
              "    </script>\n",
              "  </div>\n",
              "\n",
              "\n",
              "<div id=\"df-5a857dd5-f1b7-4d62-9bc3-169e8b11953b\">\n",
              "  <button class=\"colab-df-quickchart\" onclick=\"quickchart('df-5a857dd5-f1b7-4d62-9bc3-169e8b11953b')\"\n",
              "            title=\"Suggest charts.\"\n",
              "            style=\"display:none;\">\n",
              "\n",
              "<svg xmlns=\"http://www.w3.org/2000/svg\" height=\"24px\"viewBox=\"0 0 24 24\"\n",
              "     width=\"24px\">\n",
              "    <g>\n",
              "        <path d=\"M19 3H5c-1.1 0-2 .9-2 2v14c0 1.1.9 2 2 2h14c1.1 0 2-.9 2-2V5c0-1.1-.9-2-2-2zM9 17H7v-7h2v7zm4 0h-2V7h2v10zm4 0h-2v-4h2v4z\"/>\n",
              "    </g>\n",
              "</svg>\n",
              "  </button>\n",
              "\n",
              "<style>\n",
              "  .colab-df-quickchart {\n",
              "      --bg-color: #E8F0FE;\n",
              "      --fill-color: #1967D2;\n",
              "      --hover-bg-color: #E2EBFA;\n",
              "      --hover-fill-color: #174EA6;\n",
              "      --disabled-fill-color: #AAA;\n",
              "      --disabled-bg-color: #DDD;\n",
              "  }\n",
              "\n",
              "  [theme=dark] .colab-df-quickchart {\n",
              "      --bg-color: #3B4455;\n",
              "      --fill-color: #D2E3FC;\n",
              "      --hover-bg-color: #434B5C;\n",
              "      --hover-fill-color: #FFFFFF;\n",
              "      --disabled-bg-color: #3B4455;\n",
              "      --disabled-fill-color: #666;\n",
              "  }\n",
              "\n",
              "  .colab-df-quickchart {\n",
              "    background-color: var(--bg-color);\n",
              "    border: none;\n",
              "    border-radius: 50%;\n",
              "    cursor: pointer;\n",
              "    display: none;\n",
              "    fill: var(--fill-color);\n",
              "    height: 32px;\n",
              "    padding: 0;\n",
              "    width: 32px;\n",
              "  }\n",
              "\n",
              "  .colab-df-quickchart:hover {\n",
              "    background-color: var(--hover-bg-color);\n",
              "    box-shadow: 0 1px 2px rgba(60, 64, 67, 0.3), 0 1px 3px 1px rgba(60, 64, 67, 0.15);\n",
              "    fill: var(--button-hover-fill-color);\n",
              "  }\n",
              "\n",
              "  .colab-df-quickchart-complete:disabled,\n",
              "  .colab-df-quickchart-complete:disabled:hover {\n",
              "    background-color: var(--disabled-bg-color);\n",
              "    fill: var(--disabled-fill-color);\n",
              "    box-shadow: none;\n",
              "  }\n",
              "\n",
              "  .colab-df-spinner {\n",
              "    border: 2px solid var(--fill-color);\n",
              "    border-color: transparent;\n",
              "    border-bottom-color: var(--fill-color);\n",
              "    animation:\n",
              "      spin 1s steps(1) infinite;\n",
              "  }\n",
              "\n",
              "  @keyframes spin {\n",
              "    0% {\n",
              "      border-color: transparent;\n",
              "      border-bottom-color: var(--fill-color);\n",
              "      border-left-color: var(--fill-color);\n",
              "    }\n",
              "    20% {\n",
              "      border-color: transparent;\n",
              "      border-left-color: var(--fill-color);\n",
              "      border-top-color: var(--fill-color);\n",
              "    }\n",
              "    30% {\n",
              "      border-color: transparent;\n",
              "      border-left-color: var(--fill-color);\n",
              "      border-top-color: var(--fill-color);\n",
              "      border-right-color: var(--fill-color);\n",
              "    }\n",
              "    40% {\n",
              "      border-color: transparent;\n",
              "      border-right-color: var(--fill-color);\n",
              "      border-top-color: var(--fill-color);\n",
              "    }\n",
              "    60% {\n",
              "      border-color: transparent;\n",
              "      border-right-color: var(--fill-color);\n",
              "    }\n",
              "    80% {\n",
              "      border-color: transparent;\n",
              "      border-right-color: var(--fill-color);\n",
              "      border-bottom-color: var(--fill-color);\n",
              "    }\n",
              "    90% {\n",
              "      border-color: transparent;\n",
              "      border-bottom-color: var(--fill-color);\n",
              "    }\n",
              "  }\n",
              "</style>\n",
              "\n",
              "  <script>\n",
              "    async function quickchart(key) {\n",
              "      const quickchartButtonEl =\n",
              "        document.querySelector('#' + key + ' button');\n",
              "      quickchartButtonEl.disabled = true;  // To prevent multiple clicks.\n",
              "      quickchartButtonEl.classList.add('colab-df-spinner');\n",
              "      try {\n",
              "        const charts = await google.colab.kernel.invokeFunction(\n",
              "            'suggestCharts', [key], {});\n",
              "      } catch (error) {\n",
              "        console.error('Error during call to suggestCharts:', error);\n",
              "      }\n",
              "      quickchartButtonEl.classList.remove('colab-df-spinner');\n",
              "      quickchartButtonEl.classList.add('colab-df-quickchart-complete');\n",
              "    }\n",
              "    (() => {\n",
              "      let quickchartButtonEl =\n",
              "        document.querySelector('#df-5a857dd5-f1b7-4d62-9bc3-169e8b11953b button');\n",
              "      quickchartButtonEl.style.display =\n",
              "        google.colab.kernel.accessAllowed ? 'block' : 'none';\n",
              "    })();\n",
              "  </script>\n",
              "</div>\n",
              "    </div>\n",
              "  </div>\n"
            ]
          },
          "metadata": {},
          "execution_count": 122
        }
      ]
    },
    {
      "cell_type": "code",
      "source": [
        "sig_m_filtered_pd.info()"
      ],
      "metadata": {
        "colab": {
          "base_uri": "https://localhost:8080/"
        },
        "id": "CNneb-cMCh4h",
        "outputId": "67b23f33-9a21-4c72-b397-76684a1775cf"
      },
      "execution_count": 113,
      "outputs": [
        {
          "output_type": "stream",
          "name": "stdout",
          "text": [
            "<class 'pandas.core.frame.DataFrame'>\n",
            "RangeIndex: 398 entries, 0 to 397\n",
            "Data columns (total 2 columns):\n",
            " #   Column           Non-Null Count  Dtype \n",
            "---  ------           --------------  ----- \n",
            " 0   doc_id           398 non-null    int64 \n",
            " 1   min_hash_values  398 non-null    object\n",
            "dtypes: int64(1), object(1)\n",
            "memory usage: 6.3+ KB\n"
          ]
        }
      ]
    },
    {
      "cell_type": "code",
      "source": [
        "from google.colab import drive\n",
        "drive.mount('/content/drive')\n"
      ],
      "metadata": {
        "colab": {
          "base_uri": "https://localhost:8080/"
        },
        "id": "KXYVBaVMC2Xi",
        "outputId": "5d6f7039-13c4-47ca-ded7-871776bb345e"
      },
      "execution_count": 114,
      "outputs": [
        {
          "output_type": "stream",
          "name": "stdout",
          "text": [
            "Mounted at /content/drive\n"
          ]
        }
      ]
    },
    {
      "cell_type": "code",
      "source": [
        "!ls"
      ],
      "metadata": {
        "colab": {
          "base_uri": "https://localhost:8080/"
        },
        "id": "3vZAERn9DoB-",
        "outputId": "1ad9a0c0-757c-4372-af6e-9dbe0c86cbf6"
      },
      "execution_count": 116,
      "outputs": [
        {
          "output_type": "stream",
          "name": "stdout",
          "text": [
            "drive\t\t pretrain_subset     spark-3.4.0-bin-hadoop3\n",
            "full_data.csv\t sample_data\t     spark-3.4.0-bin-hadoop3.tgz\n",
            "medal-emnlp.zip  sig_mat_candidates  spark-3.4.0-bin-hadoop3.tgz.1\n"
          ]
        }
      ]
    },
    {
      "cell_type": "code",
      "source": [
        "!cd MyDrive"
      ],
      "metadata": {
        "id": "gJYGDdnnDsfF"
      },
      "execution_count": 119,
      "outputs": []
    },
    {
      "cell_type": "code",
      "source": [
        "!ls"
      ],
      "metadata": {
        "colab": {
          "base_uri": "https://localhost:8080/"
        },
        "id": "u3p6K8nLD2lr",
        "outputId": "73c6e594-c68e-4bda-8bc8-d5e93af282bd"
      },
      "execution_count": 120,
      "outputs": [
        {
          "output_type": "stream",
          "name": "stdout",
          "text": [
            "MyDrive\n"
          ]
        }
      ]
    },
    {
      "cell_type": "code",
      "source": [
        "sig_m_filtered_pd.to_csv(\"MyDrive/sig_mat_candidates\", index = False)"
      ],
      "metadata": {
        "id": "tstNh0MADLsN"
      },
      "execution_count": 124,
      "outputs": []
    },
    {
      "cell_type": "code",
      "source": [
        "small_data_pd = df_prepr.toPandas()"
      ],
      "metadata": {
        "id": "mjgUC5GuDXJr"
      },
      "execution_count": 125,
      "outputs": []
    },
    {
      "cell_type": "code",
      "source": [
        "small_data_pd"
      ],
      "metadata": {
        "colab": {
          "base_uri": "https://localhost:8080/",
          "height": 423
        },
        "id": "u5VRUtx7GPeO",
        "outputId": "145e9516-b472-4713-ff40-4147c8855f93"
      },
      "execution_count": 126,
      "outputs": [
        {
          "output_type": "execute_result",
          "data": {
            "text/plain": [
              "                                                  TEXT  \\\n",
              "0    by sequential acid treatment GF and kmcellulos...   \n",
              "1    two case reports of pure cystic acinic cell ca...   \n",
              "2    because the pancreas undergoes involutional ch...   \n",
              "3    rat brain SSA deshydrogenase has been purified...   \n",
              "4    the physiological effects on mammals of elevat...   \n",
              "..                                                 ...   \n",
              "981  CA therapeuticsrelated cardiac dysfunction ctr...   \n",
              "982  conventional approaches of implementing comput...   \n",
              "983  dolichoectasia of the VB artery is a vascular ...   \n",
              "984  some eastern asian countries deem pufferfish e...   \n",
              "985  mercury is an important pollutant released int...   \n",
              "\n",
              "                                                LABEL        doc_id  \\\n",
              "0           gel filtration|phosphate buffer|activated             0   \n",
              "1                        parotid gland|salivary gland             1   \n",
              "2     total parenteral nutrition|alone|secretin|alone             2   \n",
              "3         succinic semialdehyde|succinic semialdehyde             3   \n",
              "4                    central|general|model|homologous             4   \n",
              "..                                                ...           ...   \n",
              "981  cancer|mortality rate|detection|strain|sensitive  962072674309   \n",
              "982               after|model|approach|kinetic energy  962072674310   \n",
              "983                                   vertebrobasilar  962072674311   \n",
              "984                               compounds|compounds  962072674312   \n",
              "985                   systematic review|major|factors  962072674313   \n",
              "\n",
              "                                     preprocessed_text  \n",
              "0    sequential acid treatment gf kmcellulose sorpt...  \n",
              "1    case report pure cystic acinic cell carcinoma ...  \n",
              "2    pancrea undergo involutional change tpn tpn pa...  \n",
              "3    rat brain ssa deshydrogenase purify fold enzym...  \n",
              "4    physiological effect mammal elevated pressure ...  \n",
              "..                                                 ...  \n",
              "981  therapeuticsrelate cardiac dysfunction ctrcd l...  \n",
              "982  conventional approach implement computational ...  \n",
              "983  dolichoectasia vb artery vascular anomaly char...  \n",
              "984  eastern asian country deem pufferfish especial...  \n",
              "985  mercury important pollutant release aquatic ec...  \n",
              "\n",
              "[986 rows x 4 columns]"
            ],
            "text/html": [
              "\n",
              "  <div id=\"df-32b07560-2c8a-45f6-9ecd-10fbe6684c8f\" class=\"colab-df-container\">\n",
              "    <div>\n",
              "<style scoped>\n",
              "    .dataframe tbody tr th:only-of-type {\n",
              "        vertical-align: middle;\n",
              "    }\n",
              "\n",
              "    .dataframe tbody tr th {\n",
              "        vertical-align: top;\n",
              "    }\n",
              "\n",
              "    .dataframe thead th {\n",
              "        text-align: right;\n",
              "    }\n",
              "</style>\n",
              "<table border=\"1\" class=\"dataframe\">\n",
              "  <thead>\n",
              "    <tr style=\"text-align: right;\">\n",
              "      <th></th>\n",
              "      <th>TEXT</th>\n",
              "      <th>LABEL</th>\n",
              "      <th>doc_id</th>\n",
              "      <th>preprocessed_text</th>\n",
              "    </tr>\n",
              "  </thead>\n",
              "  <tbody>\n",
              "    <tr>\n",
              "      <th>0</th>\n",
              "      <td>by sequential acid treatment GF and kmcellulos...</td>\n",
              "      <td>gel filtration|phosphate buffer|activated</td>\n",
              "      <td>0</td>\n",
              "      <td>sequential acid treatment gf kmcellulose sorpt...</td>\n",
              "    </tr>\n",
              "    <tr>\n",
              "      <th>1</th>\n",
              "      <td>two case reports of pure cystic acinic cell ca...</td>\n",
              "      <td>parotid gland|salivary gland</td>\n",
              "      <td>1</td>\n",
              "      <td>case report pure cystic acinic cell carcinoma ...</td>\n",
              "    </tr>\n",
              "    <tr>\n",
              "      <th>2</th>\n",
              "      <td>because the pancreas undergoes involutional ch...</td>\n",
              "      <td>total parenteral nutrition|alone|secretin|alone</td>\n",
              "      <td>2</td>\n",
              "      <td>pancrea undergo involutional change tpn tpn pa...</td>\n",
              "    </tr>\n",
              "    <tr>\n",
              "      <th>3</th>\n",
              "      <td>rat brain SSA deshydrogenase has been purified...</td>\n",
              "      <td>succinic semialdehyde|succinic semialdehyde</td>\n",
              "      <td>3</td>\n",
              "      <td>rat brain ssa deshydrogenase purify fold enzym...</td>\n",
              "    </tr>\n",
              "    <tr>\n",
              "      <th>4</th>\n",
              "      <td>the physiological effects on mammals of elevat...</td>\n",
              "      <td>central|general|model|homologous</td>\n",
              "      <td>4</td>\n",
              "      <td>physiological effect mammal elevated pressure ...</td>\n",
              "    </tr>\n",
              "    <tr>\n",
              "      <th>...</th>\n",
              "      <td>...</td>\n",
              "      <td>...</td>\n",
              "      <td>...</td>\n",
              "      <td>...</td>\n",
              "    </tr>\n",
              "    <tr>\n",
              "      <th>981</th>\n",
              "      <td>CA therapeuticsrelated cardiac dysfunction ctr...</td>\n",
              "      <td>cancer|mortality rate|detection|strain|sensitive</td>\n",
              "      <td>962072674309</td>\n",
              "      <td>therapeuticsrelate cardiac dysfunction ctrcd l...</td>\n",
              "    </tr>\n",
              "    <tr>\n",
              "      <th>982</th>\n",
              "      <td>conventional approaches of implementing comput...</td>\n",
              "      <td>after|model|approach|kinetic energy</td>\n",
              "      <td>962072674310</td>\n",
              "      <td>conventional approach implement computational ...</td>\n",
              "    </tr>\n",
              "    <tr>\n",
              "      <th>983</th>\n",
              "      <td>dolichoectasia of the VB artery is a vascular ...</td>\n",
              "      <td>vertebrobasilar</td>\n",
              "      <td>962072674311</td>\n",
              "      <td>dolichoectasia vb artery vascular anomaly char...</td>\n",
              "    </tr>\n",
              "    <tr>\n",
              "      <th>984</th>\n",
              "      <td>some eastern asian countries deem pufferfish e...</td>\n",
              "      <td>compounds|compounds</td>\n",
              "      <td>962072674312</td>\n",
              "      <td>eastern asian country deem pufferfish especial...</td>\n",
              "    </tr>\n",
              "    <tr>\n",
              "      <th>985</th>\n",
              "      <td>mercury is an important pollutant released int...</td>\n",
              "      <td>systematic review|major|factors</td>\n",
              "      <td>962072674313</td>\n",
              "      <td>mercury important pollutant release aquatic ec...</td>\n",
              "    </tr>\n",
              "  </tbody>\n",
              "</table>\n",
              "<p>986 rows × 4 columns</p>\n",
              "</div>\n",
              "    <div class=\"colab-df-buttons\">\n",
              "\n",
              "  <div class=\"colab-df-container\">\n",
              "    <button class=\"colab-df-convert\" onclick=\"convertToInteractive('df-32b07560-2c8a-45f6-9ecd-10fbe6684c8f')\"\n",
              "            title=\"Convert this dataframe to an interactive table.\"\n",
              "            style=\"display:none;\">\n",
              "\n",
              "  <svg xmlns=\"http://www.w3.org/2000/svg\" height=\"24px\" viewBox=\"0 -960 960 960\">\n",
              "    <path d=\"M120-120v-720h720v720H120Zm60-500h600v-160H180v160Zm220 220h160v-160H400v160Zm0 220h160v-160H400v160ZM180-400h160v-160H180v160Zm440 0h160v-160H620v160ZM180-180h160v-160H180v160Zm440 0h160v-160H620v160Z\"/>\n",
              "  </svg>\n",
              "    </button>\n",
              "\n",
              "  <style>\n",
              "    .colab-df-container {\n",
              "      display:flex;\n",
              "      gap: 12px;\n",
              "    }\n",
              "\n",
              "    .colab-df-convert {\n",
              "      background-color: #E8F0FE;\n",
              "      border: none;\n",
              "      border-radius: 50%;\n",
              "      cursor: pointer;\n",
              "      display: none;\n",
              "      fill: #1967D2;\n",
              "      height: 32px;\n",
              "      padding: 0 0 0 0;\n",
              "      width: 32px;\n",
              "    }\n",
              "\n",
              "    .colab-df-convert:hover {\n",
              "      background-color: #E2EBFA;\n",
              "      box-shadow: 0px 1px 2px rgba(60, 64, 67, 0.3), 0px 1px 3px 1px rgba(60, 64, 67, 0.15);\n",
              "      fill: #174EA6;\n",
              "    }\n",
              "\n",
              "    .colab-df-buttons div {\n",
              "      margin-bottom: 4px;\n",
              "    }\n",
              "\n",
              "    [theme=dark] .colab-df-convert {\n",
              "      background-color: #3B4455;\n",
              "      fill: #D2E3FC;\n",
              "    }\n",
              "\n",
              "    [theme=dark] .colab-df-convert:hover {\n",
              "      background-color: #434B5C;\n",
              "      box-shadow: 0px 1px 3px 1px rgba(0, 0, 0, 0.15);\n",
              "      filter: drop-shadow(0px 1px 2px rgba(0, 0, 0, 0.3));\n",
              "      fill: #FFFFFF;\n",
              "    }\n",
              "  </style>\n",
              "\n",
              "    <script>\n",
              "      const buttonEl =\n",
              "        document.querySelector('#df-32b07560-2c8a-45f6-9ecd-10fbe6684c8f button.colab-df-convert');\n",
              "      buttonEl.style.display =\n",
              "        google.colab.kernel.accessAllowed ? 'block' : 'none';\n",
              "\n",
              "      async function convertToInteractive(key) {\n",
              "        const element = document.querySelector('#df-32b07560-2c8a-45f6-9ecd-10fbe6684c8f');\n",
              "        const dataTable =\n",
              "          await google.colab.kernel.invokeFunction('convertToInteractive',\n",
              "                                                    [key], {});\n",
              "        if (!dataTable) return;\n",
              "\n",
              "        const docLinkHtml = 'Like what you see? Visit the ' +\n",
              "          '<a target=\"_blank\" href=https://colab.research.google.com/notebooks/data_table.ipynb>data table notebook</a>'\n",
              "          + ' to learn more about interactive tables.';\n",
              "        element.innerHTML = '';\n",
              "        dataTable['output_type'] = 'display_data';\n",
              "        await google.colab.output.renderOutput(dataTable, element);\n",
              "        const docLink = document.createElement('div');\n",
              "        docLink.innerHTML = docLinkHtml;\n",
              "        element.appendChild(docLink);\n",
              "      }\n",
              "    </script>\n",
              "  </div>\n",
              "\n",
              "\n",
              "<div id=\"df-970972f1-7c6c-4051-9bd7-f6818d4148e9\">\n",
              "  <button class=\"colab-df-quickchart\" onclick=\"quickchart('df-970972f1-7c6c-4051-9bd7-f6818d4148e9')\"\n",
              "            title=\"Suggest charts.\"\n",
              "            style=\"display:none;\">\n",
              "\n",
              "<svg xmlns=\"http://www.w3.org/2000/svg\" height=\"24px\"viewBox=\"0 0 24 24\"\n",
              "     width=\"24px\">\n",
              "    <g>\n",
              "        <path d=\"M19 3H5c-1.1 0-2 .9-2 2v14c0 1.1.9 2 2 2h14c1.1 0 2-.9 2-2V5c0-1.1-.9-2-2-2zM9 17H7v-7h2v7zm4 0h-2V7h2v10zm4 0h-2v-4h2v4z\"/>\n",
              "    </g>\n",
              "</svg>\n",
              "  </button>\n",
              "\n",
              "<style>\n",
              "  .colab-df-quickchart {\n",
              "      --bg-color: #E8F0FE;\n",
              "      --fill-color: #1967D2;\n",
              "      --hover-bg-color: #E2EBFA;\n",
              "      --hover-fill-color: #174EA6;\n",
              "      --disabled-fill-color: #AAA;\n",
              "      --disabled-bg-color: #DDD;\n",
              "  }\n",
              "\n",
              "  [theme=dark] .colab-df-quickchart {\n",
              "      --bg-color: #3B4455;\n",
              "      --fill-color: #D2E3FC;\n",
              "      --hover-bg-color: #434B5C;\n",
              "      --hover-fill-color: #FFFFFF;\n",
              "      --disabled-bg-color: #3B4455;\n",
              "      --disabled-fill-color: #666;\n",
              "  }\n",
              "\n",
              "  .colab-df-quickchart {\n",
              "    background-color: var(--bg-color);\n",
              "    border: none;\n",
              "    border-radius: 50%;\n",
              "    cursor: pointer;\n",
              "    display: none;\n",
              "    fill: var(--fill-color);\n",
              "    height: 32px;\n",
              "    padding: 0;\n",
              "    width: 32px;\n",
              "  }\n",
              "\n",
              "  .colab-df-quickchart:hover {\n",
              "    background-color: var(--hover-bg-color);\n",
              "    box-shadow: 0 1px 2px rgba(60, 64, 67, 0.3), 0 1px 3px 1px rgba(60, 64, 67, 0.15);\n",
              "    fill: var(--button-hover-fill-color);\n",
              "  }\n",
              "\n",
              "  .colab-df-quickchart-complete:disabled,\n",
              "  .colab-df-quickchart-complete:disabled:hover {\n",
              "    background-color: var(--disabled-bg-color);\n",
              "    fill: var(--disabled-fill-color);\n",
              "    box-shadow: none;\n",
              "  }\n",
              "\n",
              "  .colab-df-spinner {\n",
              "    border: 2px solid var(--fill-color);\n",
              "    border-color: transparent;\n",
              "    border-bottom-color: var(--fill-color);\n",
              "    animation:\n",
              "      spin 1s steps(1) infinite;\n",
              "  }\n",
              "\n",
              "  @keyframes spin {\n",
              "    0% {\n",
              "      border-color: transparent;\n",
              "      border-bottom-color: var(--fill-color);\n",
              "      border-left-color: var(--fill-color);\n",
              "    }\n",
              "    20% {\n",
              "      border-color: transparent;\n",
              "      border-left-color: var(--fill-color);\n",
              "      border-top-color: var(--fill-color);\n",
              "    }\n",
              "    30% {\n",
              "      border-color: transparent;\n",
              "      border-left-color: var(--fill-color);\n",
              "      border-top-color: var(--fill-color);\n",
              "      border-right-color: var(--fill-color);\n",
              "    }\n",
              "    40% {\n",
              "      border-color: transparent;\n",
              "      border-right-color: var(--fill-color);\n",
              "      border-top-color: var(--fill-color);\n",
              "    }\n",
              "    60% {\n",
              "      border-color: transparent;\n",
              "      border-right-color: var(--fill-color);\n",
              "    }\n",
              "    80% {\n",
              "      border-color: transparent;\n",
              "      border-right-color: var(--fill-color);\n",
              "      border-bottom-color: var(--fill-color);\n",
              "    }\n",
              "    90% {\n",
              "      border-color: transparent;\n",
              "      border-bottom-color: var(--fill-color);\n",
              "    }\n",
              "  }\n",
              "</style>\n",
              "\n",
              "  <script>\n",
              "    async function quickchart(key) {\n",
              "      const quickchartButtonEl =\n",
              "        document.querySelector('#' + key + ' button');\n",
              "      quickchartButtonEl.disabled = true;  // To prevent multiple clicks.\n",
              "      quickchartButtonEl.classList.add('colab-df-spinner');\n",
              "      try {\n",
              "        const charts = await google.colab.kernel.invokeFunction(\n",
              "            'suggestCharts', [key], {});\n",
              "      } catch (error) {\n",
              "        console.error('Error during call to suggestCharts:', error);\n",
              "      }\n",
              "      quickchartButtonEl.classList.remove('colab-df-spinner');\n",
              "      quickchartButtonEl.classList.add('colab-df-quickchart-complete');\n",
              "    }\n",
              "    (() => {\n",
              "      let quickchartButtonEl =\n",
              "        document.querySelector('#df-970972f1-7c6c-4051-9bd7-f6818d4148e9 button');\n",
              "      quickchartButtonEl.style.display =\n",
              "        google.colab.kernel.accessAllowed ? 'block' : 'none';\n",
              "    })();\n",
              "  </script>\n",
              "</div>\n",
              "    </div>\n",
              "  </div>\n"
            ]
          },
          "metadata": {},
          "execution_count": 126
        }
      ]
    },
    {
      "cell_type": "code",
      "source": [
        "small_data_pd.to_csv(\"MyDrive/small_data.csv\", index = False)"
      ],
      "metadata": {
        "id": "e_rs_uGqGT4A"
      },
      "execution_count": 127,
      "outputs": []
    },
    {
      "cell_type": "code",
      "source": [
        "small_data_pd.info()"
      ],
      "metadata": {
        "colab": {
          "base_uri": "https://localhost:8080/"
        },
        "id": "hseS1CsFLXhu",
        "outputId": "9bd2ac28-56b9-4d54-92cb-90cce2ff3bc6"
      },
      "execution_count": 128,
      "outputs": [
        {
          "output_type": "stream",
          "name": "stdout",
          "text": [
            "<class 'pandas.core.frame.DataFrame'>\n",
            "RangeIndex: 986 entries, 0 to 985\n",
            "Data columns (total 4 columns):\n",
            " #   Column             Non-Null Count  Dtype \n",
            "---  ------             --------------  ----- \n",
            " 0   TEXT               986 non-null    object\n",
            " 1   LABEL              986 non-null    object\n",
            " 2   doc_id             986 non-null    int64 \n",
            " 3   preprocessed_text  986 non-null    object\n",
            "dtypes: int64(1), object(3)\n",
            "memory usage: 30.9+ KB\n"
          ]
        }
      ]
    },
    {
      "cell_type": "markdown",
      "source": [
        "## Jaccard sim approximation computation"
      ],
      "metadata": {
        "id": "n3xm8f74gnJX"
      }
    },
    {
      "cell_type": "code",
      "source": [
        "def jaccard_similarity(set1, set2):\n",
        "    intersection = len(set1.intersection(set2))\n",
        "    union = len(set1.union(set2))\n",
        "    return intersection / union if union > 0 else 0.0"
      ],
      "metadata": {
        "id": "UsPfAIDygwmu"
      },
      "execution_count": 147,
      "outputs": []
    },
    {
      "cell_type": "code",
      "source": [
        "# Create an empty list to store data for the new DataFrame\n",
        "jaccard_data = []"
      ],
      "metadata": {
        "id": "7I7mAOxkgx6t"
      },
      "execution_count": 158,
      "outputs": []
    },
    {
      "cell_type": "code",
      "source": [
        "# Assuming candidate_pairs is a list of (doc_id1, doc_id2) pairs\n",
        "for doc_id1, doc_id2 in unique_pairs:\n",
        "    # Find the corresponding MinHash values for doc_id1 and doc_id2\n",
        "    min_hash1 = sig_m_filtered_pd[sig_m_filtered_pd['doc_id'] == doc_id1]['min_hash_values'].values[0]\n",
        "    min_hash2 = sig_m_filtered_pd[sig_m_filtered_pd['doc_id'] == doc_id2]['min_hash_values'].values[0]\n",
        "\n",
        "    # Convert the MinHash values to sets\n",
        "    set1 = set(min_hash1)\n",
        "    set2 = set(min_hash2)\n",
        "\n",
        "    # Calculate Jaccard similarity\n",
        "    similarity = jaccard_similarity(set1, set2)\n",
        "\n",
        "    # Append the data as a dictionary to the list\n",
        "    jaccard_data.append({'doc_id1': doc_id1, 'doc_id2': doc_id2, 'jaccard_similarity': similarity})\n"
      ],
      "metadata": {
        "id": "jjmVjSnag2ge"
      },
      "execution_count": 160,
      "outputs": []
    },
    {
      "cell_type": "code",
      "source": [
        "jaccard_data[45]"
      ],
      "metadata": {
        "colab": {
          "base_uri": "https://localhost:8080/"
        },
        "id": "035JCvGoiXg7",
        "outputId": "0220f924-277e-4e28-a631-efe437531076"
      },
      "execution_count": 203,
      "outputs": [
        {
          "output_type": "execute_result",
          "data": {
            "text/plain": [
              "{'doc_id1': 644245094403,\n",
              " 'doc_id2': 352187318279,\n",
              " 'jaccard_similarity': 0.16310160427807488}"
            ]
          },
          "metadata": {},
          "execution_count": 203
        }
      ]
    },
    {
      "cell_type": "code",
      "source": [
        "type(jaccard_data[0])"
      ],
      "metadata": {
        "colab": {
          "base_uri": "https://localhost:8080/"
        },
        "id": "YzHj-8cEpaEb",
        "outputId": "9ce0030f-2fd4-4bc2-bb35-575d111a7da5"
      },
      "execution_count": 179,
      "outputs": [
        {
          "output_type": "execute_result",
          "data": {
            "text/plain": [
              "dict"
            ]
          },
          "metadata": {},
          "execution_count": 179
        }
      ]
    },
    {
      "cell_type": "code",
      "source": [
        "len(jaccard_data)"
      ],
      "metadata": {
        "colab": {
          "base_uri": "https://localhost:8080/"
        },
        "id": "-_uskZzGjZYI",
        "outputId": "a4fad041-f1c4-4ede-8dff-2eb2af5c0528"
      },
      "execution_count": 162,
      "outputs": [
        {
          "output_type": "execute_result",
          "data": {
            "text/plain": [
              "254"
            ]
          },
          "metadata": {},
          "execution_count": 162
        }
      ]
    },
    {
      "cell_type": "code",
      "source": [
        "len(unique_pairs)"
      ],
      "metadata": {
        "colab": {
          "base_uri": "https://localhost:8080/"
        },
        "id": "Xt7BIiBcjtFO",
        "outputId": "7fe452c7-8316-4bb8-cec5-47b984076921"
      },
      "execution_count": 163,
      "outputs": [
        {
          "output_type": "execute_result",
          "data": {
            "text/plain": [
              "254"
            ]
          },
          "metadata": {},
          "execution_count": 163
        }
      ]
    },
    {
      "cell_type": "code",
      "source": [
        "\n",
        "# Create the new DataFrame using pd.DataFrame\n",
        "jaccard_df = pd.DataFrame(jaccard_data)\n"
      ],
      "metadata": {
        "id": "tUJaNV84jvJ_"
      },
      "execution_count": 164,
      "outputs": []
    },
    {
      "cell_type": "code",
      "source": [
        "jaccard_df"
      ],
      "metadata": {
        "colab": {
          "base_uri": "https://localhost:8080/",
          "height": 423
        },
        "id": "3gFFAfNRjwbX",
        "outputId": "27c559ca-f66a-4ee6-f403-2bf2d775336d"
      },
      "execution_count": 165,
      "outputs": [
        {
          "output_type": "execute_result",
          "data": {
            "text/plain": [
              "          doc_id1       doc_id2  jaccard_similarity\n",
              "0    944892805125  438086664198            0.226776\n",
              "1    412316860416  266287972355            0.350806\n",
              "2    335007449094   25769803779            0.341549\n",
              "3    197568495616  326417514498            0.402985\n",
              "4    343597383681  412316860418            0.417062\n",
              "..            ...           ...                 ...\n",
              "249  807453851652   85899345923            0.296178\n",
              "250  335007449091  575525617664            0.388889\n",
              "251  249108103171  618475290632            0.252907\n",
              "252  395136991237   42949672968            0.254601\n",
              "253  335007449090  231928233989            0.307947\n",
              "\n",
              "[254 rows x 3 columns]"
            ],
            "text/html": [
              "\n",
              "  <div id=\"df-148d33eb-1a18-45a3-9481-a754c2a5b074\" class=\"colab-df-container\">\n",
              "    <div>\n",
              "<style scoped>\n",
              "    .dataframe tbody tr th:only-of-type {\n",
              "        vertical-align: middle;\n",
              "    }\n",
              "\n",
              "    .dataframe tbody tr th {\n",
              "        vertical-align: top;\n",
              "    }\n",
              "\n",
              "    .dataframe thead th {\n",
              "        text-align: right;\n",
              "    }\n",
              "</style>\n",
              "<table border=\"1\" class=\"dataframe\">\n",
              "  <thead>\n",
              "    <tr style=\"text-align: right;\">\n",
              "      <th></th>\n",
              "      <th>doc_id1</th>\n",
              "      <th>doc_id2</th>\n",
              "      <th>jaccard_similarity</th>\n",
              "    </tr>\n",
              "  </thead>\n",
              "  <tbody>\n",
              "    <tr>\n",
              "      <th>0</th>\n",
              "      <td>944892805125</td>\n",
              "      <td>438086664198</td>\n",
              "      <td>0.226776</td>\n",
              "    </tr>\n",
              "    <tr>\n",
              "      <th>1</th>\n",
              "      <td>412316860416</td>\n",
              "      <td>266287972355</td>\n",
              "      <td>0.350806</td>\n",
              "    </tr>\n",
              "    <tr>\n",
              "      <th>2</th>\n",
              "      <td>335007449094</td>\n",
              "      <td>25769803779</td>\n",
              "      <td>0.341549</td>\n",
              "    </tr>\n",
              "    <tr>\n",
              "      <th>3</th>\n",
              "      <td>197568495616</td>\n",
              "      <td>326417514498</td>\n",
              "      <td>0.402985</td>\n",
              "    </tr>\n",
              "    <tr>\n",
              "      <th>4</th>\n",
              "      <td>343597383681</td>\n",
              "      <td>412316860418</td>\n",
              "      <td>0.417062</td>\n",
              "    </tr>\n",
              "    <tr>\n",
              "      <th>...</th>\n",
              "      <td>...</td>\n",
              "      <td>...</td>\n",
              "      <td>...</td>\n",
              "    </tr>\n",
              "    <tr>\n",
              "      <th>249</th>\n",
              "      <td>807453851652</td>\n",
              "      <td>85899345923</td>\n",
              "      <td>0.296178</td>\n",
              "    </tr>\n",
              "    <tr>\n",
              "      <th>250</th>\n",
              "      <td>335007449091</td>\n",
              "      <td>575525617664</td>\n",
              "      <td>0.388889</td>\n",
              "    </tr>\n",
              "    <tr>\n",
              "      <th>251</th>\n",
              "      <td>249108103171</td>\n",
              "      <td>618475290632</td>\n",
              "      <td>0.252907</td>\n",
              "    </tr>\n",
              "    <tr>\n",
              "      <th>252</th>\n",
              "      <td>395136991237</td>\n",
              "      <td>42949672968</td>\n",
              "      <td>0.254601</td>\n",
              "    </tr>\n",
              "    <tr>\n",
              "      <th>253</th>\n",
              "      <td>335007449090</td>\n",
              "      <td>231928233989</td>\n",
              "      <td>0.307947</td>\n",
              "    </tr>\n",
              "  </tbody>\n",
              "</table>\n",
              "<p>254 rows × 3 columns</p>\n",
              "</div>\n",
              "    <div class=\"colab-df-buttons\">\n",
              "\n",
              "  <div class=\"colab-df-container\">\n",
              "    <button class=\"colab-df-convert\" onclick=\"convertToInteractive('df-148d33eb-1a18-45a3-9481-a754c2a5b074')\"\n",
              "            title=\"Convert this dataframe to an interactive table.\"\n",
              "            style=\"display:none;\">\n",
              "\n",
              "  <svg xmlns=\"http://www.w3.org/2000/svg\" height=\"24px\" viewBox=\"0 -960 960 960\">\n",
              "    <path d=\"M120-120v-720h720v720H120Zm60-500h600v-160H180v160Zm220 220h160v-160H400v160Zm0 220h160v-160H400v160ZM180-400h160v-160H180v160Zm440 0h160v-160H620v160ZM180-180h160v-160H180v160Zm440 0h160v-160H620v160Z\"/>\n",
              "  </svg>\n",
              "    </button>\n",
              "\n",
              "  <style>\n",
              "    .colab-df-container {\n",
              "      display:flex;\n",
              "      gap: 12px;\n",
              "    }\n",
              "\n",
              "    .colab-df-convert {\n",
              "      background-color: #E8F0FE;\n",
              "      border: none;\n",
              "      border-radius: 50%;\n",
              "      cursor: pointer;\n",
              "      display: none;\n",
              "      fill: #1967D2;\n",
              "      height: 32px;\n",
              "      padding: 0 0 0 0;\n",
              "      width: 32px;\n",
              "    }\n",
              "\n",
              "    .colab-df-convert:hover {\n",
              "      background-color: #E2EBFA;\n",
              "      box-shadow: 0px 1px 2px rgba(60, 64, 67, 0.3), 0px 1px 3px 1px rgba(60, 64, 67, 0.15);\n",
              "      fill: #174EA6;\n",
              "    }\n",
              "\n",
              "    .colab-df-buttons div {\n",
              "      margin-bottom: 4px;\n",
              "    }\n",
              "\n",
              "    [theme=dark] .colab-df-convert {\n",
              "      background-color: #3B4455;\n",
              "      fill: #D2E3FC;\n",
              "    }\n",
              "\n",
              "    [theme=dark] .colab-df-convert:hover {\n",
              "      background-color: #434B5C;\n",
              "      box-shadow: 0px 1px 3px 1px rgba(0, 0, 0, 0.15);\n",
              "      filter: drop-shadow(0px 1px 2px rgba(0, 0, 0, 0.3));\n",
              "      fill: #FFFFFF;\n",
              "    }\n",
              "  </style>\n",
              "\n",
              "    <script>\n",
              "      const buttonEl =\n",
              "        document.querySelector('#df-148d33eb-1a18-45a3-9481-a754c2a5b074 button.colab-df-convert');\n",
              "      buttonEl.style.display =\n",
              "        google.colab.kernel.accessAllowed ? 'block' : 'none';\n",
              "\n",
              "      async function convertToInteractive(key) {\n",
              "        const element = document.querySelector('#df-148d33eb-1a18-45a3-9481-a754c2a5b074');\n",
              "        const dataTable =\n",
              "          await google.colab.kernel.invokeFunction('convertToInteractive',\n",
              "                                                    [key], {});\n",
              "        if (!dataTable) return;\n",
              "\n",
              "        const docLinkHtml = 'Like what you see? Visit the ' +\n",
              "          '<a target=\"_blank\" href=https://colab.research.google.com/notebooks/data_table.ipynb>data table notebook</a>'\n",
              "          + ' to learn more about interactive tables.';\n",
              "        element.innerHTML = '';\n",
              "        dataTable['output_type'] = 'display_data';\n",
              "        await google.colab.output.renderOutput(dataTable, element);\n",
              "        const docLink = document.createElement('div');\n",
              "        docLink.innerHTML = docLinkHtml;\n",
              "        element.appendChild(docLink);\n",
              "      }\n",
              "    </script>\n",
              "  </div>\n",
              "\n",
              "\n",
              "<div id=\"df-d86ef0e4-fda0-47d2-b7b1-2217de7ed034\">\n",
              "  <button class=\"colab-df-quickchart\" onclick=\"quickchart('df-d86ef0e4-fda0-47d2-b7b1-2217de7ed034')\"\n",
              "            title=\"Suggest charts.\"\n",
              "            style=\"display:none;\">\n",
              "\n",
              "<svg xmlns=\"http://www.w3.org/2000/svg\" height=\"24px\"viewBox=\"0 0 24 24\"\n",
              "     width=\"24px\">\n",
              "    <g>\n",
              "        <path d=\"M19 3H5c-1.1 0-2 .9-2 2v14c0 1.1.9 2 2 2h14c1.1 0 2-.9 2-2V5c0-1.1-.9-2-2-2zM9 17H7v-7h2v7zm4 0h-2V7h2v10zm4 0h-2v-4h2v4z\"/>\n",
              "    </g>\n",
              "</svg>\n",
              "  </button>\n",
              "\n",
              "<style>\n",
              "  .colab-df-quickchart {\n",
              "      --bg-color: #E8F0FE;\n",
              "      --fill-color: #1967D2;\n",
              "      --hover-bg-color: #E2EBFA;\n",
              "      --hover-fill-color: #174EA6;\n",
              "      --disabled-fill-color: #AAA;\n",
              "      --disabled-bg-color: #DDD;\n",
              "  }\n",
              "\n",
              "  [theme=dark] .colab-df-quickchart {\n",
              "      --bg-color: #3B4455;\n",
              "      --fill-color: #D2E3FC;\n",
              "      --hover-bg-color: #434B5C;\n",
              "      --hover-fill-color: #FFFFFF;\n",
              "      --disabled-bg-color: #3B4455;\n",
              "      --disabled-fill-color: #666;\n",
              "  }\n",
              "\n",
              "  .colab-df-quickchart {\n",
              "    background-color: var(--bg-color);\n",
              "    border: none;\n",
              "    border-radius: 50%;\n",
              "    cursor: pointer;\n",
              "    display: none;\n",
              "    fill: var(--fill-color);\n",
              "    height: 32px;\n",
              "    padding: 0;\n",
              "    width: 32px;\n",
              "  }\n",
              "\n",
              "  .colab-df-quickchart:hover {\n",
              "    background-color: var(--hover-bg-color);\n",
              "    box-shadow: 0 1px 2px rgba(60, 64, 67, 0.3), 0 1px 3px 1px rgba(60, 64, 67, 0.15);\n",
              "    fill: var(--button-hover-fill-color);\n",
              "  }\n",
              "\n",
              "  .colab-df-quickchart-complete:disabled,\n",
              "  .colab-df-quickchart-complete:disabled:hover {\n",
              "    background-color: var(--disabled-bg-color);\n",
              "    fill: var(--disabled-fill-color);\n",
              "    box-shadow: none;\n",
              "  }\n",
              "\n",
              "  .colab-df-spinner {\n",
              "    border: 2px solid var(--fill-color);\n",
              "    border-color: transparent;\n",
              "    border-bottom-color: var(--fill-color);\n",
              "    animation:\n",
              "      spin 1s steps(1) infinite;\n",
              "  }\n",
              "\n",
              "  @keyframes spin {\n",
              "    0% {\n",
              "      border-color: transparent;\n",
              "      border-bottom-color: var(--fill-color);\n",
              "      border-left-color: var(--fill-color);\n",
              "    }\n",
              "    20% {\n",
              "      border-color: transparent;\n",
              "      border-left-color: var(--fill-color);\n",
              "      border-top-color: var(--fill-color);\n",
              "    }\n",
              "    30% {\n",
              "      border-color: transparent;\n",
              "      border-left-color: var(--fill-color);\n",
              "      border-top-color: var(--fill-color);\n",
              "      border-right-color: var(--fill-color);\n",
              "    }\n",
              "    40% {\n",
              "      border-color: transparent;\n",
              "      border-right-color: var(--fill-color);\n",
              "      border-top-color: var(--fill-color);\n",
              "    }\n",
              "    60% {\n",
              "      border-color: transparent;\n",
              "      border-right-color: var(--fill-color);\n",
              "    }\n",
              "    80% {\n",
              "      border-color: transparent;\n",
              "      border-right-color: var(--fill-color);\n",
              "      border-bottom-color: var(--fill-color);\n",
              "    }\n",
              "    90% {\n",
              "      border-color: transparent;\n",
              "      border-bottom-color: var(--fill-color);\n",
              "    }\n",
              "  }\n",
              "</style>\n",
              "\n",
              "  <script>\n",
              "    async function quickchart(key) {\n",
              "      const quickchartButtonEl =\n",
              "        document.querySelector('#' + key + ' button');\n",
              "      quickchartButtonEl.disabled = true;  // To prevent multiple clicks.\n",
              "      quickchartButtonEl.classList.add('colab-df-spinner');\n",
              "      try {\n",
              "        const charts = await google.colab.kernel.invokeFunction(\n",
              "            'suggestCharts', [key], {});\n",
              "      } catch (error) {\n",
              "        console.error('Error during call to suggestCharts:', error);\n",
              "      }\n",
              "      quickchartButtonEl.classList.remove('colab-df-spinner');\n",
              "      quickchartButtonEl.classList.add('colab-df-quickchart-complete');\n",
              "    }\n",
              "    (() => {\n",
              "      let quickchartButtonEl =\n",
              "        document.querySelector('#df-d86ef0e4-fda0-47d2-b7b1-2217de7ed034 button');\n",
              "      quickchartButtonEl.style.display =\n",
              "        google.colab.kernel.accessAllowed ? 'block' : 'none';\n",
              "    })();\n",
              "  </script>\n",
              "</div>\n",
              "    </div>\n",
              "  </div>\n"
            ]
          },
          "metadata": {},
          "execution_count": 165
        }
      ]
    },
    {
      "cell_type": "code",
      "source": [
        "# Sort the DataFrame by 'jaccard_similarity' column in descending order\n",
        "sorted_jaccard_df = jaccard_df.sort_values(by='jaccard_similarity', ascending=False)\n",
        "\n",
        "# Select the top 20 rows\n",
        "top_20_similarities = sorted_jaccard_df.head(20)\n",
        "\n",
        "# Print the top 20 similarities\n",
        "print(top_20_similarities)\n"
      ],
      "metadata": {
        "colab": {
          "base_uri": "https://localhost:8080/"
        },
        "id": "Kl6LLDLejyb3",
        "outputId": "f998117e-0a99-49c2-ef30-ade0f3979ccc"
      },
      "execution_count": 166,
      "outputs": [
        {
          "output_type": "stream",
          "name": "stdout",
          "text": [
            "          doc_id1       doc_id2  jaccard_similarity\n",
            "32   944892805120   51539607553            0.521951\n",
            "243  670014898182  712964571136            0.510309\n",
            "182  481036337153  876173328389            0.509804\n",
            "233  824633720839  627065225219            0.502591\n",
            "179  893353197569  206158430211            0.500000\n",
            "70   429496729603  644245094410            0.494845\n",
            "138  609885356032  300647710723            0.488263\n",
            "201  549755813891  292057776131            0.485714\n",
            "6    420906795022  369367187460            0.482927\n",
            "172  180388626439  919123001348            0.481982\n",
            "203  429496729605  343597383681            0.475556\n",
            "71              0  919123001347            0.474178\n",
            "210  558345748484  317827579914            0.470833\n",
            "60    34359738370  523986010112            0.468750\n",
            "217  670014898188  644245094410            0.467980\n",
            "140  240518168586  893353197570            0.466063\n",
            "107  773094113287  266287972352            0.465517\n",
            "62   188978561031  103079215105            0.464789\n",
            "77   798863917056  292057776129            0.462185\n",
            "34              4  523986010112            0.459716\n"
          ]
        }
      ]
    },
    {
      "cell_type": "code",
      "source": [
        "top_20_similarities.info()"
      ],
      "metadata": {
        "colab": {
          "base_uri": "https://localhost:8080/"
        },
        "id": "bt2Qp4LskdpQ",
        "outputId": "d98cd4fb-8bbf-43b9-e4ad-089b429ebe77"
      },
      "execution_count": 167,
      "outputs": [
        {
          "output_type": "stream",
          "name": "stdout",
          "text": [
            "<class 'pandas.core.frame.DataFrame'>\n",
            "Int64Index: 20 entries, 32 to 34\n",
            "Data columns (total 3 columns):\n",
            " #   Column              Non-Null Count  Dtype  \n",
            "---  ------              --------------  -----  \n",
            " 0   doc_id1             20 non-null     int64  \n",
            " 1   doc_id2             20 non-null     int64  \n",
            " 2   jaccard_similarity  20 non-null     float64\n",
            "dtypes: float64(1), int64(2)\n",
            "memory usage: 640.0 bytes\n"
          ]
        }
      ]
    },
    {
      "cell_type": "code",
      "source": [
        "#-------------------------------------------------"
      ],
      "metadata": {
        "id": "H17kikZkpBat"
      },
      "execution_count": null,
      "outputs": []
    },
    {
      "cell_type": "code",
      "source": [
        "list_of_dicts = top_20_similarities.to_dict(orient='records')"
      ],
      "metadata": {
        "id": "lURDs60jqIpJ"
      },
      "execution_count": 184,
      "outputs": []
    },
    {
      "cell_type": "code",
      "source": [
        "for item in list_of_dicts:\n",
        "    doc_id1 = item['doc_id1']\n",
        "    doc_id2 = item['doc_id2']\n",
        "    jaccard_similarity = item['jaccard_similarity']\n",
        "\n",
        "    text_1 = small_data_pd[small_data_pd['doc_id'] == doc_id1]['TEXT'].to_string(index=False)\n",
        "    text_2 = small_data_pd[small_data_pd['doc_id'] == doc_id2]['TEXT'].to_string(index=False)\n",
        "\n",
        "    labels_1 = small_data_pd[small_data_pd['doc_id'] == doc_id1]['LABEL'].to_string(index=False)\n",
        "    labels_2 = small_data_pd[small_data_pd['doc_id'] == doc_id2]['LABEL'].to_string(index=False)\n",
        "\n",
        "\n",
        "    print(\"doc id 1: \", doc_id1)\n",
        "    print(\"doc id 2: \", doc_id2)\n",
        "\n",
        "    print(\"text 1: \", text_1)\n",
        "    print(\"text 2: \", text_2)\n",
        "\n",
        "    print(\"labels 1: \", labels_1)\n",
        "    print(\"labels 2: \", labels_2)\n",
        "\n",
        "\n",
        "    print(\"-----------------------------------------\")"
      ],
      "metadata": {
        "colab": {
          "base_uri": "https://localhost:8080/"
        },
        "id": "LgAob-qMrCIh",
        "outputId": "5e5c8952-f1a4-429a-a357-c94945e72933"
      },
      "execution_count": 201,
      "outputs": [
        {
          "output_type": "stream",
          "name": "stdout",
          "text": [
            "doc id 1:  944892805120\n",
            "doc id 2:  51539607553\n",
            "text 1:  myoepithelial tumours are a rare form of saliva...\n",
            "text 2:  between january and may six children underwent ...\n",
            "labels 1:  history|frontal lobe|operation|after|compounds\n",
            "labels 2:  recovery|after|ventricle|large|ventricular|care...\n",
            "-----------------------------------------\n",
            "doc id 1:  670014898182\n",
            "doc id 2:  712964571136\n",
            "text 1:  a yr study was conducted using a Ã factorial a...\n",
            "text 2:  although there is a great deal of stationary ph...\n",
            "labels 1:  factors|dryrolled corn|after|groups|feeding\n",
            "labels 2:  development|factors\n",
            "-----------------------------------------\n",
            "doc id 1:  481036337153\n",
            "doc id 2:  876173328389\n",
            "text 1:  most solid PT display extracellular acidosis wh...\n",
            "text 2:  the time children spend in childcare overlaps w...\n",
            "labels 1:  tumors|tumors|tumor|factors|completely\n",
            "labels 2:  development\n",
            "-----------------------------------------\n",
            "doc id 1:  824633720839\n",
            "doc id 2:  627065225219\n",
            "text 1:  development of endotoxin tolerance in macrophag...\n",
            "text 2:  malaria is a disease caused by parasites of pla...\n",
            "labels 1:  secondary|tumor necrosis\n",
            "labels 2:  liver|specific|erythrocyte\n",
            "-----------------------------------------\n",
            "doc id 1:  893353197569\n",
            "doc id 2:  206158430211\n",
            "text 1:  BB connectivity analyses using voxels as featur...\n",
            "text 2:  we investigated the reciprocal changes in apoli...\n",
            "labels 1:  brain|functional|parkinsons disease|model|compl...\n",
            "labels 2:  after|postprandial|serum\n",
            "-----------------------------------------\n",
            "doc id 1:  429496729603\n",
            "doc id 2:  644245094410\n",
            "text 1:  acne and androgenetic alopecia are linked to an...\n",
            "text 2:  complex trait genomewide association studies gw...\n",
            "labels 1:  fibroblast|line|keratinocytes|follicle|fluoresc...\n",
            "labels 2:  appropriate|variants\n",
            "-----------------------------------------\n",
            "doc id 1:  609885356032\n",
            "doc id 2:  300647710723\n",
            "text 1:  micrornas mirnas one type of small rnas srnas i...\n",
            "text 2:  viral protein r vpr encoded by hiv is a faculta...\n",
            "labels 1:  knowledge base|functional|secondary|precursor\n",
            "labels 2:  transmembrane potential|permeability transition...\n",
            "-----------------------------------------\n",
            "doc id 1:  549755813891\n",
            "doc id 2:  292057776131\n",
            "text 1:  intrauterine growth restriction iugr is associa...\n",
            "text 2:  the genes av av and z encode proteins that accu...\n",
            "labels 1:  glucose|physical examination\n",
            "labels 2:  development|levels|development|sites|starch syn...\n",
            "-----------------------------------------\n",
            "doc id 1:  420906795022\n",
            "doc id 2:  369367187460\n",
            "text 1:  the placenta plays an important role in modulat...\n",
            "text 2:  it has been suggested that ingestion of polycyc...\n",
            "labels 1:  vesicles|smokers|smokers|levels|exposure\n",
            "labels 2:  cancer|keratinocytes|exposure|smokers|rabbit|serum\n",
            "-----------------------------------------\n",
            "doc id 1:  180388626439\n",
            "doc id 2:  919123001348\n",
            "text 1:  mycobacterium kansasii and mycobacterium xenopi...\n",
            "text 2:  cadherin plays a fundamental role during zebraf...\n",
            "labels 1:  czech republic\n",
            "labels 2:  heart|staining|development|binding|peptides|pre...\n",
            "-----------------------------------------\n",
            "doc id 1:  429496729605\n",
            "doc id 2:  343597383681\n",
            "text 1:  the SA vaccine CS of lumpy skin disease virus t...\n",
            "text 2:  a common statement from exsmokers is that sympt...\n",
            "labels 1:  south african|strain|insertion\n",
            "labels 2:  after|development\n",
            "-----------------------------------------\n",
            "doc id 1:  0\n",
            "doc id 2:  919123001347\n",
            "text 1:  by sequential acid treatment GF and kmcellulose...\n",
            "text 2:  exercise training reduces reninangiotensin syst...\n",
            "labels 1:  gel filtration|phosphate buffer|activated\n",
            "labels 2:  stress|spontaneously hypertensive|ventricle|str...\n",
            "-----------------------------------------\n",
            "doc id 1:  558345748484\n",
            "doc id 2:  317827579914\n",
            "text 1:  the hair follicles hfs and the interfollicular ...\n",
            "text 2:  abnormal activation of microglial cells has bee...\n",
            "labels 1:  intact|keratinocytes|keratinocyte\n",
            "labels 2:  functioning|nervous system|activated|eliminatio...\n",
            "-----------------------------------------\n",
            "doc id 1:  34359738370\n",
            "doc id 2:  523986010112\n",
            "text 1:  first generation laboratoryborn descendants of ...\n",
            "text 2:  pluripotent embryonic stem cells represent a pr...\n",
            "labels 1:  postpartum|postpartum\n",
            "labels 2:  liver disease|extended|culture|study|culture\n",
            "-----------------------------------------\n",
            "doc id 1:  670014898188\n",
            "doc id 2:  644245094410\n",
            "text 1:  the ample expression of chemokines and their re...\n",
            "text 2:  complex trait genomewide association studies gw...\n",
            "labels 1:  functional|brain|release|neuroendocrine|paraven...\n",
            "labels 2:  appropriate|variants\n",
            "-----------------------------------------\n",
            "doc id 1:  240518168586\n",
            "doc id 2:  893353197570\n",
            "text 1:  activation of cyclic ampdependent protein kinas...\n",
            "text 2:  in the h period prior to parturition sows are a...\n",
            "labels 1:  study|major|transcription initiation|sites|bind...\n",
            "labels 2:  postpartum|behavior|after|behavior\n",
            "-----------------------------------------\n",
            "doc id 1:  773094113287\n",
            "doc id 2:  266287972352\n",
            "text 1:  the ubiquitinproteasome system and autophagy ar...\n",
            "text 2:  solid ovarian PT are uncommon in the pediatric ...\n",
            "labels 1:  function\n",
            "labels 2:  tumors|major|history|physical|tumor|tumors|tumo...\n",
            "-----------------------------------------\n",
            "doc id 1:  188978561031\n",
            "doc id 2:  103079215105\n",
            "text 1:  diphenylaminecarboxylate dpc is a known and wid...\n",
            "text 2:  recordings were made from SN in somatosensory g...\n",
            "labels 1:  ca channels|depolarizing|ca current|ventricular\n",
            "labels 2:  neurons|cortex|neurons|layer|administered|detec...\n",
            "-----------------------------------------\n",
            "doc id 1:  798863917056\n",
            "doc id 2:  292057776129\n",
            "text 1:  barnacle cyprids exhibit a complex swimming and...\n",
            "text 2:  both genetic and environmental factors are invo...\n",
            "labels 1:  sites\n",
            "labels 2:  footshock|behavior|adult|behavior\n",
            "-----------------------------------------\n",
            "doc id 1:  4\n",
            "doc id 2:  523986010112\n",
            "text 1:  the physiological effects on mammals of elevate...\n",
            "text 2:  pluripotent embryonic stem cells represent a pr...\n",
            "labels 1:  central|general|model|homologous\n",
            "labels 2:  liver disease|extended|culture|study|culture\n",
            "-----------------------------------------\n"
          ]
        }
      ]
    },
    {
      "cell_type": "code",
      "source": [
        "small_data_pd"
      ],
      "metadata": {
        "colab": {
          "base_uri": "https://localhost:8080/",
          "height": 4635
        },
        "id": "eHUBga9KtSpq",
        "outputId": "1624e270-b24a-46b0-c910-dcbcad714ccf"
      },
      "execution_count": 199,
      "outputs": [
        {
          "output_type": "execute_result",
          "data": {
            "text/plain": [
              "                                                  TEXT  \\\n",
              "0    by sequential acid treatment GF and kmcellulos...   \n",
              "1    two case reports of pure cystic acinic cell ca...   \n",
              "2    because the pancreas undergoes involutional ch...   \n",
              "3    rat brain SSA deshydrogenase has been purified...   \n",
              "4    the physiological effects on mammals of elevat...   \n",
              "..                                                 ...   \n",
              "981  CA therapeuticsrelated cardiac dysfunction ctr...   \n",
              "982  conventional approaches of implementing comput...   \n",
              "983  dolichoectasia of the VB artery is a vascular ...   \n",
              "984  some eastern asian countries deem pufferfish e...   \n",
              "985  mercury is an important pollutant released int...   \n",
              "\n",
              "                                                LABEL        doc_id  \\\n",
              "0           gel filtration|phosphate buffer|activated             0   \n",
              "1                        parotid gland|salivary gland             1   \n",
              "2     total parenteral nutrition|alone|secretin|alone             2   \n",
              "3         succinic semialdehyde|succinic semialdehyde             3   \n",
              "4                    central|general|model|homologous             4   \n",
              "..                                                ...           ...   \n",
              "981  cancer|mortality rate|detection|strain|sensitive  962072674309   \n",
              "982               after|model|approach|kinetic energy  962072674310   \n",
              "983                                   vertebrobasilar  962072674311   \n",
              "984                               compounds|compounds  962072674312   \n",
              "985                   systematic review|major|factors  962072674313   \n",
              "\n",
              "                                     preprocessed_text  \n",
              "0    sequential acid treatment gf kmcellulose sorpt...  \n",
              "1    case report pure cystic acinic cell carcinoma ...  \n",
              "2    pancrea undergo involutional change tpn tpn pa...  \n",
              "3    rat brain ssa deshydrogenase purify fold enzym...  \n",
              "4    physiological effect mammal elevated pressure ...  \n",
              "..                                                 ...  \n",
              "981  therapeuticsrelate cardiac dysfunction ctrcd l...  \n",
              "982  conventional approach implement computational ...  \n",
              "983  dolichoectasia vb artery vascular anomaly char...  \n",
              "984  eastern asian country deem pufferfish especial...  \n",
              "985  mercury important pollutant release aquatic ec...  \n",
              "\n",
              "[986 rows x 4 columns]"
            ],
            "text/html": [
              "\n",
              "  <div id=\"df-ef3e8474-7893-4140-b909-6578e01245c0\" class=\"colab-df-container\">\n",
              "    <div>\n",
              "<style scoped>\n",
              "    .dataframe tbody tr th:only-of-type {\n",
              "        vertical-align: middle;\n",
              "    }\n",
              "\n",
              "    .dataframe tbody tr th {\n",
              "        vertical-align: top;\n",
              "    }\n",
              "\n",
              "    .dataframe thead th {\n",
              "        text-align: right;\n",
              "    }\n",
              "</style>\n",
              "<table border=\"1\" class=\"dataframe\">\n",
              "  <thead>\n",
              "    <tr style=\"text-align: right;\">\n",
              "      <th></th>\n",
              "      <th>TEXT</th>\n",
              "      <th>LABEL</th>\n",
              "      <th>doc_id</th>\n",
              "      <th>preprocessed_text</th>\n",
              "    </tr>\n",
              "  </thead>\n",
              "  <tbody>\n",
              "    <tr>\n",
              "      <th>0</th>\n",
              "      <td>by sequential acid treatment GF and kmcellulos...</td>\n",
              "      <td>gel filtration|phosphate buffer|activated</td>\n",
              "      <td>0</td>\n",
              "      <td>sequential acid treatment gf kmcellulose sorpt...</td>\n",
              "    </tr>\n",
              "    <tr>\n",
              "      <th>1</th>\n",
              "      <td>two case reports of pure cystic acinic cell ca...</td>\n",
              "      <td>parotid gland|salivary gland</td>\n",
              "      <td>1</td>\n",
              "      <td>case report pure cystic acinic cell carcinoma ...</td>\n",
              "    </tr>\n",
              "    <tr>\n",
              "      <th>2</th>\n",
              "      <td>because the pancreas undergoes involutional ch...</td>\n",
              "      <td>total parenteral nutrition|alone|secretin|alone</td>\n",
              "      <td>2</td>\n",
              "      <td>pancrea undergo involutional change tpn tpn pa...</td>\n",
              "    </tr>\n",
              "    <tr>\n",
              "      <th>3</th>\n",
              "      <td>rat brain SSA deshydrogenase has been purified...</td>\n",
              "      <td>succinic semialdehyde|succinic semialdehyde</td>\n",
              "      <td>3</td>\n",
              "      <td>rat brain ssa deshydrogenase purify fold enzym...</td>\n",
              "    </tr>\n",
              "    <tr>\n",
              "      <th>4</th>\n",
              "      <td>the physiological effects on mammals of elevat...</td>\n",
              "      <td>central|general|model|homologous</td>\n",
              "      <td>4</td>\n",
              "      <td>physiological effect mammal elevated pressure ...</td>\n",
              "    </tr>\n",
              "    <tr>\n",
              "      <th>...</th>\n",
              "      <td>...</td>\n",
              "      <td>...</td>\n",
              "      <td>...</td>\n",
              "      <td>...</td>\n",
              "    </tr>\n",
              "    <tr>\n",
              "      <th>981</th>\n",
              "      <td>CA therapeuticsrelated cardiac dysfunction ctr...</td>\n",
              "      <td>cancer|mortality rate|detection|strain|sensitive</td>\n",
              "      <td>962072674309</td>\n",
              "      <td>therapeuticsrelate cardiac dysfunction ctrcd l...</td>\n",
              "    </tr>\n",
              "    <tr>\n",
              "      <th>982</th>\n",
              "      <td>conventional approaches of implementing comput...</td>\n",
              "      <td>after|model|approach|kinetic energy</td>\n",
              "      <td>962072674310</td>\n",
              "      <td>conventional approach implement computational ...</td>\n",
              "    </tr>\n",
              "    <tr>\n",
              "      <th>983</th>\n",
              "      <td>dolichoectasia of the VB artery is a vascular ...</td>\n",
              "      <td>vertebrobasilar</td>\n",
              "      <td>962072674311</td>\n",
              "      <td>dolichoectasia vb artery vascular anomaly char...</td>\n",
              "    </tr>\n",
              "    <tr>\n",
              "      <th>984</th>\n",
              "      <td>some eastern asian countries deem pufferfish e...</td>\n",
              "      <td>compounds|compounds</td>\n",
              "      <td>962072674312</td>\n",
              "      <td>eastern asian country deem pufferfish especial...</td>\n",
              "    </tr>\n",
              "    <tr>\n",
              "      <th>985</th>\n",
              "      <td>mercury is an important pollutant released int...</td>\n",
              "      <td>systematic review|major|factors</td>\n",
              "      <td>962072674313</td>\n",
              "      <td>mercury important pollutant release aquatic ec...</td>\n",
              "    </tr>\n",
              "  </tbody>\n",
              "</table>\n",
              "<p>986 rows × 4 columns</p>\n",
              "</div>\n",
              "    <div class=\"colab-df-buttons\">\n",
              "\n",
              "  <div class=\"colab-df-container\">\n",
              "    <button class=\"colab-df-convert\" onclick=\"convertToInteractive('df-ef3e8474-7893-4140-b909-6578e01245c0')\"\n",
              "            title=\"Convert this dataframe to an interactive table.\"\n",
              "            style=\"display:none;\">\n",
              "\n",
              "  <svg xmlns=\"http://www.w3.org/2000/svg\" height=\"24px\" viewBox=\"0 -960 960 960\">\n",
              "    <path d=\"M120-120v-720h720v720H120Zm60-500h600v-160H180v160Zm220 220h160v-160H400v160Zm0 220h160v-160H400v160ZM180-400h160v-160H180v160Zm440 0h160v-160H620v160ZM180-180h160v-160H180v160Zm440 0h160v-160H620v160Z\"/>\n",
              "  </svg>\n",
              "    </button>\n",
              "\n",
              "  <style>\n",
              "    .colab-df-container {\n",
              "      display:flex;\n",
              "      gap: 12px;\n",
              "    }\n",
              "\n",
              "    .colab-df-convert {\n",
              "      background-color: #E8F0FE;\n",
              "      border: none;\n",
              "      border-radius: 50%;\n",
              "      cursor: pointer;\n",
              "      display: none;\n",
              "      fill: #1967D2;\n",
              "      height: 32px;\n",
              "      padding: 0 0 0 0;\n",
              "      width: 32px;\n",
              "    }\n",
              "\n",
              "    .colab-df-convert:hover {\n",
              "      background-color: #E2EBFA;\n",
              "      box-shadow: 0px 1px 2px rgba(60, 64, 67, 0.3), 0px 1px 3px 1px rgba(60, 64, 67, 0.15);\n",
              "      fill: #174EA6;\n",
              "    }\n",
              "\n",
              "    .colab-df-buttons div {\n",
              "      margin-bottom: 4px;\n",
              "    }\n",
              "\n",
              "    [theme=dark] .colab-df-convert {\n",
              "      background-color: #3B4455;\n",
              "      fill: #D2E3FC;\n",
              "    }\n",
              "\n",
              "    [theme=dark] .colab-df-convert:hover {\n",
              "      background-color: #434B5C;\n",
              "      box-shadow: 0px 1px 3px 1px rgba(0, 0, 0, 0.15);\n",
              "      filter: drop-shadow(0px 1px 2px rgba(0, 0, 0, 0.3));\n",
              "      fill: #FFFFFF;\n",
              "    }\n",
              "  </style>\n",
              "\n",
              "    <script>\n",
              "      const buttonEl =\n",
              "        document.querySelector('#df-ef3e8474-7893-4140-b909-6578e01245c0 button.colab-df-convert');\n",
              "      buttonEl.style.display =\n",
              "        google.colab.kernel.accessAllowed ? 'block' : 'none';\n",
              "\n",
              "      async function convertToInteractive(key) {\n",
              "        const element = document.querySelector('#df-ef3e8474-7893-4140-b909-6578e01245c0');\n",
              "        const dataTable =\n",
              "          await google.colab.kernel.invokeFunction('convertToInteractive',\n",
              "                                                    [key], {});\n",
              "        if (!dataTable) return;\n",
              "\n",
              "        const docLinkHtml = 'Like what you see? Visit the ' +\n",
              "          '<a target=\"_blank\" href=https://colab.research.google.com/notebooks/data_table.ipynb>data table notebook</a>'\n",
              "          + ' to learn more about interactive tables.';\n",
              "        element.innerHTML = '';\n",
              "        dataTable['output_type'] = 'display_data';\n",
              "        await google.colab.output.renderOutput(dataTable, element);\n",
              "        const docLink = document.createElement('div');\n",
              "        docLink.innerHTML = docLinkHtml;\n",
              "        element.appendChild(docLink);\n",
              "      }\n",
              "    </script>\n",
              "  </div>\n",
              "\n",
              "\n",
              "<div id=\"df-6c5ed6be-ec1b-473c-b6bb-defed6465f79\">\n",
              "  <button class=\"colab-df-quickchart\" onclick=\"quickchart('df-6c5ed6be-ec1b-473c-b6bb-defed6465f79')\"\n",
              "            title=\"Suggest charts.\"\n",
              "            style=\"display:none;\">\n",
              "\n",
              "<svg xmlns=\"http://www.w3.org/2000/svg\" height=\"24px\"viewBox=\"0 0 24 24\"\n",
              "     width=\"24px\">\n",
              "    <g>\n",
              "        <path d=\"M19 3H5c-1.1 0-2 .9-2 2v14c0 1.1.9 2 2 2h14c1.1 0 2-.9 2-2V5c0-1.1-.9-2-2-2zM9 17H7v-7h2v7zm4 0h-2V7h2v10zm4 0h-2v-4h2v4z\"/>\n",
              "    </g>\n",
              "</svg>\n",
              "  </button>\n",
              "\n",
              "<style>\n",
              "  .colab-df-quickchart {\n",
              "      --bg-color: #E8F0FE;\n",
              "      --fill-color: #1967D2;\n",
              "      --hover-bg-color: #E2EBFA;\n",
              "      --hover-fill-color: #174EA6;\n",
              "      --disabled-fill-color: #AAA;\n",
              "      --disabled-bg-color: #DDD;\n",
              "  }\n",
              "\n",
              "  [theme=dark] .colab-df-quickchart {\n",
              "      --bg-color: #3B4455;\n",
              "      --fill-color: #D2E3FC;\n",
              "      --hover-bg-color: #434B5C;\n",
              "      --hover-fill-color: #FFFFFF;\n",
              "      --disabled-bg-color: #3B4455;\n",
              "      --disabled-fill-color: #666;\n",
              "  }\n",
              "\n",
              "  .colab-df-quickchart {\n",
              "    background-color: var(--bg-color);\n",
              "    border: none;\n",
              "    border-radius: 50%;\n",
              "    cursor: pointer;\n",
              "    display: none;\n",
              "    fill: var(--fill-color);\n",
              "    height: 32px;\n",
              "    padding: 0;\n",
              "    width: 32px;\n",
              "  }\n",
              "\n",
              "  .colab-df-quickchart:hover {\n",
              "    background-color: var(--hover-bg-color);\n",
              "    box-shadow: 0 1px 2px rgba(60, 64, 67, 0.3), 0 1px 3px 1px rgba(60, 64, 67, 0.15);\n",
              "    fill: var(--button-hover-fill-color);\n",
              "  }\n",
              "\n",
              "  .colab-df-quickchart-complete:disabled,\n",
              "  .colab-df-quickchart-complete:disabled:hover {\n",
              "    background-color: var(--disabled-bg-color);\n",
              "    fill: var(--disabled-fill-color);\n",
              "    box-shadow: none;\n",
              "  }\n",
              "\n",
              "  .colab-df-spinner {\n",
              "    border: 2px solid var(--fill-color);\n",
              "    border-color: transparent;\n",
              "    border-bottom-color: var(--fill-color);\n",
              "    animation:\n",
              "      spin 1s steps(1) infinite;\n",
              "  }\n",
              "\n",
              "  @keyframes spin {\n",
              "    0% {\n",
              "      border-color: transparent;\n",
              "      border-bottom-color: var(--fill-color);\n",
              "      border-left-color: var(--fill-color);\n",
              "    }\n",
              "    20% {\n",
              "      border-color: transparent;\n",
              "      border-left-color: var(--fill-color);\n",
              "      border-top-color: var(--fill-color);\n",
              "    }\n",
              "    30% {\n",
              "      border-color: transparent;\n",
              "      border-left-color: var(--fill-color);\n",
              "      border-top-color: var(--fill-color);\n",
              "      border-right-color: var(--fill-color);\n",
              "    }\n",
              "    40% {\n",
              "      border-color: transparent;\n",
              "      border-right-color: var(--fill-color);\n",
              "      border-top-color: var(--fill-color);\n",
              "    }\n",
              "    60% {\n",
              "      border-color: transparent;\n",
              "      border-right-color: var(--fill-color);\n",
              "    }\n",
              "    80% {\n",
              "      border-color: transparent;\n",
              "      border-right-color: var(--fill-color);\n",
              "      border-bottom-color: var(--fill-color);\n",
              "    }\n",
              "    90% {\n",
              "      border-color: transparent;\n",
              "      border-bottom-color: var(--fill-color);\n",
              "    }\n",
              "  }\n",
              "</style>\n",
              "\n",
              "  <script>\n",
              "    async function quickchart(key) {\n",
              "      const quickchartButtonEl =\n",
              "        document.querySelector('#' + key + ' button');\n",
              "      quickchartButtonEl.disabled = true;  // To prevent multiple clicks.\n",
              "      quickchartButtonEl.classList.add('colab-df-spinner');\n",
              "      try {\n",
              "        const charts = await google.colab.kernel.invokeFunction(\n",
              "            'suggestCharts', [key], {});\n",
              "      } catch (error) {\n",
              "        console.error('Error during call to suggestCharts:', error);\n",
              "      }\n",
              "      quickchartButtonEl.classList.remove('colab-df-spinner');\n",
              "      quickchartButtonEl.classList.add('colab-df-quickchart-complete');\n",
              "    }\n",
              "    (() => {\n",
              "      let quickchartButtonEl =\n",
              "        document.querySelector('#df-6c5ed6be-ec1b-473c-b6bb-defed6465f79 button');\n",
              "      quickchartButtonEl.style.display =\n",
              "        google.colab.kernel.accessAllowed ? 'block' : 'none';\n",
              "    })();\n",
              "  </script>\n",
              "</div>\n",
              "    </div>\n",
              "  </div>\n"
            ]
          },
          "metadata": {},
          "execution_count": 199
        }
      ]
    },
    {
      "cell_type": "code",
      "source": [],
      "metadata": {
        "id": "yB1EWUdFxFsT"
      },
      "execution_count": null,
      "outputs": []
    }
  ]
}