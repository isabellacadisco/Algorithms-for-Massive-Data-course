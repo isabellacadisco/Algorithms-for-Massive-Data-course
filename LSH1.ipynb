{
  "nbformat": 4,
  "nbformat_minor": 0,
  "metadata": {
    "colab": {
      "provenance": [],
      "authorship_tag": "ABX9TyMN1k73rKdm54z7ytv8QiZy",
      "include_colab_link": true
    },
    "kernelspec": {
      "name": "python3",
      "display_name": "Python 3"
    },
    "language_info": {
      "name": "python"
    }
  },
  "cells": [
    {
      "cell_type": "markdown",
      "metadata": {
        "id": "view-in-github",
        "colab_type": "text"
      },
      "source": [
        "<a href=\"https://colab.research.google.com/github/isabellacadisco/Algorithms-for-Massive-Data-course/blob/main/LSH1.ipynb\" target=\"_parent\"><img src=\"https://colab.research.google.com/assets/colab-badge.svg\" alt=\"Open In Colab\"/></a>"
      ]
    },
    {
      "cell_type": "code",
      "execution_count": 1,
      "metadata": {
        "id": "NtNzNXPF9G6o"
      },
      "outputs": [],
      "source": [
        "import os"
      ]
    },
    {
      "cell_type": "code",
      "source": [
        "# download dataset from kaggle and save it in drive\n",
        "\n",
        "\n",
        "#import os\n",
        "os.environ['KAGGLE_USERNAME'] = \"isabellacadisco\"\n",
        "os.environ['KAGGLE_KEY'] = \"847325691c2399e41dc9c0b78fbe499e\"\n",
        "!kaggle datasets download -d xhlulu/medal-emnlp"
      ],
      "metadata": {
        "colab": {
          "base_uri": "https://localhost:8080/"
        },
        "id": "duRq3s1x9Jfg",
        "outputId": "8898b408-b5cf-4191-c2df-ba19bae00e79"
      },
      "execution_count": 2,
      "outputs": [
        {
          "output_type": "stream",
          "name": "stdout",
          "text": [
            "Downloading medal-emnlp.zip to /content\n",
            "100% 6.82G/6.82G [03:25<00:00, 37.6MB/s]\n",
            "100% 6.82G/6.82G [03:25<00:00, 35.7MB/s]\n"
          ]
        }
      ]
    },
    {
      "cell_type": "code",
      "source": [
        "!unzip medal-emnlp.zip #unzip dataset"
      ],
      "metadata": {
        "colab": {
          "base_uri": "https://localhost:8080/"
        },
        "id": "HYaaf5Nb9Kti",
        "outputId": "26829b2b-0ed1-4ac8-eb31-049e1dcc8032"
      },
      "execution_count": 3,
      "outputs": [
        {
          "output_type": "stream",
          "name": "stdout",
          "text": [
            "Archive:  medal-emnlp.zip\n",
            "  inflating: full_data.csv           \n",
            "  inflating: pretrain_subset/test.csv  \n",
            "  inflating: pretrain_subset/train.csv  \n",
            "  inflating: pretrain_subset/valid.csv  \n"
          ]
        }
      ]
    },
    {
      "cell_type": "code",
      "source": [
        "# set up spark\n",
        "!apt-get install openjdk-8-jdk-headless -qq > /dev/null #install java as VM\n",
        "!wget -q https://dlcdn.apache.org/spark/spark-3.4.0/spark-3.4.0-bin-hadoop3.tgz #download Spark\n",
        "!tar xf spark-3.4.0-bin-hadoop3.tgz #unzip the file\n",
        "!pip install -q findspark"
      ],
      "metadata": {
        "id": "IKiCPGQR9MVW"
      },
      "execution_count": 4,
      "outputs": []
    },
    {
      "cell_type": "code",
      "source": [
        "os.environ[\"JAVA_HOME\"] = \"/usr/lib/jvm/java-8-openjdk-amd64\"\n",
        "os.environ[\"SPARK_HOME\"] = \"/content/spark-3.4.0-bin-hadoop3\""
      ],
      "metadata": {
        "id": "acNfvWYr9Nzu"
      },
      "execution_count": 5,
      "outputs": []
    },
    {
      "cell_type": "code",
      "source": [
        "import findspark\n",
        "findspark.init(\"spark-3.4.0-bin-hadoop3\")# SPARK_HOME\n",
        "from pyspark.sql import SparkSession\n",
        "spark = SparkSession.builder.master(\"local[*]\").getOrCreate() #SPARK SESSION"
      ],
      "metadata": {
        "id": "5tUPkeC39PAZ"
      },
      "execution_count": 6,
      "outputs": []
    },
    {
      "cell_type": "code",
      "source": [
        "import pyspark\n",
        "type(spark)"
      ],
      "metadata": {
        "colab": {
          "base_uri": "https://localhost:8080/"
        },
        "id": "-pQMEx7b9Qza",
        "outputId": "78a2e778-ffd3-41a0-8308-39ea7ad67ba5"
      },
      "execution_count": 7,
      "outputs": [
        {
          "output_type": "execute_result",
          "data": {
            "text/plain": [
              "pyspark.sql.session.SparkSession"
            ]
          },
          "metadata": {},
          "execution_count": 7
        }
      ]
    },
    {
      "cell_type": "code",
      "source": [
        "file_path = './full_data.csv'"
      ],
      "metadata": {
        "id": "psDHTu8R9SSM"
      },
      "execution_count": 8,
      "outputs": []
    },
    {
      "cell_type": "code",
      "source": [
        "data_df = spark.read.csv(file_path, header=True)"
      ],
      "metadata": {
        "id": "FP4dtpTJ9UA7"
      },
      "execution_count": 9,
      "outputs": []
    },
    {
      "cell_type": "code",
      "source": [
        "data_df.show()"
      ],
      "metadata": {
        "colab": {
          "base_uri": "https://localhost:8080/"
        },
        "id": "6n4oqVxA9VR2",
        "outputId": "48fe02d0-939a-4b73-bca9-29c24dfe8c98"
      },
      "execution_count": 10,
      "outputs": [
        {
          "output_type": "stream",
          "name": "stdout",
          "text": [
            "+--------------------+--------------------+--------------------+\n",
            "|                TEXT|            LOCATION|               LABEL|\n",
            "+--------------------+--------------------+--------------------+\n",
            "|alphabisabolol ha...|                  56|           substrate|\n",
            "|a report is given...|24|49|68|113|137|172|carcinosarcoma|re...|\n",
            "|the virostatic co...|                  55|           substrate|\n",
            "|rmi rmi and rmi a...|   25|82|127|182|222|compounds|compoun...|\n",
            "|a doubleblind stu...|22|26|28|77|90|14...|oxazepam|placebo|...|\n",
            "|stroma from eithe...|         6|82|84|107|red cells|serum|a...|\n",
            "|the effect of the...|                4|13|major|pentose pho...|\n",
            "|in one experiment...|        32|44|76|135|feeding|feeding|a...|\n",
            "|the presence of a...|7|15|63|137|199|2...|active|study|acti...|\n",
            "|the reaction of g...|     113|203|209|250|stable|assay|bind...|\n",
            "|choline acetyltra...|                  44|             caudate|\n",
            "|increasing concen...|                  81|        displacement|\n",
            "|the properties of...|         5|35|98|257|groups|functional...|\n",
            "|primary amines re...|          95|164|183|arginine|arginine...|\n",
            "|a purification pr...|     9|42|70|100|206|dihydrofolate|spe...|\n",
            "|dihydrofolate red...|71|106|118|130|15...|gel filtration|el...|\n",
            "|ionization effect...|               8|129|transition state|...|\n",
            "|kinetic analyses ...|100|155|161|254|2...|effective|inhibit...|\n",
            "|the nearultraviol...|                 166|        heterologous|\n",
            "|the circular pola...|                 248|polysaccharide an...|\n",
            "+--------------------+--------------------+--------------------+\n",
            "only showing top 20 rows\n",
            "\n"
          ]
        }
      ]
    },
    {
      "cell_type": "code",
      "source": [
        "from pyspark.sql.functions import monotonically_increasing_id"
      ],
      "metadata": {
        "id": "grRSrjCO9Wke"
      },
      "execution_count": 11,
      "outputs": []
    },
    {
      "cell_type": "code",
      "source": [
        "dataset = data_df.select('TEXT').withColumn('doc_id', monotonically_increasing_id())"
      ],
      "metadata": {
        "id": "3xF3JEmX9ZgJ"
      },
      "execution_count": 12,
      "outputs": []
    },
    {
      "cell_type": "code",
      "source": [
        "dataset.show()"
      ],
      "metadata": {
        "colab": {
          "base_uri": "https://localhost:8080/"
        },
        "id": "0CFaUcos9a0_",
        "outputId": "acba500a-3a24-4d61-8263-f281967e2cde"
      },
      "execution_count": 13,
      "outputs": [
        {
          "output_type": "stream",
          "name": "stdout",
          "text": [
            "+--------------------+------+\n",
            "|                TEXT|doc_id|\n",
            "+--------------------+------+\n",
            "|alphabisabolol ha...|     0|\n",
            "|a report is given...|     1|\n",
            "|the virostatic co...|     2|\n",
            "|rmi rmi and rmi a...|     3|\n",
            "|a doubleblind stu...|     4|\n",
            "|stroma from eithe...|     5|\n",
            "|the effect of the...|     6|\n",
            "|in one experiment...|     7|\n",
            "|the presence of a...|     8|\n",
            "|the reaction of g...|     9|\n",
            "|choline acetyltra...|    10|\n",
            "|increasing concen...|    11|\n",
            "|the properties of...|    12|\n",
            "|primary amines re...|    13|\n",
            "|a purification pr...|    14|\n",
            "|dihydrofolate red...|    15|\n",
            "|ionization effect...|    16|\n",
            "|kinetic analyses ...|    17|\n",
            "|the nearultraviol...|    18|\n",
            "|the circular pola...|    19|\n",
            "+--------------------+------+\n",
            "only showing top 20 rows\n",
            "\n"
          ]
        }
      ]
    },
    {
      "cell_type": "code",
      "source": [
        "dataset_reduced = dataset.limit(100)"
      ],
      "metadata": {
        "id": "mKu0BlfB9c5R"
      },
      "execution_count": 14,
      "outputs": []
    },
    {
      "cell_type": "code",
      "source": [
        "dataset_reduced.show()"
      ],
      "metadata": {
        "colab": {
          "base_uri": "https://localhost:8080/"
        },
        "id": "ZPNmnyNbAIfg",
        "outputId": "19f3199d-2f89-4831-c547-cd0795b69415"
      },
      "execution_count": 15,
      "outputs": [
        {
          "output_type": "stream",
          "name": "stdout",
          "text": [
            "+--------------------+------+\n",
            "|                TEXT|doc_id|\n",
            "+--------------------+------+\n",
            "|alphabisabolol ha...|     0|\n",
            "|a report is given...|     1|\n",
            "|the virostatic co...|     2|\n",
            "|rmi rmi and rmi a...|     3|\n",
            "|a doubleblind stu...|     4|\n",
            "|stroma from eithe...|     5|\n",
            "|the effect of the...|     6|\n",
            "|in one experiment...|     7|\n",
            "|the presence of a...|     8|\n",
            "|the reaction of g...|     9|\n",
            "|choline acetyltra...|    10|\n",
            "|increasing concen...|    11|\n",
            "|the properties of...|    12|\n",
            "|primary amines re...|    13|\n",
            "|a purification pr...|    14|\n",
            "|dihydrofolate red...|    15|\n",
            "|ionization effect...|    16|\n",
            "|kinetic analyses ...|    17|\n",
            "|the nearultraviol...|    18|\n",
            "|the circular pola...|    19|\n",
            "+--------------------+------+\n",
            "only showing top 20 rows\n",
            "\n"
          ]
        }
      ]
    },
    {
      "cell_type": "code",
      "source": [
        "dataset_reduced.count()"
      ],
      "metadata": {
        "colab": {
          "base_uri": "https://localhost:8080/"
        },
        "id": "OlNpkULLAJwW",
        "outputId": "6d1433d7-198c-41c0-88a0-d63fe2ae02c7"
      },
      "execution_count": 16,
      "outputs": [
        {
          "output_type": "execute_result",
          "data": {
            "text/plain": [
              "100"
            ]
          },
          "metadata": {},
          "execution_count": 16
        }
      ]
    },
    {
      "cell_type": "code",
      "source": [
        "type(dataset_reduced)"
      ],
      "metadata": {
        "colab": {
          "base_uri": "https://localhost:8080/"
        },
        "id": "-aj0MJ-qALuU",
        "outputId": "c6342b64-a836-40a2-c381-7d85e213f304"
      },
      "execution_count": 17,
      "outputs": [
        {
          "output_type": "execute_result",
          "data": {
            "text/plain": [
              "pyspark.sql.dataframe.DataFrame"
            ]
          },
          "metadata": {},
          "execution_count": 17
        }
      ]
    },
    {
      "cell_type": "markdown",
      "source": [
        "# Class Hash Family"
      ],
      "metadata": {
        "id": "aa-gW9KoAQa3"
      }
    },
    {
      "cell_type": "code",
      "source": [
        "# ci sono degli import che non ho eseguito ma ho potuto comunque creare classe\n",
        "# forse sono già in colab boh\n",
        "\n",
        "import re, hashlib, math, time\n",
        "from random import randint, seed\n",
        "\n",
        "# però sono abbastanza certa che il seed mi serva\n",
        "\n",
        "seed(16)"
      ],
      "metadata": {
        "id": "NkCYOpwGAN6c"
      },
      "execution_count": 18,
      "outputs": []
    },
    {
      "cell_type": "code",
      "source": [
        "# HO MESSO BYTE RITORNO A 4, PENSO 2^32 BUCKET THEN\n",
        "# BUT WHO KNOWS\n",
        "\n",
        "class hashFamily:\n",
        "    def __init__(self, i):\n",
        "        self.resultSize = 4 # how many bytes we want back\n",
        "        self.maxLen = 20 # how long can our i be (in decimal)\n",
        "        self.salt = str(i).zfill(self.maxLen)[-self.maxLen:]\n",
        "        self.id = i\n",
        "\n",
        "    def get_hash_value(self, el_to_hash):\n",
        "        return int(hashlib.sha1(str(el_to_hash).encode('utf-8') + self.salt.encode('utf-8')).hexdigest()[-self.resultSize:], 16)\n",
        ""
      ],
      "metadata": {
        "id": "0Hf34oeIAVpg"
      },
      "execution_count": 21,
      "outputs": []
    },
    {
      "cell_type": "markdown",
      "source": [
        "# Class Shingler"
      ],
      "metadata": {
        "id": "Con3kJWnAZv0"
      }
    },
    {
      "cell_type": "code",
      "source": [
        "class shingler:\n",
        "    def __init__(self, k):\n",
        "\n",
        "        if k > 0:\n",
        "            self.k = int(k)\n",
        "        else:\n",
        "            self.k = 10\n",
        "\n",
        "    #inner class utility\n",
        "    def process_doc(self, document):\n",
        "        return re.sub(\"( )+|(\\n)+\",\" \",document).lower()\n",
        "\n",
        "    def get_shingles(self, document):\n",
        "        shingles = set()\n",
        "        document= self.process_doc(document)\n",
        "        for i in range(0, len(document)-self.k+1 ):\n",
        "            shingles.add(document[i:i+self.k])\n",
        "        return shingles\n",
        "\n",
        "    def get_k(self):\n",
        "        return self.k\n",
        "\n",
        "    #return sorted hash\n",
        "    def get_hashed_shingles(self, shingles_set):\n",
        "        hash_function = hashFamily(0)\n",
        "        return sorted( {hash_function.get_hash_value(s) for s in shingles_set} )"
      ],
      "metadata": {
        "id": "f2-x4Ot-AXBY"
      },
      "execution_count": 20,
      "outputs": []
    },
    {
      "cell_type": "markdown",
      "source": [
        "# Shingling"
      ],
      "metadata": {
        "id": "eRx53QS4Ae9c"
      }
    },
    {
      "cell_type": "code",
      "source": [
        "def shingling_map(row):\n",
        "    out = []\n",
        "    sh_instance = shingler(10)\n",
        "    hashed_shingles = sh_instance.get_hashed_shingles( sh_instance.get_shingles( row['TEXT'] ) )\n",
        "    signature_size = 50\n",
        "    for i in range(0,signature_size): #signature size\n",
        "        out.append( (row['doc_id'], hashed_shingles, i ) )\n",
        "    #return an iterator to use flatMap => produce more than one key-value pair as output (namely one per hash function)\n",
        "    return iter(out)\n",
        "\n",
        "\n"
      ],
      "metadata": {
        "id": "oAmse754AdAq"
      },
      "execution_count": 22,
      "outputs": []
    },
    {
      "cell_type": "code",
      "source": [
        "docId_shingleset_hfunc = dataset_reduced.rdd.flatMap(shingling_map)"
      ],
      "metadata": {
        "id": "vusUAqEkA0Dm"
      },
      "execution_count": 24,
      "outputs": []
    },
    {
      "cell_type": "code",
      "source": [
        "docId_shingleset_hfunc.toDF().show()"
      ],
      "metadata": {
        "colab": {
          "base_uri": "https://localhost:8080/"
        },
        "id": "8zF0V2p4A9Vg",
        "outputId": "a81f47de-193b-46be-ba48-7ee7bdb3f1a8"
      },
      "execution_count": 26,
      "outputs": [
        {
          "output_type": "stream",
          "name": "stdout",
          "text": [
            "+---+--------------------+---+\n",
            "| _1|                  _2| _3|\n",
            "+---+--------------------+---+\n",
            "|  0|[26, 682, 687, 88...|  0|\n",
            "|  0|[26, 682, 687, 88...|  1|\n",
            "|  0|[26, 682, 687, 88...|  2|\n",
            "|  0|[26, 682, 687, 88...|  3|\n",
            "|  0|[26, 682, 687, 88...|  4|\n",
            "|  0|[26, 682, 687, 88...|  5|\n",
            "|  0|[26, 682, 687, 88...|  6|\n",
            "|  0|[26, 682, 687, 88...|  7|\n",
            "|  0|[26, 682, 687, 88...|  8|\n",
            "|  0|[26, 682, 687, 88...|  9|\n",
            "|  0|[26, 682, 687, 88...| 10|\n",
            "|  0|[26, 682, 687, 88...| 11|\n",
            "|  0|[26, 682, 687, 88...| 12|\n",
            "|  0|[26, 682, 687, 88...| 13|\n",
            "|  0|[26, 682, 687, 88...| 14|\n",
            "|  0|[26, 682, 687, 88...| 15|\n",
            "|  0|[26, 682, 687, 88...| 16|\n",
            "|  0|[26, 682, 687, 88...| 17|\n",
            "|  0|[26, 682, 687, 88...| 18|\n",
            "|  0|[26, 682, 687, 88...| 19|\n",
            "+---+--------------------+---+\n",
            "only showing top 20 rows\n",
            "\n"
          ]
        }
      ]
    },
    {
      "cell_type": "markdown",
      "source": [
        "# Min Hashing"
      ],
      "metadata": {
        "id": "Huu_K79QBWSH"
      }
    },
    {
      "cell_type": "code",
      "source": [
        "def minhash_map(docId_ShingleSet_hFunct):\n",
        "    doc_id = docId_ShingleSet_hFunct[0]\n",
        "    shingles = docId_ShingleSet_hFunct[1]\n",
        "    hash_f = hashFamily( docId_ShingleSet_hFunct[2] )\n",
        "    min_h = math.inf\n",
        "    for el in shingles:\n",
        "        hash_value = hash_f.get_hash_value(el)\n",
        "        if hash_value < min_h:\n",
        "            min_h = hash_value\n",
        "\n",
        "    return (doc_id, min_h )"
      ],
      "metadata": {
        "id": "cQZnwnCTBKaJ"
      },
      "execution_count": 27,
      "outputs": []
    },
    {
      "cell_type": "code",
      "source": [
        "sig_matrix = docId_shingleset_hfunc.map(minhash_map).groupByKey().map(lambda x : (x[0], list(x[1])))"
      ],
      "metadata": {
        "id": "u7gB-pxIBbUX"
      },
      "execution_count": 28,
      "outputs": []
    },
    {
      "cell_type": "code",
      "source": [
        "sig_matrix.toDF().show()"
      ],
      "metadata": {
        "colab": {
          "base_uri": "https://localhost:8080/"
        },
        "id": "L1_ULUBsBkVh",
        "outputId": "8178f3c7-dd31-4e88-c2f5-e735812f5440"
      },
      "execution_count": 29,
      "outputs": [
        {
          "output_type": "stream",
          "name": "stdout",
          "text": [
            "+---+--------------------+\n",
            "| _1|                  _2|\n",
            "+---+--------------------+\n",
            "|  0|[112, 33, 165, 24...|\n",
            "|  1|[91, 17, 15, 14, ...|\n",
            "|  2|[150, 248, 88, 27...|\n",
            "|  3|[46, 73, 0, 45, 1...|\n",
            "|  4|[61, 77, 100, 389...|\n",
            "|  5|[71, 42, 73, 325,...|\n",
            "|  6|[72, 397, 131, 25...|\n",
            "|  7|[10, 32, 37, 100,...|\n",
            "|  8|[31, 22, 9, 85, 8...|\n",
            "|  9|[27, 32, 33, 49, ...|\n",
            "| 10|[114, 100, 41, 50...|\n",
            "| 11|[7, 192, 153, 44,...|\n",
            "| 12|[26, 120, 15, 29,...|\n",
            "| 13|[10, 71, 9, 92, 7...|\n",
            "| 14|[5, 135, 24, 20, ...|\n",
            "| 15|[92, 22, 150, 226...|\n",
            "| 16|[114, 39, 1, 38, ...|\n",
            "| 17|[31, 60, 23, 11, ...|\n",
            "| 18|[31, 5, 9, 169, 1...|\n",
            "| 19|[63, 21, 156, 11,...|\n",
            "+---+--------------------+\n",
            "only showing top 20 rows\n",
            "\n"
          ]
        }
      ]
    },
    {
      "cell_type": "markdown",
      "source": [
        "# LSH"
      ],
      "metadata": {
        "id": "S_l0skWMCAvW"
      }
    },
    {
      "cell_type": "code",
      "source": [
        "def map_buckets(row):\n",
        "\n",
        "    band_nr = 5\n",
        "    row_nr = 10\n",
        "    doc_id = row[0]\n",
        "    doc_sign = row[1]\n",
        "    hash_funct = hashFamily(1)\n",
        "    out = []\n",
        "\n",
        "    for i in range(0,band_nr):\n",
        "        band_id = i\n",
        "        idx = i*row_nr\n",
        "        set_col = ' '.join(str(x) for x in doc_sign[idx:idx+row_nr])\n",
        "        bucket = hash_funct.get_hash_value(set_col)\n",
        "        out.append( ( (band_id, bucket), doc_id)  )\n",
        "\n",
        "    return iter(out) #since we are going to return multiple tuple we call flatMap() and return an iterator on those tuple\n",
        ""
      ],
      "metadata": {
        "id": "SaOMlo0bBpNB"
      },
      "execution_count": 30,
      "outputs": []
    },
    {
      "cell_type": "code",
      "source": [
        "candidates = sig_matrix.flatMap(map_buckets).groupByKey().map(lambda x : (x[0], list(x[1])))"
      ],
      "metadata": {
        "id": "-0WeoWjECE5j"
      },
      "execution_count": 31,
      "outputs": []
    },
    {
      "cell_type": "code",
      "source": [
        "candidates.toDF().show()"
      ],
      "metadata": {
        "colab": {
          "base_uri": "https://localhost:8080/"
        },
        "id": "iU9-0jzuCIXs",
        "outputId": "2fc02ba8-0526-4729-ac89-c4d1eb207784"
      },
      "execution_count": 32,
      "outputs": [
        {
          "output_type": "stream",
          "name": "stdout",
          "text": [
            "+----------+---+\n",
            "|        _1| _2|\n",
            "+----------+---+\n",
            "|{0, 19888}|[0]|\n",
            "|{1, 30040}|[0]|\n",
            "|{2, 63225}|[0]|\n",
            "|{3, 49022}|[0]|\n",
            "|{4, 21767}|[0]|\n",
            "|{0, 51117}|[1]|\n",
            "|{1, 20314}|[1]|\n",
            "|{2, 60241}|[1]|\n",
            "|{3, 64664}|[1]|\n",
            "|{4, 60462}|[1]|\n",
            "|{0, 43030}|[2]|\n",
            "|{1, 46047}|[2]|\n",
            "|{2, 21694}|[2]|\n",
            "|{3, 24114}|[2]|\n",
            "| {4, 8036}|[2]|\n",
            "|{0, 52071}|[3]|\n",
            "|{1, 12186}|[3]|\n",
            "| {2, 8892}|[3]|\n",
            "|{3, 59805}|[3]|\n",
            "|{4, 37658}|[3]|\n",
            "+----------+---+\n",
            "only showing top 20 rows\n",
            "\n"
          ]
        }
      ]
    },
    {
      "cell_type": "code",
      "source": [
        "similar_pairs = set()\n",
        "sig_df = sig_matrix\n",
        "sig_df.persist() #store it in memory to avoid lazy behaviour\n",
        "sig_df = sig_df.collect() #collect all the distributed record to speedup computation\n",
        "start_time = time.time()\n",
        "\n",
        "for candidates_list in candidates.map(lambda x: x[1]).collect(): #collecting all candidate lists from worker nodes\n",
        "\n",
        "    candidates_nr = len(candidates_list)\n",
        "\n",
        "    for i in range(0,candidates_nr-1):\n",
        "        for j in range(i+1,candidates_nr):\n",
        "\n",
        "            doc_id_1 = candidates_list[i]\n",
        "            doc_id_2 = candidates_list[j]\n",
        "\n",
        "            docId_Sig_1 = sig_df[doc_id_1]\n",
        "            docId_Sig_2 = sig_df[doc_id_2]\n",
        "            if docId_Sig_1[0] != doc_id_1:\n",
        "                raise Exception(\"DocId is %d while retrived %d from signature matrix.\"%(doc_id_1,docId_Sig_1[0]))\n",
        "            if docId_Sig_2[0] != doc_id_2:\n",
        "                raise Exception(\"DocId is %d while retrived %d from signature matrix.\"%(doc_id_1,docId_Sig_2[0]))\n",
        "\n",
        "            sig_1 = set(docId_Sig_1[1]) #transform signature into a set\n",
        "            sig_2 = set(docId_Sig_2[1])\n",
        "            #sig_1 = sig_df.filter(\"_1 ==\"+\" \"+ str(doc_id_1) ).select('_2') #get signature of doc 1\n",
        "            #sig_2 = sig_df.filter(\"_1 ==\"+\" \"+ str(doc_id_2) ).select('_2') #get signature of doc 2\n",
        "\n",
        "            #sig_2 = set(sig_2.collect()[0]['_2'])\n",
        "            js = len(sig_1.intersection(sig_2) ) / len(sig_1.union(sig_2) ) #Compute Jaccard'Similarity\n",
        "            if js >= 0.008:\n",
        "                pair = tuple(sorted((doc_id_1,doc_id_2) ))\n",
        "                similar_pairs.add(  pair   )\n",
        "\n",
        "end_time = time.time()\n",
        "\n",
        "lsh_time = end_time - start_time\n",
        "\n",
        "print(\"FOUND %d SIMILAR PAIRS\" %len(similar_pairs))"
      ],
      "metadata": {
        "colab": {
          "base_uri": "https://localhost:8080/"
        },
        "id": "M8b314SLCMyN",
        "outputId": "6b363b43-06b8-4ac7-a5e7-f2bfea37efa8"
      },
      "execution_count": 47,
      "outputs": [
        {
          "output_type": "stream",
          "name": "stdout",
          "text": [
            "FOUND 1 SIMILAR PAIRS\n"
          ]
        }
      ]
    },
    {
      "cell_type": "code",
      "source": [
        "similar_pairs"
      ],
      "metadata": {
        "colab": {
          "base_uri": "https://localhost:8080/"
        },
        "id": "FSqmHzx8HZNk",
        "outputId": "13715c62-3771-42df-bf3a-be32018a1bbe"
      },
      "execution_count": 48,
      "outputs": [
        {
          "output_type": "execute_result",
          "data": {
            "text/plain": [
              "{(12, 42)}"
            ]
          },
          "metadata": {},
          "execution_count": 48
        }
      ]
    },
    {
      "cell_type": "code",
      "source": [
        "DocID_Shingles=docId_shingleset_hfunc.map(lambda x: (x[0],x[1]) ).reduceByKey(lambda x,y: x).collect()\n",
        "#DocID_Shingles.persist()\n",
        "doc_nr = len(DocID_Shingles)\n",
        "similar_pairs_bf = set()\n",
        "\n",
        "start_time = time.time()\n",
        "\n",
        "for i in range(0,doc_nr-1):\n",
        "    for j in range(i,doc_nr):\n",
        "        doc_id_1 = DocID_Shingles[i][0] #DocID_Shingles[i] is  tuple (doc_id, shingle_set)\n",
        "        doc_id_2 = DocID_Shingles[j][0]\n",
        "\n",
        "        sig_1 = set(DocID_Shingles[i][1]) #transform shingle_set into a python set data structure\n",
        "        sig_2 = set(DocID_Shingles[j][1])\n",
        "        js = len(sig_1.intersection(sig_2) ) / len(sig_1.union(sig_2) ) #Compute Jaccard'Similarity\n",
        "        if js >= 0.8:\n",
        "            pair = tuple(sorted((doc_id_1,doc_id_2) ))\n",
        "            similar_pairs_bf.add(  pair   )\n",
        "\n",
        "end_time = time.time()\n",
        "\n",
        "bf_time = end_time - start_time\n",
        "\n",
        "print(\"FOUND %d SIMILAR PAIRS WITH BRUTEFORCE\" %len(similar_pairs_bf))"
      ],
      "metadata": {
        "colab": {
          "base_uri": "https://localhost:8080/"
        },
        "id": "zm0HjkkmCXzM",
        "outputId": "6d6a31df-92ab-4529-e2be-5214daaa83a4"
      },
      "execution_count": 34,
      "outputs": [
        {
          "output_type": "stream",
          "name": "stdout",
          "text": [
            "FOUND 99 SIMILAR PAIRS WITH BRUTEFORCE\n"
          ]
        }
      ]
    },
    {
      "cell_type": "code",
      "source": [
        "for i in range(0,3):\n",
        "    pair = similar_pairs.pop()\n",
        "    doc1 = pair[0]\n",
        "    doc2 = pair[1]\n",
        "    print(\"Doc: \"+str(i))\n",
        "    dataset_reduced.where('doc_id == '+str(doc1)).show()\n",
        "    print(\"Similar Doc:\")\n",
        "    dataset_reduced.where('doc_id == '+str(doc2)).show()\n",
        "    print(\"\\n\\n\")"
      ],
      "metadata": {
        "colab": {
          "base_uri": "https://localhost:8080/",
          "height": 564
        },
        "id": "rB_EkK39CbY-",
        "outputId": "9482da87-5946-40e6-ab20-8767dde70350"
      },
      "execution_count": 49,
      "outputs": [
        {
          "output_type": "stream",
          "name": "stdout",
          "text": [
            "Doc: 0\n",
            "+--------------------+------+\n",
            "|                TEXT|doc_id|\n",
            "+--------------------+------+\n",
            "|the properties of...|    12|\n",
            "+--------------------+------+\n",
            "\n",
            "Similar Doc:\n",
            "+--------------------+------+\n",
            "|                TEXT|doc_id|\n",
            "+--------------------+------+\n",
            "|the phosphorylate...|    42|\n",
            "+--------------------+------+\n",
            "\n",
            "\n",
            "\n",
            "\n"
          ]
        },
        {
          "output_type": "error",
          "ename": "KeyError",
          "evalue": "ignored",
          "traceback": [
            "\u001b[0;31m---------------------------------------------------------------------------\u001b[0m",
            "\u001b[0;31mKeyError\u001b[0m                                  Traceback (most recent call last)",
            "\u001b[0;32m<ipython-input-49-5a3eaea0426a>\u001b[0m in \u001b[0;36m<cell line: 1>\u001b[0;34m()\u001b[0m\n\u001b[1;32m      1\u001b[0m \u001b[0;32mfor\u001b[0m \u001b[0mi\u001b[0m \u001b[0;32min\u001b[0m \u001b[0mrange\u001b[0m\u001b[0;34m(\u001b[0m\u001b[0;36m0\u001b[0m\u001b[0;34m,\u001b[0m\u001b[0;36m3\u001b[0m\u001b[0;34m)\u001b[0m\u001b[0;34m:\u001b[0m\u001b[0;34m\u001b[0m\u001b[0;34m\u001b[0m\u001b[0m\n\u001b[0;32m----> 2\u001b[0;31m     \u001b[0mpair\u001b[0m \u001b[0;34m=\u001b[0m \u001b[0msimilar_pairs\u001b[0m\u001b[0;34m.\u001b[0m\u001b[0mpop\u001b[0m\u001b[0;34m(\u001b[0m\u001b[0;34m)\u001b[0m\u001b[0;34m\u001b[0m\u001b[0;34m\u001b[0m\u001b[0m\n\u001b[0m\u001b[1;32m      3\u001b[0m     \u001b[0mdoc1\u001b[0m \u001b[0;34m=\u001b[0m \u001b[0mpair\u001b[0m\u001b[0;34m[\u001b[0m\u001b[0;36m0\u001b[0m\u001b[0;34m]\u001b[0m\u001b[0;34m\u001b[0m\u001b[0;34m\u001b[0m\u001b[0m\n\u001b[1;32m      4\u001b[0m     \u001b[0mdoc2\u001b[0m \u001b[0;34m=\u001b[0m \u001b[0mpair\u001b[0m\u001b[0;34m[\u001b[0m\u001b[0;36m1\u001b[0m\u001b[0;34m]\u001b[0m\u001b[0;34m\u001b[0m\u001b[0;34m\u001b[0m\u001b[0m\n\u001b[1;32m      5\u001b[0m     \u001b[0mprint\u001b[0m\u001b[0;34m(\u001b[0m\u001b[0;34m\"Doc: \"\u001b[0m\u001b[0;34m+\u001b[0m\u001b[0mstr\u001b[0m\u001b[0;34m(\u001b[0m\u001b[0mi\u001b[0m\u001b[0;34m)\u001b[0m\u001b[0;34m)\u001b[0m\u001b[0;34m\u001b[0m\u001b[0;34m\u001b[0m\u001b[0m\n",
            "\u001b[0;31mKeyError\u001b[0m: 'pop from an empty set'"
          ]
        }
      ]
    },
    {
      "cell_type": "code",
      "source": [
        "dataset_reduced.where('doc_id == '+str(doc1)).take(1)"
      ],
      "metadata": {
        "colab": {
          "base_uri": "https://localhost:8080/"
        },
        "id": "PmsAVe42ClzC",
        "outputId": "8a2b78b3-f98e-48cf-a3f0-532a5e036f7d"
      },
      "execution_count": 56,
      "outputs": [
        {
          "output_type": "execute_result",
          "data": {
            "text/plain": [
              "[Row(TEXT='the properties of the functional CG in a protein can be used as builtinprobes of the structure of the protein we have developed a general procedure whereby the ionization constant and chemical reactivity of solitary PET groups in proteins may be determined the method may be applied to the side chain of histidine tyrosine lysine and cysteine as well as to the amino terminus of the protein the method which is an extension of the competitive labeling technique using h and cfluorodinitrobenzene nphf in a doublelabeling procedure is rapid and sensitive advantage is taken of the fact that T3 acid hydrolysis of a dinitrophenylated protein a derivative is obtained which must be derived from a unique position in the protein the method has been applied to the solitary histidine residue of lysozyme alphalytic protease and streptomyces griseus sg trypsin as well as to the amino terminus of the latter protein the following parameters were obtained for reaction with nphf at degrees c in n kcl the histidine of hen eggwhite lysozyme pka of and secondorder velocity constant of m min the histidine of alphalytic protease pka of and secondorder velocity constant of m min the histidine of sg trypsin pka of and secondorder velocity constant of m min the valyl amino terminus of sg trypsin pka of and secondorder velocity constant of m min in addition the results obtained provide clues as to the microenvironments of these functional groups and indicate that the proteins studied undergo phdependent conformational changes which affect the microenvironment and hence the chemical CR of these groups', doc_id=12)]"
            ]
          },
          "metadata": {},
          "execution_count": 56
        }
      ]
    },
    {
      "cell_type": "code",
      "source": [
        "dataset_reduced.where('doc_id == '+str(doc2)).take(1)"
      ],
      "metadata": {
        "colab": {
          "base_uri": "https://localhost:8080/"
        },
        "id": "Lc6ZvZY6Irbk",
        "outputId": "b7a52b8f-5c42-492a-9878-e404c3dd43c3"
      },
      "execution_count": 57,
      "outputs": [
        {
          "output_type": "execute_result",
          "data": {
            "text/plain": [
              "[Row(TEXT='the phosphorylated form of CL glycogen phosphorylase alphaglucan orthophosphate alphaglucosyltransferase ec phosphorylase a is AS and easily measured while the dephosphorylated form phosphorylase b in contrast to the muscle enzyme has been reported to be essentially inactive even in the presence of amp we have purified both forms of phosphorylase from rat liver and studied the characteristics of each phosphorylase b activity can be measured with our assay conditions the phosphorylase b we obtained was stimulated by high concentrations of sulfate and was a substrate for muscle phosphorylase kinase whereas phosphorylase a was inhibited by sulfate and was a ATP for liver phosphorylase phosphatase substrate IB to phosphorylase b was poor km glycogen mm glucosep mm compared to phosphorylase a km glycogen mm km glucosep mm CL phosphorylase b was AS in the absence of amp however amp lowered the km for glucosep to mm for purified phosphorylase b and to mm for the enzyme in CE ka mm using AGA substrate buffer and amp concentrations assay conditions have been developed which allow determination of phosphorylase a and of the phosphorylase b activity in liver extracts interconversion of the two forms can be demonstrated in vivo under acute stimulation and in vitro with little change in total activity a decrease in total phosphorylase activity has been observed T3 prolonged starvation and in diabetes', doc_id=42)]"
            ]
          },
          "metadata": {},
          "execution_count": 57
        }
      ]
    },
    {
      "cell_type": "code",
      "source": [
        "dataset.take(43)"
      ],
      "metadata": {
        "colab": {
          "base_uri": "https://localhost:8080/"
        },
        "id": "EyY5zkkkJFhX",
        "outputId": "3c0d6d57-a236-4746-e6b6-f81d9e085a6d"
      },
      "execution_count": 60,
      "outputs": [
        {
          "output_type": "execute_result",
          "data": {
            "text/plain": [
              "[Row(TEXT='alphabisabolol has a primary antipeptic action depending on dosage which is not caused by an alteration of the phvalue the proteolytic activity of pepsin is reduced by percent through addition of bisabolol in the ratio of the antipeptic action of bisabolol only occurs in case of direct contact in case of a previous contact with the ATP the inhibiting effect is lost', doc_id=0),\n",
              " Row(TEXT='a report is given on the recent discovery of outstanding immunological properties in ba ncyanoethyleneurea having a low molecular mass m experiments in ds CS bearing wistar rats have shown that ba at a dosage of only about percent ld mg kg and negligible lethality percent results in a REC rate of percent without hyperglycemia and in one test of percent with hyperglycemia under otherwise unchanged conditions the REF substance ifosfamide if a further development of cyclophosphamide applied without hyperglycemia in its most efficient dosage of percent ld mg kg brought about a recovery rate of percent at a lethality of percent contrary to ba min hyperglycemia caused no further improvement of the REC rate however this comparison is characterized by the fact that both substances exhibit two quite different complementary mechanisms of action leucocyte counts made T3 application of the said cancerostatics and dosages have shown a pronounced stimulation with ba and with ifosfamide the known suppression in the posttherapeutic interval usually found with standard cancerostatics in combination with the cited PI test for ba blood pictures then allow conclusions on the immunity status since if can be taken as one of the most efficient cancerostaticsthere is no other chemotherapeutic known up to now that has a more significant effect on the ds carcinosarcoma in rats these findings are of special importance finally the total amount of leucocytes and lymphocytes as well as their time behaviour was determined from the blood picture of tumourfree rats after iv application of ba the thus obtained numerical values clearly show that further research work on the prophylactic use of this substance seems to be necessary and very promising', doc_id=1),\n",
              " Row(TEXT='the virostatic compound nndiethyloxotetradecylimidazolidinylethylpiperazinecarboxamidehydrochloride was analyzed as to its effect on the induction of tryptophanpyrrolase and tyrosineaminotransferase in rat liver the basic activity of the enzymes was not influenced by the substance either in normal or in adrenalectomized animals the induction of the enzymes by cortisone increased in the presence of the compound whereas the ATP induction remained unchanged the induction of tyrosineaminotransferase by dexamethasonephosphate in tissue culture is inhibited if the dose of compound is higher than mugml', doc_id=2),\n",
              " Row(TEXT='rmi rmi and rmi are newly synthetized nrdibenzobfoxepinylnmethylpiperazinemaleates which show interesting psychopharmacologic effects this work contains the results of a study performed with these three EDC in order to demonstrate their neuropsycholeptic activity in comparison with chloropromazine cpz and chlordiazepoxide cpd the inhibition of motility observed in mice shows that the compounds reduce the normal spontaneous motility as well as the muscle tone the centraldepressant activity is evidenced by increased barbiturateinduced sleep and a remarkable eyelid ptosis can also be observed our EDC do not show any activity on electroshock just as do cpz and cpd as to the antipsychotic outline our compounds show strong reduction of lethality due to amphetamine in grouped mice and a strong antiapomorphine activity they show also an antiaggressive effect and an GABA activity on avoidance behaviour much stronger than cpz we have also found extrapyramidal effects as catalepsy common to many tranquillizers of the kind of the standards used by us as for vegetative phenomena the compounds show hypotensive dose related action ranging from moderate to strong probably due to an areceptor inhibition adrenolytic activity against MLD of adrenaline antiserotonin and antihistaminic effects as well as other actions hypothermia analgesia etc confirm that rmi rmi and rmi are endowed with pharmacologic properties similar and more potent than those of cpz studies on the metabolism of brain CAs show that they are similar to cpz although with less effect on dopamine level', doc_id=3),\n",
              " Row(TEXT='a doubleblind study with intraindividual comparisons was carried out to investigate the effects of mg of ralphahydroxyisopropylalphahtropanium bromidetropate sch mg sch mg OX mg oxazepam and PL with p.o. in randomized sequence on gastric juice volume amount of acid concentration and ph values in healthy volunteers the secretion parameters were measured during a h basal period and a h stimulation period the gastric juice was obtained in min portions via stomach tube stimulation was effected by mugkgh PG via drip infusion the friedman test was used for the comparative statistical DUE and individual comparisons were carried out by means of the wilcoxon test pairdifferences rank the results show that sch and sch oxazepam were equal in effect on basal and stimulated secretion volume as compared with placebo it was not possible to establish an effect on secretion volume for oxazepam alone sch and sch OX were found to be equipotent in reducing the amount of basal acid while OX reduced this quantity only during the first min of basal secretion none of the three active preparations was capable of inhibiting the stimulated acid although both sch preparations produced a clear trend towards lowered mean values during the basal secretion period all three test S9 had an inhibiting action on acid concentration but none of them had a significant effect during the stimulation period the ph value was savely increased only by sch and sch oxazepam and this even only during the basal period the results are discussed', doc_id=4),\n",
              " Row(TEXT='stroma from either normal or pnhlike CRC is capable of inhibiting to some extent lysis in the sucrose test and enhancing lysis in the acidifiedserum test the same opposing effects are displayed by the exclusion peaks from sephadex g obtained from each stroma preparation suggesting that the same factor could be responsible for both activities stromata and peaks also induce lysis of pnhlike cells in unacidified serum indicating activation of complement through the alternate pathway this is confirmed by immunoelectrophoretic observation when SS previously G1 through the alternate pathway is used in the sucrose test the amount of lysis is markedly reduced this would indicate that the CP pathway activation can be controlled by the alternate pathway the possible clinical significance of these factors in determining the haemolytic crisis in pnh patients is discussed', doc_id=5),\n",
              " Row(TEXT='the effect of the L1 metabolite of aspirin namely salicylic acid upon the PP pathway ppp of normal and gpddeficient red cells has been studied salicylic acid was shown to inhibit this pathway in proportion to the amount present at any concentration of this substance there was greater inhibition of the ppp in gpddeficient than in normal red cells', doc_id=6),\n",
              " Row(TEXT='in one experiment the effect on rumen ph of feeding with restricted amounts of whole or pelleted barley was studied with whole barley there was little variation in rumen ph associated with FF time but with pelleted barley the ph decreased from about before FF to about h after feeding the rate of disappearance of dried grass during incubation in the rumens of sheep receiving either whole or pelleted barley was studied in a second experiment T3 h incubation only mgg incubated had disappeared in the rumen of sheep receiving pelleted barley while mgg incubated had disappeared when it was incubated in the rumen of sheep receiving whole barley the voluntary intake of dried grass of lambs was studied in a third experiment when they received supplements of either or g whole or pelleted barleykg LW at the high level pelleted barley reduced intake of dried grass by gkg but whole barley reduced it by only gkg the digestibility of aciddetergent fibre was reduced more by pelleted barley than by whole barley but there was a tendency for a small increase in digestibility of the barley due to processing the implications of these findings on supplementation of roughages with cereals are discussed', doc_id=7),\n",
              " Row(TEXT='the presence of at least two ionizable AS center groups has been detected by a T0 of the effect of ph upon catalysis of hydrolysis of lalanylbetanaphthylamide by human liver alanine aminopeptidase and upon the inhibition of hydrolysis by inhibitors and substrate analogs octanoic acid octylamine and peptide inhibitors have been found to be competitive inhibitors and are therefore thought to bind the AS center lphe was previously shown to bind the active center since it was found to be a competitive inhibitor of the hydrolysis of tripeptide substrates garner c w and behal f j biochemistry a plot of pkm vs ph for the substrate lalabetanaphthylamide showed that binding decreased below ph and above the points at which the theoretical curve undergoes an integral change in slope these points are interpreted as the pka either of ATP ionizable groups or bindingdependent enzyme active center groups similar plots of pkm vs ph for lalanylpnitroanilide as substrate and pki vs ph for lleulleulleu and dleultyr as inhibitors gave pairs fo pka values of and and and and respectively all the above substrates and dleultyr have pka values near therefore the bindingdependent group with a pka value near is possibly this ATP group similar plots of pki vs ph for the inhibitors lphe lmet lleu octylamine and octanoic acid had only one bending point at and respectively amino acid inhibitors octylamine and octanoic acid have no groups with pka values between and these data indicate that there are two AS center ionizable groups with pka values of approximately and which are involved in substrate binding or inhibitory CAA binding but not in catalysis since vmax was constant at all ph values tested', doc_id=8),\n",
              " Row(TEXT='the reaction of glutamate dehydrogenase and glutamate gl with nad and nadp has been studied with stoppedflow techniques the enzyme was in all experiments present in excess of the coenzyme the results indicate that the ternary complex enadphkg is present as an intermediate in the formation of the stable complex enadphgl the identification of the complexes is based on their absorption spectra the binding of the coenzyme to egl is the ratelimiting step in the formation of enadphkg while the dissociation of alphaketoglutarate kg from this complex is the ratelimiting step in the formation of enadphgl the km for glutamate was mm in the first reaction and mm in the formation of the SD complex the km values were independent of the coenzyme the reaction rates with nad were approximately greater than those with nadp furthermore high glutamate concentration inhibited the formation of enadhkg while no substrate inhibition was found with nadp as coenzyme adp enhanced while gtp reduced the rate of enadphgl formation the rate of formation of enadphkg was inhibited by adp while it increased at high glutamate concentration when small amounts of gtp were added the results show that the higher activity found with nad compared to nadp under steadystate CA conditions do not necessarily involve IB of nad to the adp activating site of the enzyme moreover the substrate inhibition found at high glutamate concentration under steadystate assay condition is not due to the formation of enadphgl as this complex is formed with km of mm glu and the substrate inhibition is only significant at times this concentration', doc_id=9),\n",
              " Row(TEXT='choline acetyltransferase ec catalyzes the biosynthesis of acetylcholine according to the following chemical equation acetylcoa choline in equilibrium to acetylcholine coa in addition to nervous tissue primate placenta is the only other animal source which contains appreciable acetylcholine and its biosynthetic enzyme human brain Cd nucleus and human placental choline acetyltransferase were purified to electrophoretic homogeneity using ionexchange and blue dextransepharose affinity chromatography the molecular weights determined by sephadex g gel filtration and sodium dodecyl sulfate gel electrophoresis are plus or minus nethylmaleimide pchloromercuribenzoate and dithiobisnitrobenzoic acid inhibit the enzyme dithiothreitol reverses the inhibition produced by the latter two reagents the pka of the group associated with nethylmaleimide inhibition is plus or minus a chemically competent acetylthioenzyme is isolable by sephadex gel filtration the enzymes from the brain and placenta are thus far physically and biochemically indistinguishable', doc_id=10),\n",
              " Row(TEXT='increasing concentrations of chloride were found to increase the resolution between two visible absorbance spectral transitions associated with acidification of ferricytochrome c analysis of a variety of spectral and viscosity measurements indicates that protonation of a single group having an apparent pk of and an intrinsic pk of about displaces the methionine ligand without significantly perturbing the native globular conformation analysis of methylated ferricytochrome c suggests that protonation of a carboxylate ion most likely a heme propionate residue is responsible for MSD of the methionine ligand addition of a proton to a second group having an apparent pk of displaces the histidine ligand and unfolds the protein from a globular conformation into a random coil it is most likely that the second protonation occurs on the imidazole ring of the histidine ligand itself chloride is proposed to perturb these transitions by ligation in the fifth coordination position of the heme ion such ligation stabilizes a globular conformation of ferricytochrome c at ph and degrees', doc_id=11),\n",
              " Row(TEXT='the properties of the functional CG in a protein can be used as builtinprobes of the structure of the protein we have developed a general procedure whereby the ionization constant and chemical reactivity of solitary PET groups in proteins may be determined the method may be applied to the side chain of histidine tyrosine lysine and cysteine as well as to the amino terminus of the protein the method which is an extension of the competitive labeling technique using h and cfluorodinitrobenzene nphf in a doublelabeling procedure is rapid and sensitive advantage is taken of the fact that T3 acid hydrolysis of a dinitrophenylated protein a derivative is obtained which must be derived from a unique position in the protein the method has been applied to the solitary histidine residue of lysozyme alphalytic protease and streptomyces griseus sg trypsin as well as to the amino terminus of the latter protein the following parameters were obtained for reaction with nphf at degrees c in n kcl the histidine of hen eggwhite lysozyme pka of and secondorder velocity constant of m min the histidine of alphalytic protease pka of and secondorder velocity constant of m min the histidine of sg trypsin pka of and secondorder velocity constant of m min the valyl amino terminus of sg trypsin pka of and secondorder velocity constant of m min in addition the results obtained provide clues as to the microenvironments of these functional groups and indicate that the proteins studied undergo phdependent conformational changes which affect the microenvironment and hence the chemical CR of these groups', doc_id=12),\n",
              " Row(TEXT='primary amines react with pentanedione at ph to form enamines nalkylaminopentenones the latter compounds readily regenerate the primary amine at low ph or on treatment with hydroxylamine guanidine and substituted guanidines react with pentanedione to form nsubstituted aminodimethylpyrimidines at a rate which is lower by at least a factor of than the rate of reaction of pentanedione with primary amines selective modification of lysine and arginine side chains in proteins can readily be achieved with pentanedione modification of lysine is favored by reaction at ph or for short reaction times at ph selective modification of Arg is achieved by reaction with pentanedione for long times at ph followed by treatment of the protein with hydroxylamine the extent of modification of lysine and arginine side chains can readily be measured spectrophotometrically modification of lysozyme with pentanedione at ph results in modification of lysine residues and less than arginine residue in hr modification of lysozyme with pentanedione at ph results in modification of lysine residues and Arg residues in hr treatment of this modified protein with hydroxylamine regenerated the modified lysine residues but caused no NC in the modified arginine residues one arginine residue seems to be essential for the catalytic activity of the enzyme', doc_id=13),\n",
              " Row(TEXT='a purification procedure is reported for obtaining bovine liver DHF reductase in high yield and amounts of mg a key step in the procedure is the use of an affinity gel prepared by coupling pteroylllysine to sepharose the purified reductase has a TPS activity of about unitsmg and is homogeneous as judged by analytical ultracentrifugation polyacrylamide gel electrophoresis and titration with methotrexate the products of the first step of edman Kd indicated a minimum purity of the reductase has a molecular weight of about on the basis of amino acid composition and from equilibrium sedimentation it is not inhibited by AS to the streptococcus faecium reductase isoenzyme unlike the reductase of many other vertebrate tissues the bovine enzyme is inhibited by mercurials rather than activated and it has a single ph optimum at both low and high ionic strength however the position of the ph optimum is shifted and the activity increased by increasing ionic strength automatic edman degradation has been used to determine of the aminoterminal amino acid residues considerable homology exists between this region and the corresponding regions of the reductase from s faecium and from escherichia coli this strengthens the idea that this region contributes to the structure of the binding site for DHF', doc_id=14),\n",
              " Row(TEXT='dihydrofolate reductase has been purified fold to apparent homogeneity from a trimethoprimresistant strain of escherichia coli rt using a procedure that includes methotrexate affinity column chromatography determinations of the molecular weight of the enzyme based on its amino acid composition sedimentation velocity and sodium dodecyl sulfate gel electrophoresis gave values of and respectively an aggregated form of the enzyme with a low specific activity can be separated from the monomer by GF treatment of the aggregate with mercaptoethanol or dithiothreitol results in an increase in enzymic activity and a regeneration of the monomer also multiple molecular forms of the monomer have been detected by polyacrylamide gel PACE the unresolved enzyme exhibits two ph optima ph and ph with DHF as a substrate highest activities are observed in buffers containing large OCs in mm imidazolium chloride ph the specific activity is mumol of dihydrofolate reduced per min per mg at degrees folic acid also serves as a ATP with a single ph optimum of ph at this ph the km for folate is mum and the vmax is of the rate observed with DHF as the substrate monovalent cations na k rb and cs inhibit dihydrofolate reductase at a given ionic strength the degree of inhibition is a function of the ionic radius of the cation divalent cations are more potent inhibitors the i of bacl is mum as compared to mm for kcl anions neither inhibit nor activate the enzyme', doc_id=15),\n",
              " Row(TEXT='ionization effects on the binding of the potential TS analogues phosphoglycolate and phosphoglycolohydroxamate appear to be attributable to the changing state of ionization of the ligands themselves therefore it is unnecessary to postulate the additional involvement of an ionizing residue at the active site of triosephosphate isomerase to explain the influence of changing ph on ki in the neutral range the binding of the competitive inhibitor inorganic sulfate is insensitive to changing ph in the neutral range chloroacetol sulfate synthesized as an activesitespecific reagent for triosephosphate isomerase is used to provide an indication of the pka of the essential carboxyl group of this enzyme previously described activesitespecific reagents for the isomerase were phosphate esters and their changing state of ionization accompanied by possible changes in their affinity for the AS site may have complicated earlier attempts to determine the pka of the essential carboxyl group from the ph dependence of the rate of inactivation being a strong monoprotic acid chloroacetol sulfate is better suited to the determination of the pka of the carboxyl group chloroacetol sulfate inactivates triosephosphate isomerase by the selective esterification of the same carboxyl group as that which is esterified by the phosphate esters described earlier from the ph dependence of the rate of inactivation of yeast triosephosphate isomerase the apparent pka of the activesite carboxyl group is estimated as', doc_id=16),\n",
              " Row(TEXT='kinetic analyses of monoanion inhibition and cl nuclear magnetic resonance at mhz were employed to study monoanion interactions with the zinc metalloenzyme renal dipeptidase the enzymecatalyzed hydrolysis of glycyldehydrophenylalanine exhibited competitive inhibition when the reaction rate was determined in the presence of the monovalent anions fluoride chloride bromide iodide azide nitrate or thiocyanate or upon the addition of the divalent anion sulfate competitive inhibition was produced by these anions one anion was bound per enzyme molecule and except in the case of fluoride all of the anions appeared to bind at the same site cyanide ion produced a much more ERP inhibition of renal dipeptidase than the other monoanions and it was shown that two cyanide ions were bound per enzyme molecule an investigation of the effect of ph upon monoanion inhibition suggested that the anion inhibitors bind to the group with a pk of approximately complete dissociation of this group approximately ph eliminates the GABA effect of anions the cl L1 broadening produced by renal dipeptidase in m nacl solutions was times more effective than that produced by equivalent concentrations of aquozincii the line broadening was dependent upon the concentration of the metalloenzyme and independent of the frequency of the exciting radiation when zinc ion was removed from the metalloenzyme by dialysis or when chloride was titrated from the metalloenzyme by cyanide line broadening was decreased treatment of renal dipeptidase with saturating concentrations of the competitive inhibitor guanosine triphosphate in the presence of m nacl also produced a significant decrease in the cl L1 width the cl L1 broadening produced by renal dipeptidase was shown to decrease with increasing ph through the range ph this linewidth variation with ph appeared to result from the titration of a site on the metalloprotein with an approximate pk of temperature studies of cl L1 broadening by the metalloenzyme in the presence of chloride and cyanide inhibitors suggest that the fast exchange process pertains and that the dominant EC50 mechanism is quadrupolar in nature', doc_id=17),\n",
              " Row(TEXT='the nearultraviolet circular dichroism cd of three homogeneous antitype iii pneumococcal antibodies in the absence and the presence of the specific hexasaccharide ligand was studied in addition recombinations and hybridizations of h and l chains derived from two of these antibodies were carried out and the cd spectra of bound and free reconstituted igg molecules were measured the results indicate that the cd spectra of the native antibodies in the nm range are very similar in shape and sign and exhibit a positive band at nm the homologous reconstituted antibody molecules exhibited cd spectra very similar in shape and sign to those of the native antibody molecules although recombinant molecules are no longer stabilized by interchain disulfide bonds upon addition of the hexasaccharide ligand a significant decrease in amplitude of the cd spectra occurred in all three native antibodies and their fab fragments as well as in the homologous recombinant molecules no cd spectral changes could be detected upon interaction of the hapten ligand with the rat recombinants all homogeneous antibodies studied exhibited fluorescence quenching upon oligosaccharide binding and a blue shift of the emission maximum this property allowed the determination of the binding constant of one selected antibody to be made taken together cd and fluorescence spectroscopic data suggest that oligosaccharide ligands induced detectable conformational changes in the fab fragment of the antibody', doc_id=18),\n",
              " Row(TEXT='the circular polarization of luminescence cpl emitted by tryptophan residues was used as a sensitive probe for measuring ligandinduced structural changes in a homogeneous type iii pneumococcal antibody a series of oligosaccharide ligands of increasing size derived from type iii polysaccharide by partial acid hydrolysis was assayed ligandinduced changes in the circular polarization of fluorescence of the antibody were observed for all antigens tested including tetra hexa and octasaccharides and a residue oligomer the largest changes being recorded upon interaction with the intact soluble type iii pneumococcal siii polysaccharide when fab or fab fragments were used instead of the antibody igg for binding of siii polysaccharide the extent of conformational changes was decreased this suggests interactions between fab and fc portions in the igg molecule and subsequent conformational changes in fc part upon antigen binding reduction of interchain disulfide bonds abolished the additional spectral changes attributed to the fc part but not the changes observed in the fab part thus suggesting that the presence of the interchain disulfide bond in the hinge region is required for maximal cpl changes to occur small monovalent ligands ie the tetra hexa and octasaccharides were capable of inducing cpl changes in the fab part of the antibody molecule as well as cpl changes attributed to the fc portion a multivalent ligand containing about sugar residues appears to be the minimal antigenic size required for triggering conformational changes attributed to the fc part similar to those seen in the interaction with the whole SPA', doc_id=19),\n",
              " Row(TEXT='the PET role of the bacillus stearothermophilus s ribosomal protein bl probably rat to the escherichia coli protein l was examined by chemical modification the complex bls rna was photooxidized in the presence of rose bengal and the modified protein incorporated by reconstitution into s ribosomal subunits containing all other unmodified components particles containing photooxidized bl are defective in several PET assays including polyudirected polyphe synthesis peptidyltransferase activity ability to associate with a spolyuphetrna complex and binding of elongation factor g and gtp the rates of loss of the partial PET activities during photooxidation of bl indicate that at least two independent inactivating events are occurring a faster one involving oxidation of one or more histidine residues affecting peptidyltransferase and S1 association activities and a slower one affecting efg binding therefore the protein bl has one or more histidine residues which are essential for peptidyltransferase and S1 association and another residue which is essential for efggtp binding bl may be the ribosomal peptidyltransferase protein or a part of the AS site and may contribute functional groups to the other active CS as well', doc_id=20),\n",
              " Row(TEXT='the localization of the previously postulated interface recognition site irs in porcine pancreatic phospholipase a required for a specific interaction between the enzyme and organized lipidwater interfaces was investigated by ultraviolet difference spectroscopy by measurements of the intrinsic fluorescence of the unique trp residue and by protection experiments against specific tryptic hydrolysis using the enzymically nondegradable ATP analogues cnhnoochchnchhoh it is shown that the rather hydrophobic nterminal CS of the enzyme viz alaleutrpglnphearg is directly involved in the interaction with the lipidwater interface besides hydrophobic probably also polar interactions contribute to the binding process at neutral or acidic ph the presence of a salt bridge between the nterminal alphanh group and a negatively charged side chain stablizes the interface recognition site and allows the enzyme to penetrate micellar surfaces even in the absence of metal ion at ALP ph interaction of the enzyme with micellar interfaces requires the presence of ca ba ions', doc_id=21),\n",
              " Row(TEXT='the action of snake venom phospholipases a in IN human erythrocytes was investigated in detail the basis phospholipase from agkistrodon halys blomhifii was found to induce both hydrolysis of membrane phospholipids and total cell hemolysis under certain experimental conditions the hydrolytic action of the basic enzyme was found to consist of two sequential events a hydrolysis of of the total cell ph osphatidylcholine without any evident hemolysis and b complete hydrolysis of the remaining phosphatidylcholine followed closely by extensive phosphatidylethanolamine hydrolysis and finally with onset of hemolysis attack on the phosphatidylserine at ph and mm ca only stage a occurred however a slight elevation of the ph of incubation to ph andor inclusion of mm ca in the reaction mixture caused both events a and b to occur the addition of gl limited the action of the enzyme to stage a under any reaction conditions an investigation showed that enzymically induced hemolysis occurred under conditions where the intracellular atp levels were lowered data are presented which suggest that stage b is mediated by in influx of ca into the cell when the levels of atp are low interestingly the phosphllipase from naja naja venom pakistan yielded results similar to those observed with the basic enzyme from agkistrodon venom however the enzyme from crotalus adamanteus and the acidic enzyme also present in the agkistrodon venom produced only slight hydrolysis or hemolysis under any of the conditions studied other species of erythrocytes eg guinea pig monkey pig and rat were tested but only those from guinea pig behaved similarly to the human cells pig monkey and rat erythrocytes underwent very limited hydrolysis and hemolysis it is evident that the use of these phospholipases to probe the localization of phospholipds in ghosts must be approached with caution certain facets of this problem are discussed', doc_id=22),\n",
              " Row(TEXT='the spontaneous inactivation of yeast G3P dehydrogenase was found to fit a simple twostate MM at ph and degrees the first step is a relatively rapid dissociation of the tetramer to dimers with the equilibrium largely in favor of the tetramer in the absence of nad the dimer inactivates irreversibly the apoenzyme is quite stable with a halflife for complete activity loss proportional to the square root of the enzyme concentration perturbances of the protein structure by ph ionic strength and specific salts which have no effect on the tetrameric state of the molecule result in an alteration of the cooperativity of nad IB the CR of the activesite sulfhydryl group and the catalytic activity of the enzyme covalent modification of two of the four activesite sulfhydryl CG has profound effects on the enzymic activity which are mediated by changes in the subunit interactions sedimentation analysis and hybridization studies indicate that the interaction between subunits remains strong T3 covalent modification under normal physiological and equilibrium dialysis conditions the protein is a tetramer ED studies of nad binding to the enzyme at ph and degrees reveal a mixed cooperativity pattern a model consistent with these observations and the observed halfofthesites reactivity is that of ligand induced sequential conformational changes which are transferred across strongly interacting S1 domains methods for distinguishing negatively cooperative IB patterns from mixtures of denatured enzyme and multiple species are discussed', doc_id=23),\n",
              " Row(TEXT='the kinetics of the phinduced dissociation of the x mol wt hemoglobin from lumbricus terrestris the earthworm have been studied in a lightscattering stoppedflow apparatus the ligand dependent dissociation data were fit well by a simple sequential model the data for co and oxyhemoglobin are consistent with hb leads to hb leads to hb methemoglobin at ph appears to be hexameric and the dissociation is consistent with the model hb leads to hb in a sequential decay scheme for which lightscattering changes are monitored the relative amounts of rapid and slow phase are determined by the rate constants as well as the molecular weights of intermediate species assignment of the hexameric intermediate is supported by an investigation of the sensitivity of the theoretical kinetic curves to the molecular weights of the intermediates this assignment is further supported by the following the same model will fit the data for oxy and cohemoglobin at all three temperatures a fold variation in rate constants evidence from electron microscopy shows hexameric forms and methemoglobin is apparently SD as a hexamer at ph when co replaces o as the ligand the dissociation rate increases by a factor of four the met is about times faster than the initial oxyhemoglobin dissociation rate but perhaps more relevant for comparing dissociation of the hexamer the met rate was respectively times and times faster than that for the assumed hexameric forms of co and oxyhemoglobin the E(a) for the dodecamer to hexamer dissociation and for the dissociation of the hexamer to smaller forms were about kcalmol for oxy co and methemoglobin', doc_id=24),\n",
              " Row(TEXT='the reduction of metmyoglobin by the ironii complex of transdiaminocyclohexanennnntetraacetate fecdta has been investigated the equilibrium constant measured spectrophotometrically is with a resulting reduction potential of v for mb the rate constant for the reduction is m sec with a deltah of kcal m and deltas of eu both cn and oh inhibit the reduction because of the relatively low CR of cyanometmyoglobin mbcn and ionized metmyglobin mboh the rate constant for the reduction of mbcn by fecdta is x m sec and that for reduction of mboh is m sec the nitric oxide complex of metmyoglobin is reduced with a rate constant of m sec the kinetics of oxidation of oxymyoglobin by fecdta were studied the data are consistent with a mechanism where oxidation takes place entirely through the deoxy form a rate constant of x m sec was calculated for the oxidation of deoxymyoglobin by fecdta in equilibrium constant and rate constant for reduction the above data are discussed in terms of a simple outersphere reduction reaction', doc_id=25),\n",
              " Row(TEXT='the purification of axonal membranes of crustaceans was followed by measuring enrichment in htetrodotoxin IB capacity and in na katpase activity a characteristic of these membranes is their high content of lipids and their low content of protein as compared to other types of plasmatic CM the axonal membrane contains myosinlike actinlike tropomyosinlike and tubulinlike proteins it also contains na katpase and acetylcholinesterase the molecular weights of these two enzymes after solubilization are and respectively the molecular weights of the catalytic subunits are for atpase and for acetylcholinesterase we confirmed the presence of a nicotine binding component in the axonal membrane of the lobster but we have been unable to find hnicotine IB to crab axonal CM the binding to axonal membranes og of the sodium channel has been studied in detail the dissociation constant for the binding of htetrodotoxin to the axonal membrane receptor is nm at ph the concentration of the tetrodotoxin receptor in crustacean membranes is about pmolmg of membrane protein times less than the acetylcholinesterase times less than the na katpase and times less than the nicotine IB component in the lobster membrane a reasonable estimate indicates that approximately only one peptide chain in constitutes the tetrodotoxin binding part of the sodium channel in the axonal membrane veratridine which acts selectively on the resting sodium permeability binds to the phospholipid part of the axonal membrane hveratridine binding to membranes parallels the EP effect veratridine and tetrodotoxin have different receptor sites although tetrodotoxin can repolarize the excitable membrane of a giant axon depolarized by veratridine veratridine does not affect the binding of htetrodotoxin to purified axonal membranes similarly tetrodotoxin does not affect the binding of hveratridine to axonal membranes scorpion neurotoxin i a presynaptic toxin which affects both the na and the k channels does not interfere with the binding of htetrodotoxin or hveratridine to axonal CM tetrodotoxin veratridine and scorpion neurotoxin i which have in common the perturbation of the normal SF-36 of the sodium channel act upon three different types of receptor sites', doc_id=26),\n",
              " Row(TEXT='a new procedure is described for selecting nitrogenasederepressed mutants based on the method of brenchley et al brenchley je prival mj and magasanik b j biol chem for isolating histidaseconstitutive mutants of a nonnfixing bacterium nitrogenase levels of the new mutants in the presence of nh were as high as of the nitrogenase activity detected in the absence of nh PSA characterization of these nitrogen fixation nif derepressed mutants reveals that they fall into three classes three mutants strains sk and requiring glu for growth synthesize nitrogenase and glutamine synthetase constitutively in the presence of nh a second class of mutants strains sk and requiring glutamine for growth produces derepressed levels of nitrogenase activity and synthesized catalytically inactive glutamine synthetase protein as determined immunologically a third class of glutaminerequiring nitrogenasederepressed mutants strain sk and synthesizes neither a catalytically active glutamine synthetase enzyme nor an immunologically crossreactive glutamine synthetase protein fprime complementation analysis reveals that the mutant strains sk map in a segment of the klebsiella chromosome corresponding to the region coding for glutamine synthetase since the mutant strains sk and sk produce inactive glutamine synthetase protein it is concluded that these mutations map within the glutamine synthetase structural gene', doc_id=27),\n",
              " Row(TEXT='the superoxide anion radical o reacts with ferricytochrome c to form ferrocytochrome c no intermediate complexes are observable no reaction could be detected between o and ferrocytochrome c at degrees c the rate constant for the reaction at ph to is m s and as the ph increases above the rate constant steadily decreases the dependence on ph is the same for tuna HR and horse heart cytochrome c no reaction could be demonstrated between o and the form of cytochrome c which exists above ph approximately the dependence of the rate constant on ph can be explained if cytochrome c has pks of and and o reacts with the form present below ph with k m s the form above ph with k m s and the form present above ph with k the reaction has an activation SE of kj mol and an enthalpy of activation at degrees c of kj mol both above and below ph it is suggested that o may reduce cytochrome c through a track composed of aromatic amino acids and that little protein rearrangement is required for the formation of the activated complex no reduction of ferricytochrome c by ho radicals could be demonstrated at ph but at ph ho radicals oxidize ferrocytochrome c with a rate constant of about m s', doc_id=28),\n",
              " Row(TEXT='after a mus laser flash a mus phase in the decay of delayed fluorescence is visible under a variety of circumstances in spinach chloroplasts and subchloroplast particles EC in photosystem ii prepared by means of digitonin the level of this phase is high in the case of inhibition of oxygen evolution at the donor side of photosystem ii comparison with the results of babcock and sauer biochim biophys acta indicates that their epr signal iif which they suppose to be due to z the Ox first secondary donor of PS ii is well correlated with a large amplitude of our mus phase we explain our mus phase by the intrinsic back reaction of the excited reaction center in the presence of z as predicted by van gorkom and donze photochem photobiol the redox state of z is dependent on the internal ph of the thylakoids the results on the effect of ph in the mus region are compared with those obtained in the ms region', doc_id=29),\n",
              " Row(TEXT='photosystem ii reaction center components have been studied in small system ii particles prepared with digitonin upon illumination the reduction of the primary acceptor was indicated by absorbance changes due to the reduction of a PQ to the semiquinone anion and by a small blue shifts of absorption bands near nm c and nm the SQ to chlorophyll ratio was between and in various S9 the terminal electron donor in this reaction did not cause large absorbance changes but its GSSG was revealed by a hitherto unknown electron spin resonance esr signal which had some properties of the wellknown signal ii but a linewidth and gvalue much nearer to those of signal i upon darkening absorbance and esr changes decayed together in a cyclic or back reaction which was stimulated by dichlorophenyldimethylurea the donor could be oxidized by ferricyanide in the dark illumination in the presence of ferricyanide induced absorbance and esr changes rapidly reversed upon darkening which may be ascribed to the oxidation of a chlorophyll a dimer possibly the primary electron donor of photosystem ii in addition an esr signal with to gauss linewidth and a slower dark decay was observed which may have been caused by a secondary donor', doc_id=30),\n",
              " Row(TEXT='crude extracts and partially purified enzyme preparations from potato tubers catalyse at ph the conversion of linoleic acid hydroperoxides to a range of oxygenated fatty acid derivatives d and lhydroperoxide isomers are converted at similar rates to equivalent isomeric products the major products from the hydroperoxide isomer were identified as the corresponding monohydroxydienoic acid derivative threohydroxytransepoxyoctadeccisenoic acid and trihydroxyoctadectransenoic acid the corresponding products from the hydroperoxide were the monohydroxydienoic acid epoxyhydroxyoctadecenoic acid and trihydroxyoctadecenoic acid no separation of activities forming the different products was achieved by partial purification of enzyme extracts product formation was unaffected by edta cn SH reagents or glutathione but was reduced by boiling the extracts this system is compared with the hydroperoxidespecific enzymic formation of divinyl ether derivatives by potato extracts', doc_id=31),\n",
              " Row(TEXT='microsomal PA phosphohydrolase phosphatidate phosphatase ec was solubilized and fractionated to yield at least two distinct enzymatically active fractions one denoted fa was nonspecific had a relatively high km for phosphatidic acid and was insensitive to inhibition by diacylglycerol the second fraction fb was specific for phosphatidates had a low km and was inhibited noncompetitively by diacylglycerol fa exhibited a sigmoid substrateactivity curve the isolated fb aggregated to particles of about in the absence of salts and could be dissociated by the addition of monovalent cations at ionic strength to about daltons and thereby doubled its activity dissociation was time and temperaturedependent f was inhibitory divalent ions were not required for the activity of fa or fb and inhibited at concentrations exceeding mm', doc_id=32),\n",
              " Row(TEXT='rabbit liver microsomal S9 fortified with mm nadph effectively promote hydroxylation of betah or callochenodeoxycholic acid or alphaalphahalphacholestanealphaalphadiol to their respective alphahydroxyl derivatives in yields of about or in min minor amounts of other products are formed from the diol the requirements for activity of rabbit CL microsomal alphahydroxylase resemble those of rat CL microsomes of a number of enzyme inhibitors studied only pchloromercuribenzoate demonstrated a marked ability to inhibit the reaction with either tritiated ATP there was no difference in the quantity of product produced from the tritiated acid or the clabeled acid no clear sex difference was found in activity of the enzyme nor was an appreciable difference noted in activity of the enzyme between mature and immature animals', doc_id=33),\n",
              " Row(TEXT='properties of the phenobarbital induced cytoplasmic aldehyde dehydrogenase ec have been studied in rat liver fold higher C2 were seen in the cytoplasmic activities after phenobarbital treatment in reactor compared to nonreactor animals with high concentrations of acetaldehyde mm and propionaldehyde mm no difference was found with mm acetaldehyde mm glycolaldehyde mm formaldehyde or mm betaine aldehyde the reactor group also had slightly higher activity in the mitochondrial fraction with the high acetaldehyde and propionaldehyde concentrations in the microsomal fraction the activities showed no differences at any substrate concentration an induced aldehyde dehydrogenase was purified fold by chromatographic techniques it had different molecular and enzymic properties than the main highkm enzyme normally present in rat liver cytoplasm the pi of the induced enzyme was about as measured by isoelectric focusing it was active with several aliphatic and aromatic aldehydes but not with formaldehyde glycolaldehyde or dglyceraldehyde the kmvalues for propionaldehyde and acetaldehyde were in the millimolar range millimolar concentrations of aromatic aldehydes caused a strong substrate inhibition the enzyme was inhibited by submicromolar concentrations of disulfiram estrone deoxycorticosterone progesterone and DES also affected the CEA', doc_id=34),\n",
              " Row(TEXT='the hydrolysis of pnitrophenyl phosphate by wheat germ acid phosphatase orthophosphoric monoester phosphohydrolase ec has been investigated in mixtures of AQ buffers with AC dioxane and acetonitrile the enzyme was either in free solution or immobilized on a pellicular support which consisted of a porous carbonaceous layer on solid glass beads the highest enzyme activity was obtained in AC and acetonitrile mixed with citrate buffer over a wide range of organic solvent concentration in vv acetone both v and km of the immobilized enzyme were about half of the values in the neat AQ buffer but the ki for inorganic phosphate was unchanged in vv mixtures of various solvents and citrate buffers of different ph the enzymic activity was found to depend on the ph of the AQ buffer component rather than the ph of the hydroorganic mixture as measured with the glasscalomel electrode the relatively high rates of pnitrophenol liberation in the presence of glucose even at high organic solvent concentrations suggest that transphosphorylation is facilitated at low water activity', doc_id=35),\n",
              " Row(TEXT='a strain of bacillus sp bacillus r produces a protease and a carbohydrolase both of which have the ability to lyse rhizopus cell walls of the enzymes the carbohydrolase has been purified to an ultracentrifugally and electrophoretically homogeneous state and identified as a chitosanase the enzyme was active on glycol chitosan as well as chitosan molecular weight of the purified enzyme was estimated as and isoelectric point as ph the enzyme was most AS at ph and at degrees c with either rhizopus cell wall or glycol chitosan as substrate and was stable over a range of ph to at degrees c for h the activity was lost by sulfhydryl reagents and restored by either reduced glutathione of lcysteine an abrupt decrease in viscosity of the reaction mixture suggested an endowise cleavage of chitosan by this enzyme', doc_id=36),\n",
              " Row(TEXT='OS containing terminal nonreducing alpha leads to alpha leads to and alpha leads to linked mannose residues isolated from human and bovine mannosidosis urines were used as substrates to test the specificities of acidic alphamannosidases isolated from human and bovine liver the enzymes released all the alphalinked mannose residues from each oligosaccharide and were most effective on the smallest substrate enzyme a in each case was less AS on the oligosaccharides than alphamannosidase b even though the apparent km value for the substrates was the same with each enzyme the human acidic alphamannosidases were also found to be more active on substrates isolated from human rather than bovine mannosidosis urine human alphamannosidase c which has a neutral ph optimum when assayed with a synthetic ATP did not hydrolyse any of the oligosaccharides at neutral ph but was found to be active at an acidic ph', doc_id=37),\n",
              " Row(TEXT='the characterization and localization of a caatpase atp phosphohydrolase ec in the tooth germ of the porcine fetus are reported this enzyme a microsome fraction is preferentially activated by ca in the presence of mm atp maximal CEA is obtained at mm cacl the maximal rate of atp hydrolysis is approx mumol per h per mg of protein as the enzyme preparation is used here at optimal ca concentration the mg has an inhibitory effect the enzyme does not require na orand k for activation by ca other nucleotide triphosphates may serve as the substrate but v for atp is the highest the km for atp is m the optimal ph for ca activation of the enzyme lies around well known inhibitors of na katpase mitochondria atpase and caatpase in the erthrocyte do not inhibit the enzyme in the subcellular order the enzyme may be assumed to be localized in the SER fraction containing cell and golgi body membrane fragments and in the tissue order in the enamel organ containing an ameloblast SL stratum intermedium and stellate reticulum', doc_id=38),\n",
              " Row(TEXT='purified skeletal muscle myosin ec has been covalently bound to sepharose b by the cyanogen bromide procedure the resulting complex sepharosemyosin possesses adenosine triphosphatase activity and is relatively stable for long periods of time under optimal binding conditions approximately of the TPS atpase activity of the bound S1 is retained PAGE of polypeptides released from denatured sepharosemyosin indicates that of the myosin is attached to the agarose beads through the HCs and the remainder through the light chains in PA with predictions of IB and PR based upon either the lysine contents or molecular weights of themyosin subunits the adenosine triphosphatase of the immobilized S1 has been investigated under conditions of varying ph ionic strength and cation concentration the atpase profiles of immobilized myosin are quite similar to those for free myosin however subtle differences are found the sepharosemyosin atpase is not as sensitive as myosin to alterations in salt concentration and the apparent km is approximately twofold higher than that of myosin these differences are probably due to chemical modification in the region of the attachment sites to the agarose beads and hydration and diffusion limitations imposed by the polymeric agarose matrix', doc_id=39),\n",
              " Row(TEXT='based on incorporation of radioactively labeled nethylmaleimide the readily reactive thiol groups of isolated myosin ec from fast slow and cardiac muscles could be classified into types all myosins contain thiol thiol and a variable number of thiol groups per molecule both thiol and thiol CG which are essential for SF-36 of the kstimulated atpase are located in the HCs in all myosin types the R2 in the incorporation pattern of nethylmaleimide over the thiol group classes under steadystate conditions of mg atp hydrolysis allowed different conformations of some reaction intermediates to be characterized in all types of myosin the hydrolytic cycle of mg atp was found to be controlled by the same step at degrees c in all three cases this ratelimiting step is changed in the same way by lowereing temperature using the chemically determined molecular weights for myosin light chains their stoichiometry was found on the basis of sodium dodecyl sulfate electrophoresis to be for CS chain light chainlight chain per molecule of fast S1 for light chainlight chain per molecule of slow S1 and for light chainlight chain per molecule of CM this qualitative difference in light subunit composition between the fast and the two types of slow myosin is not reflected in the small variations of the characteristics exhibited by the isolated myosins but rather seems to be connected with their respective myofibrillar atpase activities', doc_id=40),\n",
              " Row(TEXT='the ph dependencies of the apparent K(m) for oxidized glutathione and the apparent turnover number of yeast glutathione reductase ec have been determined at a fixed concentration of mm nadph in the range ph between ph and both of these parameters are relatively constant the principal effect of low ph on the kinetics of the enzymecatalyzed reaction is the observation of a phdependent ATP inhibition by Ox glutathione at ph less than or equal which is shown to correlate with the IB of oxidized glutathione to the oxidized form of the enzyme the catalytic activity of yeast glutathione reductase at ph is affected by the sodium acetate buffer concentration the stability of the oxidized and reduced forms of the enzyme at ph and degrees c in the absence of bovine SS albumin was studied as a function of sodium acetate concentration the results show that activation of the catalytic activity of the enzyme at low sodium acetate concentration correlates with an effect of sodium acetate on a reduced form of the enzyme in contrast inhibition of the catalytic activity of the enzyme at high sodium acetate concentration correlates with an effect of sodium acetate on the GSSG of the enzyme', doc_id=41),\n",
              " Row(TEXT='the phosphorylated form of CL glycogen phosphorylase alphaglucan orthophosphate alphaglucosyltransferase ec phosphorylase a is AS and easily measured while the dephosphorylated form phosphorylase b in contrast to the muscle enzyme has been reported to be essentially inactive even in the presence of amp we have purified both forms of phosphorylase from rat liver and studied the characteristics of each phosphorylase b activity can be measured with our assay conditions the phosphorylase b we obtained was stimulated by high concentrations of sulfate and was a substrate for muscle phosphorylase kinase whereas phosphorylase a was inhibited by sulfate and was a ATP for liver phosphorylase phosphatase substrate IB to phosphorylase b was poor km glycogen mm glucosep mm compared to phosphorylase a km glycogen mm km glucosep mm CL phosphorylase b was AS in the absence of amp however amp lowered the km for glucosep to mm for purified phosphorylase b and to mm for the enzyme in CE ka mm using AGA substrate buffer and amp concentrations assay conditions have been developed which allow determination of phosphorylase a and of the phosphorylase b activity in liver extracts interconversion of the two forms can be demonstrated in vivo under acute stimulation and in vitro with little change in total activity a decrease in total phosphorylase activity has been observed T3 prolonged starvation and in diabetes', doc_id=42)]"
            ]
          },
          "metadata": {},
          "execution_count": 60
        }
      ]
    },
    {
      "cell_type": "code",
      "source": [
        "data_df.take(43)"
      ],
      "metadata": {
        "colab": {
          "base_uri": "https://localhost:8080/"
        },
        "id": "HqETwkE9JwID",
        "outputId": "24a0a30c-f3dd-4c80-daa5-f0fb0da41fc8"
      },
      "execution_count": 62,
      "outputs": [
        {
          "output_type": "execute_result",
          "data": {
            "text/plain": [
              "[Row(TEXT='alphabisabolol has a primary antipeptic action depending on dosage which is not caused by an alteration of the phvalue the proteolytic activity of pepsin is reduced by percent through addition of bisabolol in the ratio of the antipeptic action of bisabolol only occurs in case of direct contact in case of a previous contact with the ATP the inhibiting effect is lost', LOCATION='56', LABEL='substrate'),\n",
              " Row(TEXT='a report is given on the recent discovery of outstanding immunological properties in ba ncyanoethyleneurea having a low molecular mass m experiments in ds CS bearing wistar rats have shown that ba at a dosage of only about percent ld mg kg and negligible lethality percent results in a REC rate of percent without hyperglycemia and in one test of percent with hyperglycemia under otherwise unchanged conditions the REF substance ifosfamide if a further development of cyclophosphamide applied without hyperglycemia in its most efficient dosage of percent ld mg kg brought about a recovery rate of percent at a lethality of percent contrary to ba min hyperglycemia caused no further improvement of the REC rate however this comparison is characterized by the fact that both substances exhibit two quite different complementary mechanisms of action leucocyte counts made T3 application of the said cancerostatics and dosages have shown a pronounced stimulation with ba and with ifosfamide the known suppression in the posttherapeutic interval usually found with standard cancerostatics in combination with the cited PI test for ba blood pictures then allow conclusions on the immunity status since if can be taken as one of the most efficient cancerostaticsthere is no other chemotherapeutic known up to now that has a more significant effect on the ds carcinosarcoma in rats these findings are of special importance finally the total amount of leucocytes and lymphocytes as well as their time behaviour was determined from the blood picture of tumourfree rats after iv application of ba the thus obtained numerical values clearly show that further research work on the prophylactic use of this substance seems to be necessary and very promising', LOCATION='24|49|68|113|137|172', LABEL='carcinosarcoma|recovery|reference|recovery|after|plaque'),\n",
              " Row(TEXT='the virostatic compound nndiethyloxotetradecylimidazolidinylethylpiperazinecarboxamidehydrochloride was analyzed as to its effect on the induction of tryptophanpyrrolase and tyrosineaminotransferase in rat liver the basic activity of the enzymes was not influenced by the substance either in normal or in adrenalectomized animals the induction of the enzymes by cortisone increased in the presence of the compound whereas the ATP induction remained unchanged the induction of tyrosineaminotransferase by dexamethasonephosphate in tissue culture is inhibited if the dose of compound is higher than mugml', LOCATION='55', LABEL='substrate'),\n",
              " Row(TEXT='rmi rmi and rmi are newly synthetized nrdibenzobfoxepinylnmethylpiperazinemaleates which show interesting psychopharmacologic effects this work contains the results of a study performed with these three EDC in order to demonstrate their neuropsycholeptic activity in comparison with chloropromazine cpz and chlordiazepoxide cpd the inhibition of motility observed in mice shows that the compounds reduce the normal spontaneous motility as well as the muscle tone the centraldepressant activity is evidenced by increased barbiturateinduced sleep and a remarkable eyelid ptosis can also be observed our EDC do not show any activity on electroshock just as do cpz and cpd as to the antipsychotic outline our compounds show strong reduction of lethality due to amphetamine in grouped mice and a strong antiapomorphine activity they show also an antiaggressive effect and an GABA activity on avoidance behaviour much stronger than cpz we have also found extrapyramidal effects as catalepsy common to many tranquillizers of the kind of the standards used by us as for vegetative phenomena the compounds show hypotensive dose related action ranging from moderate to strong probably due to an areceptor inhibition adrenolytic activity against MLD of adrenaline antiserotonin and antihistaminic effects as well as other actions hypothermia analgesia etc confirm that rmi rmi and rmi are endowed with pharmacologic properties similar and more potent than those of cpz studies on the metabolism of brain CAs show that they are similar to cpz although with less effect on dopamine level', LOCATION='25|82|127|182|222', LABEL='compounds|compounds|inhibitory|lethal doses|catecholamines'),\n",
              " Row(TEXT='a doubleblind study with intraindividual comparisons was carried out to investigate the effects of mg of ralphahydroxyisopropylalphahtropanium bromidetropate sch mg sch mg OX mg oxazepam and PL with p.o. in randomized sequence on gastric juice volume amount of acid concentration and ph values in healthy volunteers the secretion parameters were measured during a h basal period and a h stimulation period the gastric juice was obtained in min portions via stomach tube stimulation was effected by mugkgh PG via drip infusion the friedman test was used for the comparative statistical DUE and individual comparisons were carried out by means of the wilcoxon test pairdifferences rank the results show that sch and sch oxazepam were equal in effect on basal and stimulated secretion volume as compared with placebo it was not possible to establish an effect on secretion volume for oxazepam alone sch and sch OX were found to be equipotent in reducing the amount of basal acid while OX reduced this quantity only during the first min of basal secretion none of the three active preparations was capable of inhibiting the stimulated acid although both sch preparations produced a clear trend towards lowered mean values during the basal secretion period all three test S9 had an inhibiting action on acid concentration but none of them had a significant effect during the stimulation period the ph value was savely increased only by sch and sch oxazepam and this even only during the basal period the results are discussed', LOCATION='22|26|28|77|90|144|158|203', LABEL='oxazepam|placebo|oral administration|pentagastrin|evaluation|oxazepam|oxazepam|preparations'),\n",
              " Row(TEXT='stroma from either normal or pnhlike CRC is capable of inhibiting to some extent lysis in the sucrose test and enhancing lysis in the acidifiedserum test the same opposing effects are displayed by the exclusion peaks from sephadex g obtained from each stroma preparation suggesting that the same factor could be responsible for both activities stromata and peaks also induce lysis of pnhlike cells in unacidified serum indicating activation of complement through the alternate pathway this is confirmed by immunoelectrophoretic observation when SS previously G1 through the alternate pathway is used in the sucrose test the amount of lysis is markedly reduced this would indicate that the CP pathway activation can be controlled by the alternate pathway the possible clinical significance of these factors in determining the haemolytic crisis in pnh patients is discussed', LOCATION='6|82|84|107', LABEL='red cells|serum|activated|classical'),\n",
              " Row(TEXT='the effect of the L1 metabolite of aspirin namely salicylic acid upon the PP pathway ppp of normal and gpddeficient red cells has been studied salicylic acid was shown to inhibit this pathway in proportion to the amount present at any concentration of this substance there was greater inhibition of the ppp in gpddeficient than in normal red cells', LOCATION='4|13', LABEL='major|pentose phosphate'),\n",
              " Row(TEXT='in one experiment the effect on rumen ph of feeding with restricted amounts of whole or pelleted barley was studied with whole barley there was little variation in rumen ph associated with FF time but with pelleted barley the ph decreased from about before FF to about h after feeding the rate of disappearance of dried grass during incubation in the rumens of sheep receiving either whole or pelleted barley was studied in a second experiment T3 h incubation only mgg incubated had disappeared in the rumen of sheep receiving pelleted barley while mgg incubated had disappeared when it was incubated in the rumen of sheep receiving whole barley the voluntary intake of dried grass of lambs was studied in a third experiment when they received supplements of either or g whole or pelleted barleykg LW at the high level pelleted barley reduced intake of dried grass by gkg but whole barley reduced it by only gkg the digestibility of aciddetergent fibre was reduced more by pelleted barley than by whole barley but there was a tendency for a small increase in digestibility of the barley due to processing the implications of these findings on supplementation of roughages with cereals are discussed', LOCATION='32|44|76|135', LABEL='feeding|feeding|after|live weight'),\n",
              " Row(TEXT='the presence of at least two ionizable AS center groups has been detected by a T0 of the effect of ph upon catalysis of hydrolysis of lalanylbetanaphthylamide by human liver alanine aminopeptidase and upon the inhibition of hydrolysis by inhibitors and substrate analogs octanoic acid octylamine and peptide inhibitors have been found to be competitive inhibitors and are therefore thought to bind the AS center lphe was previously shown to bind the active center since it was found to be a competitive inhibitor of the hydrolysis of tripeptide substrates garner c w and behal f j biochemistry a plot of pkm vs ph for the substrate lalabetanaphthylamide showed that binding decreased below ph and above the points at which the theoretical curve undergoes an integral change in slope these points are interpreted as the pka either of ATP ionizable groups or bindingdependent enzyme active center groups similar plots of pkm vs ph for lalanylpnitroanilide as substrate and pki vs ph for lleulleulleu and dleultyr as inhibitors gave pairs fo pka values of and and and and respectively all the above substrates and dleultyr have pka values near therefore the bindingdependent group with a pka value near is possibly this ATP group similar plots of pki vs ph for the inhibitors lphe lmet lleu octylamine and octanoic acid had only one bending point at and respectively amino acid inhibitors octylamine and octanoic acid have no groups with pka values between and these data indicate that there are two AS center ionizable groups with pka values of approximately and which are involved in substrate binding or inhibitory CAA binding but not in catalysis since vmax was constant at all ph values tested', LOCATION='7|15|63|137|199|247|265', LABEL='active|study|active|substrate|substrate|active|amino acid'),\n",
              " Row(TEXT='the reaction of glutamate dehydrogenase and glutamate gl with nad and nadp has been studied with stoppedflow techniques the enzyme was in all experiments present in excess of the coenzyme the results indicate that the ternary complex enadphkg is present as an intermediate in the formation of the stable complex enadphgl the identification of the complexes is based on their absorption spectra the binding of the coenzyme to egl is the ratelimiting step in the formation of enadphkg while the dissociation of alphaketoglutarate kg from this complex is the ratelimiting step in the formation of enadphgl the km for glutamate was mm in the first reaction and mm in the formation of the SD complex the km values were independent of the coenzyme the reaction rates with nad were approximately greater than those with nadp furthermore high glutamate concentration inhibited the formation of enadhkg while no substrate inhibition was found with nadp as coenzyme adp enhanced while gtp reduced the rate of enadphgl formation the rate of formation of enadphkg was inhibited by adp while it increased at high glutamate concentration when small amounts of gtp were added the results show that the higher activity found with nad compared to nadp under steadystate CA conditions do not necessarily involve IB of nad to the adp activating site of the enzyme moreover the substrate inhibition found at high glutamate concentration under steadystate assay condition is not due to the formation of enadphgl as this complex is formed with km of mm glu and the substrate inhibition is only significant at times this concentration', LOCATION='113|203|209|250', LABEL='stable|assay|binding|glutamate'),\n",
              " Row(TEXT='choline acetyltransferase ec catalyzes the biosynthesis of acetylcholine according to the following chemical equation acetylcoa choline in equilibrium to acetylcholine coa in addition to nervous tissue primate placenta is the only other animal source which contains appreciable acetylcholine and its biosynthetic enzyme human brain Cd nucleus and human placental choline acetyltransferase were purified to electrophoretic homogeneity using ionexchange and blue dextransepharose affinity chromatography the molecular weights determined by sephadex g gel filtration and sodium dodecyl sulfate gel electrophoresis are plus or minus nethylmaleimide pchloromercuribenzoate and dithiobisnitrobenzoic acid inhibit the enzyme dithiothreitol reverses the inhibition produced by the latter two reagents the pka of the group associated with nethylmaleimide inhibition is plus or minus a chemically competent acetylthioenzyme is isolable by sephadex gel filtration the enzymes from the brain and placenta are thus far physically and biochemically indistinguishable', LOCATION='44', LABEL='caudate'),\n",
              " Row(TEXT='increasing concentrations of chloride were found to increase the resolution between two visible absorbance spectral transitions associated with acidification of ferricytochrome c analysis of a variety of spectral and viscosity measurements indicates that protonation of a single group having an apparent pk of and an intrinsic pk of about displaces the methionine ligand without significantly perturbing the native globular conformation analysis of methylated ferricytochrome c suggests that protonation of a carboxylate ion most likely a heme propionate residue is responsible for MSD of the methionine ligand addition of a proton to a second group having an apparent pk of displaces the histidine ligand and unfolds the protein from a globular conformation into a random coil it is most likely that the second protonation occurs on the imidazole ring of the histidine ligand itself chloride is proposed to perturb these transitions by ligation in the fifth coordination position of the heme ion such ligation stabilizes a globular conformation of ferricytochrome c at ph and degrees', LOCATION='81', LABEL='displacement'),\n",
              " Row(TEXT='the properties of the functional CG in a protein can be used as builtinprobes of the structure of the protein we have developed a general procedure whereby the ionization constant and chemical reactivity of solitary PET groups in proteins may be determined the method may be applied to the side chain of histidine tyrosine lysine and cysteine as well as to the amino terminus of the protein the method which is an extension of the competitive labeling technique using h and cfluorodinitrobenzene nphf in a doublelabeling procedure is rapid and sensitive advantage is taken of the fact that T3 acid hydrolysis of a dinitrophenylated protein a derivative is obtained which must be derived from a unique position in the protein the method has been applied to the solitary histidine residue of lysozyme alphalytic protease and streptomyces griseus sg trypsin as well as to the amino terminus of the latter protein the following parameters were obtained for reaction with nphf at degrees c in n kcl the histidine of hen eggwhite lysozyme pka of and secondorder velocity constant of m min the histidine of alphalytic protease pka of and secondorder velocity constant of m min the histidine of sg trypsin pka of and secondorder velocity constant of m min the valyl amino terminus of sg trypsin pka of and secondorder velocity constant of m min in addition the results obtained provide clues as to the microenvironments of these functional groups and indicate that the proteins studied undergo phdependent conformational changes which affect the microenvironment and hence the chemical CR of these groups', LOCATION='5|35|98|257', LABEL='groups|functional|after|reactivity'),\n",
              " Row(TEXT='primary amines react with pentanedione at ph to form enamines nalkylaminopentenones the latter compounds readily regenerate the primary amine at low ph or on treatment with hydroxylamine guanidine and substituted guanidines react with pentanedione to form nsubstituted aminodimethylpyrimidines at a rate which is lower by at least a factor of than the rate of reaction of pentanedione with primary amines selective modification of lysine and arginine side chains in proteins can readily be achieved with pentanedione modification of lysine is favored by reaction at ph or for short reaction times at ph selective modification of Arg is achieved by reaction with pentanedione for long times at ph followed by treatment of the protein with hydroxylamine the extent of modification of lysine and arginine side chains can readily be measured spectrophotometrically modification of lysozyme with pentanedione at ph results in modification of lysine residues and less than arginine residue in hr modification of lysozyme with pentanedione at ph results in modification of lysine residues and Arg residues in hr treatment of this modified protein with hydroxylamine regenerated the modified lysine residues but caused no NC in the modified arginine residues one arginine residue seems to be essential for the catalytic activity of the enzyme', LOCATION='95|164|183', LABEL='arginine|arginine|change'),\n",
              " Row(TEXT='a purification procedure is reported for obtaining bovine liver DHF reductase in high yield and amounts of mg a key step in the procedure is the use of an affinity gel prepared by coupling pteroylllysine to sepharose the purified reductase has a TPS activity of about unitsmg and is homogeneous as judged by analytical ultracentrifugation polyacrylamide gel electrophoresis and titration with methotrexate the products of the first step of edman Kd indicated a minimum purity of the reductase has a molecular weight of about on the basis of amino acid composition and from equilibrium sedimentation it is not inhibited by AS to the streptococcus faecium reductase isoenzyme unlike the reductase of many other vertebrate tissues the bovine enzyme is inhibited by mercurials rather than activated and it has a single ph optimum at both low and high ionic strength however the position of the ph optimum is shifted and the activity increased by increasing ionic strength automatic edman degradation has been used to determine of the aminoterminal amino acid residues considerable homology exists between this region and the corresponding regions of the reductase from s faecium and from escherichia coli this strengthens the idea that this region contributes to the structure of the binding site for DHF', LOCATION='9|42|70|100|206', LABEL='dihydrofolate|specific|degradation|antiserum|dihydrofolate'),\n",
              " Row(TEXT='dihydrofolate reductase has been purified fold to apparent homogeneity from a trimethoprimresistant strain of escherichia coli rt using a procedure that includes methotrexate affinity column chromatography determinations of the molecular weight of the enzyme based on its amino acid composition sedimentation velocity and sodium dodecyl sulfate gel electrophoresis gave values of and respectively an aggregated form of the enzyme with a low specific activity can be separated from the monomer by GF treatment of the aggregate with mercaptoethanol or dithiothreitol results in an increase in enzymic activity and a regeneration of the monomer also multiple molecular forms of the monomer have been detected by polyacrylamide gel PACE the unresolved enzyme exhibits two ph optima ph and ph with DHF as a substrate highest activities are observed in buffers containing large OCs in mm imidazolium chloride ph the specific activity is mumol of dihydrofolate reduced per min per mg at degrees folic acid also serves as a ATP with a single ph optimum of ph at this ph the km for folate is mum and the vmax is of the rate observed with DHF as the substrate monovalent cations na k rb and cs inhibit dihydrofolate reductase at a given ionic strength the degree of inhibition is a function of the ionic radius of the cation divalent cations are more potent inhibitors the i of bacl is mum as compared to mm for kcl anions neither inhibit nor activate the enzyme', LOCATION='71|106|118|130|156|182', LABEL='gel filtration|electrophoresis|dihydrofolate|organic cations|substrate|dihydrofolate'),\n",
              " Row(TEXT='ionization effects on the binding of the potential TS analogues phosphoglycolate and phosphoglycolohydroxamate appear to be attributable to the changing state of ionization of the ligands themselves therefore it is unnecessary to postulate the additional involvement of an ionizing residue at the active site of triosephosphate isomerase to explain the influence of changing ph on ki in the neutral range the binding of the competitive inhibitor inorganic sulfate is insensitive to changing ph in the neutral range chloroacetol sulfate synthesized as an activesitespecific reagent for triosephosphate isomerase is used to provide an indication of the pka of the essential carboxyl group of this enzyme previously described activesitespecific reagents for the isomerase were phosphate esters and their changing state of ionization accompanied by possible changes in their affinity for the AS site may have complicated earlier attempts to determine the pka of the essential carboxyl group from the ph dependence of the rate of inactivation being a strong monoprotic acid chloroacetol sulfate is better suited to the determination of the pka of the carboxyl group chloroacetol sulfate inactivates triosephosphate isomerase by the selective esterification of the same carboxyl group as that which is esterified by the phosphate esters described earlier from the ph dependence of the rate of inactivation of yeast triosephosphate isomerase the apparent pka of the activesite carboxyl group is estimated as', LOCATION='8|129', LABEL='transition state|active'),\n",
              " Row(TEXT='kinetic analyses of monoanion inhibition and cl nuclear magnetic resonance at mhz were employed to study monoanion interactions with the zinc metalloenzyme renal dipeptidase the enzymecatalyzed hydrolysis of glycyldehydrophenylalanine exhibited competitive inhibition when the reaction rate was determined in the presence of the monovalent anions fluoride chloride bromide iodide azide nitrate or thiocyanate or upon the addition of the divalent anion sulfate competitive inhibition was produced by these anions one anion was bound per enzyme molecule and except in the case of fluoride all of the anions appeared to bind at the same site cyanide ion produced a much more ERP inhibition of renal dipeptidase than the other monoanions and it was shown that two cyanide ions were bound per enzyme molecule an investigation of the effect of ph upon monoanion inhibition suggested that the anion inhibitors bind to the group with a pk of approximately complete dissociation of this group approximately ph eliminates the GABA effect of anions the cl L1 broadening produced by renal dipeptidase in m nacl solutions was times more effective than that produced by equivalent concentrations of aquozincii the line broadening was dependent upon the concentration of the metalloenzyme and independent of the frequency of the exciting radiation when zinc ion was removed from the metalloenzyme by dialysis or when chloride was titrated from the metalloenzyme by cyanide line broadening was decreased treatment of renal dipeptidase with saturating concentrations of the competitive inhibitor guanosine triphosphate in the presence of m nacl also produced a significant decrease in the cl L1 width the cl L1 broadening produced by renal dipeptidase was shown to decrease with increasing ph through the range ph this linewidth variation with ph appeared to result from the titration of a site on the metalloprotein with an approximate pk of temperature studies of cl L1 broadening by the metalloenzyme in the presence of chloride and cyanide inhibitors suggest that the fast exchange process pertains and that the dominant EC50 mechanism is quadrupolar in nature', LOCATION='100|155|161|254|258|301|325', LABEL='effective|inhibitory|line|line|line|line|relaxation'),\n",
              " Row(TEXT='the nearultraviolet circular dichroism cd of three homogeneous antitype iii pneumococcal antibodies in the absence and the presence of the specific hexasaccharide ligand was studied in addition recombinations and hybridizations of h and l chains derived from two of these antibodies were carried out and the cd spectra of bound and free reconstituted igg molecules were measured the results indicate that the cd spectra of the native antibodies in the nm range are very similar in shape and sign and exhibit a positive band at nm the homologous reconstituted antibody molecules exhibited cd spectra very similar in shape and sign to those of the native antibody molecules although recombinant molecules are no longer stabilized by interchain disulfide bonds upon addition of the hexasaccharide ligand a significant decrease in amplitude of the cd spectra occurred in all three native antibodies and their fab fragments as well as in the homologous recombinant molecules no cd spectral changes could be detected upon interaction of the hapten ligand with the rat recombinants all homogeneous antibodies studied exhibited fluorescence quenching upon oligosaccharide binding and a blue shift of the emission maximum this property allowed the determination of the binding constant of one selected antibody to be made taken together cd and fluorescence spectroscopic data suggest that oligosaccharide ligands induced detectable conformational changes in the fab fragment of the antibody', LOCATION='166', LABEL='heterologous'),\n",
              " Row(TEXT='the circular polarization of luminescence cpl emitted by tryptophan residues was used as a sensitive probe for measuring ligandinduced structural changes in a homogeneous type iii pneumococcal antibody a series of oligosaccharide ligands of increasing size derived from type iii polysaccharide by partial acid hydrolysis was assayed ligandinduced changes in the circular polarization of fluorescence of the antibody were observed for all antigens tested including tetra hexa and octasaccharides and a residue oligomer the largest changes being recorded upon interaction with the intact soluble type iii pneumococcal siii polysaccharide when fab or fab fragments were used instead of the antibody igg for binding of siii polysaccharide the extent of conformational changes was decreased this suggests interactions between fab and fc portions in the igg molecule and subsequent conformational changes in fc part upon antigen binding reduction of interchain disulfide bonds abolished the additional spectral changes attributed to the fc part but not the changes observed in the fab part thus suggesting that the presence of the interchain disulfide bond in the hinge region is required for maximal cpl changes to occur small monovalent ligands ie the tetra hexa and octasaccharides were capable of inducing cpl changes in the fab part of the antibody molecule as well as cpl changes attributed to the fc portion a multivalent ligand containing about sugar residues appears to be the minimal antigenic size required for triggering conformational changes attributed to the fc part similar to those seen in the interaction with the whole SPA', LOCATION='248', LABEL='polysaccharide antigen'),\n",
              " Row(TEXT='the PET role of the bacillus stearothermophilus s ribosomal protein bl probably rat to the escherichia coli protein l was examined by chemical modification the complex bls rna was photooxidized in the presence of rose bengal and the modified protein incorporated by reconstitution into s ribosomal subunits containing all other unmodified components particles containing photooxidized bl are defective in several PET assays including polyudirected polyphe synthesis peptidyltransferase activity ability to associate with a spolyuphetrna complex and binding of elongation factor g and gtp the rates of loss of the partial PET activities during photooxidation of bl indicate that at least two independent inactivating events are occurring a faster one involving oxidation of one or more histidine residues affecting peptidyltransferase and S1 association activities and a slower one affecting efg binding therefore the protein bl has one or more histidine residues which are essential for peptidyltransferase and S1 association and another residue which is essential for efggtp binding bl may be the ribosomal peptidyltransferase protein or a part of the AS site and may contribute functional groups to the other active CS as well', LOCATION='1|12|60|90|120|146|169|180', LABEL='functional|homologous|functional|functional|subunit|subunit|active|sites'),\n",
              " Row(TEXT='the localization of the previously postulated interface recognition site irs in porcine pancreatic phospholipase a required for a specific interaction between the enzyme and organized lipidwater interfaces was investigated by ultraviolet difference spectroscopy by measurements of the intrinsic fluorescence of the unique trp residue and by protection experiments against specific tryptic hydrolysis using the enzymically nondegradable ATP analogues cnhnoochchnchhoh it is shown that the rather hydrophobic nterminal CS of the enzyme viz alaleutrpglnphearg is directly involved in the interaction with the lipidwater interface besides hydrophobic probably also polar interactions contribute to the binding process at neutral or acidic ph the presence of a salt bridge between the nterminal alphanh group and a negatively charged side chain stablizes the interface recognition site and allows the enzyme to penetrate micellar surfaces even in the absence of metal ion at ALP ph interaction of the enzyme with micellar interfaces requires the presence of ca ba ions', LOCATION='56|67|137', LABEL='substrate|sequence|alkaline'),\n",
              " Row(TEXT='the action of snake venom phospholipases a in IN human erythrocytes was investigated in detail the basis phospholipase from agkistrodon halys blomhifii was found to induce both hydrolysis of membrane phospholipids and total cell hemolysis under certain experimental conditions the hydrolytic action of the basic enzyme was found to consist of two sequential events a hydrolysis of of the total cell ph osphatidylcholine without any evident hemolysis and b complete hydrolysis of the remaining phosphatidylcholine followed closely by extensive phosphatidylethanolamine hydrolysis and finally with onset of hemolysis attack on the phosphatidylserine at ph and mm ca only stage a occurred however a slight elevation of the ph of incubation to ph andor inclusion of mm ca in the reaction mixture caused both events a and b to occur the addition of gl limited the action of the enzyme to stage a under any reaction conditions an investigation showed that enzymically induced hemolysis occurred under conditions where the intracellular atp levels were lowered data are presented which suggest that stage b is mediated by in influx of ca into the cell when the levels of atp are low interestingly the phosphllipase from naja naja venom pakistan yielded results similar to those observed with the basic enzyme from agkistrodon venom however the enzyme from crotalus adamanteus and the acidic enzyme also present in the agkistrodon venom produced only slight hydrolysis or hemolysis under any of the conditions studied other species of erythrocytes eg guinea pig monkey pig and rat were tested but only those from guinea pig behaved similarly to the human cells pig monkey and rat erythrocytes underwent very limited hydrolysis and hemolysis it is evident that the use of these phospholipases to probe the localization of phospholipds in ghosts must be approached with caution certain facets of this problem are discussed', LOCATION='8|131|288', LABEL='intact|glucose|erythrocyte membranes'),\n",
              " Row(TEXT='the spontaneous inactivation of yeast G3P dehydrogenase was found to fit a simple twostate MM at ph and degrees the first step is a relatively rapid dissociation of the tetramer to dimers with the equilibrium largely in favor of the tetramer in the absence of nad the dimer inactivates irreversibly the apoenzyme is quite stable with a halflife for complete activity loss proportional to the square root of the enzyme concentration perturbances of the protein structure by ph ionic strength and specific salts which have no effect on the tetrameric state of the molecule result in an alteration of the cooperativity of nad IB the CR of the activesite sulfhydryl group and the catalytic activity of the enzyme covalent modification of two of the four activesite sulfhydryl CG has profound effects on the enzymic activity which are mediated by changes in the subunit interactions sedimentation analysis and hybridization studies indicate that the interaction between subunits remains strong T3 covalent modification under normal physiological and equilibrium dialysis conditions the protein is a tetramer ED studies of nad binding to the enzyme at ph and degrees reveal a mixed cooperativity pattern a model consistent with these observations and the observed halfofthesites reactivity is that of ligand induced sequential conformational changes which are transferred across strongly interacting S1 domains methods for distinguishing negatively cooperative IB patterns from mixtures of denatured enzyme and multiple species are discussed', LOCATION='5|14|103|105|127|157|172|214|221', LABEL='glyceraldehydephosphate|model|binding|reactivity|groups|after|equilibrium dialysis|subunit|binding'),\n",
              " Row(TEXT='the kinetics of the phinduced dissociation of the x mol wt hemoglobin from lumbricus terrestris the earthworm have been studied in a lightscattering stoppedflow apparatus the ligand dependent dissociation data were fit well by a simple sequential model the data for co and oxyhemoglobin are consistent with hb leads to hb leads to hb methemoglobin at ph appears to be hexameric and the dissociation is consistent with the model hb leads to hb in a sequential decay scheme for which lightscattering changes are monitored the relative amounts of rapid and slow phase are determined by the rate constants as well as the molecular weights of intermediate species assignment of the hexameric intermediate is supported by an investigation of the sensitivity of the theoretical kinetic curves to the molecular weights of the intermediates this assignment is further supported by the following the same model will fit the data for oxy and cohemoglobin at all three temperatures a fold variation in rate constants evidence from electron microscopy shows hexameric forms and methemoglobin is apparently SD as a hexamer at ph when co replaces o as the ligand the dissociation rate increases by a factor of four the met is about times faster than the initial oxyhemoglobin dissociation rate but perhaps more relevant for comparing dissociation of the hexamer the met rate was respectively times and times faster than that for the assumed hexameric forms of co and oxyhemoglobin the E(a) for the dodecamer to hexamer dissociation and for the dissociation of the hexamer to smaller forms were about kcalmol for oxy co and methemoglobin', LOCATION='172|237', LABEL='stable|activation energies'),\n",
              " Row(TEXT='the reduction of metmyoglobin by the ironii complex of transdiaminocyclohexanennnntetraacetate fecdta has been investigated the equilibrium constant measured spectrophotometrically is with a resulting reduction potential of v for mb the rate constant for the reduction is m sec with a deltah of kcal m and deltas of eu both cn and oh inhibit the reduction because of the relatively low CR of cyanometmyoglobin mbcn and ionized metmyglobin mboh the rate constant for the reduction of mbcn by fecdta is x m sec and that for reduction of mboh is m sec the nitric oxide complex of metmyoglobin is reduced with a rate constant of m sec the kinetics of oxidation of oxymyoglobin by fecdta were studied the data are consistent with a mechanism where oxidation takes place entirely through the deoxy form a rate constant of x m sec was calculated for the oxidation of deoxymyoglobin by fecdta in equilibrium constant and rate constant for reduction the above data are discussed in terms of a simple outersphere reduction reaction', LOCATION='60', LABEL='reactivity'),\n",
              " Row(TEXT='the purification of axonal membranes of crustaceans was followed by measuring enrichment in htetrodotoxin IB capacity and in na katpase activity a characteristic of these membranes is their high content of lipids and their low content of protein as compared to other types of plasmatic CM the axonal membrane contains myosinlike actinlike tropomyosinlike and tubulinlike proteins it also contains na katpase and acetylcholinesterase the molecular weights of these two enzymes after solubilization are and respectively the molecular weights of the catalytic subunits are for atpase and for acetylcholinesterase we confirmed the presence of a nicotine binding component in the axonal membrane of the lobster but we have been unable to find hnicotine IB to crab axonal CM the binding to axonal membranes og of the sodium channel has been studied in detail the dissociation constant for the binding of htetrodotoxin to the axonal membrane receptor is nm at ph the concentration of the tetrodotoxin receptor in crustacean membranes is about pmolmg of membrane protein times less than the acetylcholinesterase times less than the na katpase and times less than the nicotine IB component in the lobster membrane a reasonable estimate indicates that approximately only one peptide chain in constitutes the tetrodotoxin binding part of the sodium channel in the axonal membrane veratridine which acts selectively on the resting sodium permeability binds to the phospholipid part of the axonal membrane hveratridine binding to membranes parallels the EP effect veratridine and tetrodotoxin have different receptor sites although tetrodotoxin can repolarize the excitable membrane of a giant axon depolarized by veratridine veratridine does not affect the binding of htetrodotoxin to purified axonal membranes similarly tetrodotoxin does not affect the binding of hveratridine to axonal membranes scorpion neurotoxin i a presynaptic toxin which affects both the na and the k channels does not interfere with the binding of htetrodotoxin or hveratridine to axonal CM tetrodotoxin veratridine and scorpion neurotoxin i which have in common the perturbation of the normal SF-36 of the sodium channel act upon three different types of receptor sites', LOCATION='14|45|112|116|181|235|309|325', LABEL='binding|membranes|binding|membranes|binding|electrophysiological|membranes|functioning'),\n",
              " Row(TEXT='a new procedure is described for selecting nitrogenasederepressed mutants based on the method of brenchley et al brenchley je prival mj and magasanik b j biol chem for isolating histidaseconstitutive mutants of a nonnfixing bacterium nitrogenase levels of the new mutants in the presence of nh were as high as of the nitrogenase activity detected in the absence of nh PSA characterization of these nitrogen fixation nif derepressed mutants reveals that they fall into three classes three mutants strains sk and requiring glu for growth synthesize nitrogenase and glutamine synthetase constitutively in the presence of nh a second class of mutants strains sk and requiring glutamine for growth produces derepressed levels of nitrogenase activity and synthesized catalytically inactive glutamine synthetase protein as determined immunologically a third class of glutaminerequiring nitrogenasederepressed mutants strain sk and synthesizes neither a catalytically active glutamine synthetase enzyme nor an immunologically crossreactive glutamine synthetase protein fprime complementation analysis reveals that the mutant strains sk map in a segment of the klebsiella chromosome corresponding to the region coding for glutamine synthetase since the mutant strains sk and sk produce inactive glutamine synthetase protein it is concluded that these mutations map within the glutamine synthetase structural gene', LOCATION='60|82', LABEL='biochemical|glutamate'),\n",
              " Row(TEXT='the superoxide anion radical o reacts with ferricytochrome c to form ferrocytochrome c no intermediate complexes are observable no reaction could be detected between o and ferrocytochrome c at degrees c the rate constant for the reaction at ph to is m s and as the ph increases above the rate constant steadily decreases the dependence on ph is the same for tuna HR and horse heart cytochrome c no reaction could be demonstrated between o and the form of cytochrome c which exists above ph approximately the dependence of the rate constant on ph can be explained if cytochrome c has pks of and and o reacts with the form present below ph with k m s the form above ph with k m s and the form present above ph with k the reaction has an activation SE of kj mol and an enthalpy of activation at degrees c of kj mol both above and below ph it is suggested that o may reduce cytochrome c through a track composed of aromatic amino acids and that little protein rearrangement is required for the formation of the activated complex no reduction of ferricytochrome c by ho radicals could be demonstrated at ph but at ph ho radicals oxidize ferrocytochrome c with a rate constant of about m s', LOCATION='63|139', LABEL='heart|energy'),\n",
              " Row(TEXT='after a mus laser flash a mus phase in the decay of delayed fluorescence is visible under a variety of circumstances in spinach chloroplasts and subchloroplast particles EC in photosystem ii prepared by means of digitonin the level of this phase is high in the case of inhibition of oxygen evolution at the donor side of photosystem ii comparison with the results of babcock and sauer biochim biophys acta indicates that their epr signal iif which they suppose to be due to z the Ox first secondary donor of PS ii is well correlated with a large amplitude of our mus phase we explain our mus phase by the intrinsic back reaction of the excited reaction center in the presence of z as predicted by van gorkom and donze photochem photobiol the redox state of z is dependent on the internal ph of the thylakoids the results on the effect of ph in the mus region are compared with those obtained in the ms region', LOCATION='27|84|89', LABEL='enriched|oxidized|photosystem'),\n",
              " Row(TEXT='photosystem ii reaction center components have been studied in small system ii particles prepared with digitonin upon illumination the reduction of the primary acceptor was indicated by absorbance changes due to the reduction of a PQ to the semiquinone anion and by a small blue shifts of absorption bands near nm c and nm the SQ to chlorophyll ratio was between and in various S9 the terminal electron donor in this reaction did not cause large absorbance changes but its GSSG was revealed by a hitherto unknown electron spin resonance esr signal which had some properties of the wellknown signal ii but a linewidth and gvalue much nearer to those of signal i upon darkening absorbance and esr changes decayed together in a cyclic or back reaction which was stimulated by dichlorophenyldimethylurea the donor could be oxidized by ferricyanide in the dark illumination in the presence of ferricyanide induced absorbance and esr changes rapidly reversed upon darkening which may be ascribed to the oxidation of a chlorophyll a dimer possibly the primary electron donor of photosystem ii in addition an esr signal with to gauss linewidth and a slower dark decay was observed which may have been caused by a secondary donor', LOCATION='35|55|64|80', LABEL='plastoquinone|semiquinone|preparations|oxidized form'),\n",
              " Row(TEXT='crude extracts and partially purified enzyme preparations from potato tubers catalyse at ph the conversion of linoleic acid hydroperoxides to a range of oxygenated fatty acid derivatives d and lhydroperoxide isomers are converted at similar rates to equivalent isomeric products the major products from the hydroperoxide isomer were identified as the corresponding monohydroxydienoic acid derivative threohydroxytransepoxyoctadeccisenoic acid and trihydroxyoctadectransenoic acid the corresponding products from the hydroperoxide were the monohydroxydienoic acid epoxyhydroxyoctadecenoic acid and trihydroxyoctadecenoic acid no separation of activities forming the different products was achieved by partial purification of enzyme extracts product formation was unaffected by edta cn SH reagents or glutathione but was reduced by boiling the extracts this system is compared with the hydroperoxidespecific enzymic formation of divinyl ether derivatives by potato extracts', LOCATION='98', LABEL='sulphydryl'),\n",
              " Row(TEXT='microsomal PA phosphohydrolase phosphatidate phosphatase ec was solubilized and fractionated to yield at least two distinct enzymatically active fractions one denoted fa was nonspecific had a relatively high km for phosphatidic acid and was insensitive to inhibition by diacylglycerol the second fraction fb was specific for phosphatidates had a low km and was inhibited noncompetitively by diacylglycerol fa exhibited a sigmoid substrateactivity curve the isolated fb aggregated to particles of about in the absence of salts and could be dissociated by the addition of monovalent cations at ionic strength to about daltons and thereby doubled its activity dissociation was time and temperaturedependent f was inhibitory divalent ions were not required for the activity of fa or fb and inhibited at concentrations exceeding mm', LOCATION='1', LABEL='phosphatidate'),\n",
              " Row(TEXT='rabbit liver microsomal S9 fortified with mm nadph effectively promote hydroxylation of betah or callochenodeoxycholic acid or alphaalphahalphacholestanealphaalphadiol to their respective alphahydroxyl derivatives in yields of about or in min minor amounts of other products are formed from the diol the requirements for activity of rabbit CL microsomal alphahydroxylase resemble those of rat CL microsomes of a number of enzyme inhibitors studied only pchloromercuribenzoate demonstrated a marked ability to inhibit the reaction with either tritiated ATP there was no difference in the quantity of product produced from the tritiated acid or the clabeled acid no clear sex difference was found in activity of the enzyme nor was an appreciable difference noted in activity of the enzyme between mature and immature animals', LOCATION='3|46|53|75', LABEL='preparations|liver|liver|substrate'),\n",
              " Row(TEXT='properties of the phenobarbital induced cytoplasmic aldehyde dehydrogenase ec have been studied in rat liver fold higher C2 were seen in the cytoplasmic activities after phenobarbital treatment in reactor compared to nonreactor animals with high concentrations of acetaldehyde mm and propionaldehyde mm no difference was found with mm acetaldehyde mm glycolaldehyde mm formaldehyde or mm betaine aldehyde the reactor group also had slightly higher activity in the mitochondrial fraction with the high acetaldehyde and propionaldehyde concentrations in the microsomal fraction the activities showed no differences at any substrate concentration an induced aldehyde dehydrogenase was purified fold by chromatographic techniques it had different molecular and enzymic properties than the main highkm enzyme normally present in rat liver cytoplasm the pi of the induced enzyme was about as measured by isoelectric focusing it was active with several aliphatic and aromatic aldehydes but not with formaldehyde glycolaldehyde or dglyceraldehyde the kmvalues for propionaldehyde and acetaldehyde were in the millimolar range millimolar concentrations of aromatic aldehydes caused a strong substrate inhibition the enzyme was inhibited by submicromolar concentrations of disulfiram estrone deoxycorticosterone progesterone and DES also affected the CEA', LOCATION='17|180|184', LABEL='levels|diethylstilbestrol|enzyme activity'),\n",
              " Row(TEXT='the hydrolysis of pnitrophenyl phosphate by wheat germ acid phosphatase orthophosphoric monoester phosphohydrolase ec has been investigated in mixtures of AQ buffers with AC dioxane and acetonitrile the enzyme was either in free solution or immobilized on a pellicular support which consisted of a porous carbonaceous layer on solid glass beads the highest enzyme activity was obtained in AC and acetonitrile mixed with citrate buffer over a wide range of organic solvent concentration in vv acetone both v and km of the immobilized enzyme were about half of the values in the neat AQ buffer but the ki for inorganic phosphate was unchanged in vv mixtures of various solvents and citrate buffers of different ph the enzymic activity was found to depend on the ph of the AQ buffer component rather than the ph of the hydroorganic mixture as measured with the glasscalomel electrode the relatively high rates of pnitrophenol liberation in the presence of glucose even at high organic solvent concentrations suggest that transphosphorylation is facilitated at low water activity', LOCATION='20|23|58|93|127', LABEL='aqueous|acetone|acetone|aqueous|aqueous'),\n",
              " Row(TEXT='a strain of bacillus sp bacillus r produces a protease and a carbohydrolase both of which have the ability to lyse rhizopus cell walls of the enzymes the carbohydrolase has been purified to an ultracentrifugally and electrophoretically homogeneous state and identified as a chitosanase the enzyme was active on glycol chitosan as well as chitosan molecular weight of the purified enzyme was estimated as and isoelectric point as ph the enzyme was most AS at ph and at degrees c with either rhizopus cell wall or glycol chitosan as substrate and was stable over a range of ph to at degrees c for h the activity was lost by sulfhydryl reagents and restored by either reduced glutathione of lcysteine an abrupt decrease in viscosity of the reaction mixture suggested an endowise cleavage of chitosan by this enzyme', LOCATION='73', LABEL='active'),\n",
              " Row(TEXT='OS containing terminal nonreducing alpha leads to alpha leads to and alpha leads to linked mannose residues isolated from human and bovine mannosidosis urines were used as substrates to test the specificities of acidic alphamannosidases isolated from human and bovine liver the enzymes released all the alphalinked mannose residues from each oligosaccharide and were most effective on the smallest substrate enzyme a in each case was less AS on the oligosaccharides than alphamannosidase b even though the apparent km value for the substrates was the same with each enzyme the human acidic alphamannosidases were also found to be more active on substrates isolated from human rather than bovine mannosidosis urine human alphamannosidase c which has a neutral ph optimum when assayed with a synthetic ATP did not hydrolyse any of the oligosaccharides at neutral ph but was found to be active at an acidic ph', LOCATION='0|67|124', LABEL='oligosaccharides|active|substrate'),\n",
              " Row(TEXT='the characterization and localization of a caatpase atp phosphohydrolase ec in the tooth germ of the porcine fetus are reported this enzyme a microsome fraction is preferentially activated by ca in the presence of mm atp maximal CEA is obtained at mm cacl the maximal rate of atp hydrolysis is approx mumol per h per mg of protein as the enzyme preparation is used here at optimal ca concentration the mg has an inhibitory effect the enzyme does not require na orand k for activation by ca other nucleotide triphosphates may serve as the substrate but v for atp is the highest the km for atp is m the optimal ph for ca activation of the enzyme lies around well known inhibitors of na katpase mitochondria atpase and caatpase in the erthrocyte do not inhibit the enzyme in the subcellular order the enzyme may be assumed to be localized in the SER fraction containing cell and golgi body membrane fragments and in the tissue order in the enamel organ containing an ameloblast SL stratum intermedium and stellate reticulum', LOCATION='37|151|172', LABEL='enzyme activity|smooth endoplasmic reticulum|layer'),\n",
              " Row(TEXT='purified skeletal muscle myosin ec has been covalently bound to sepharose b by the cyanogen bromide procedure the resulting complex sepharosemyosin possesses adenosine triphosphatase activity and is relatively stable for long periods of time under optimal binding conditions approximately of the TPS atpase activity of the bound S1 is retained PAGE of polypeptides released from denatured sepharosemyosin indicates that of the myosin is attached to the agarose beads through the HCs and the remainder through the light chains in PA with predictions of IB and PR based upon either the lysine contents or molecular weights of themyosin subunits the adenosine triphosphatase of the immobilized S1 has been investigated under conditions of varying ph ionic strength and cation concentration the atpase profiles of immobilized myosin are quite similar to those for free myosin however subtle differences are found the sepharosemyosin atpase is not as sensitive as myosin to alterations in salt concentration and the apparent km is approximately twofold higher than that of myosin these differences are probably due to chemical modification in the region of the attachment sites to the agarose beads and hydration and diffusion limitations imposed by the polymeric agarose matrix', LOCATION='41|47|50|70|79|83|85|104', LABEL='specific|myosin|polyacrylamide gel electrophoresis|heavy chains|agreement|binding|release|myosin'),\n",
              " Row(TEXT='based on incorporation of radioactively labeled nethylmaleimide the readily reactive thiol groups of isolated myosin ec from fast slow and cardiac muscles could be classified into types all myosins contain thiol thiol and a variable number of thiol groups per molecule both thiol and thiol CG which are essential for SF-36 of the kstimulated atpase are located in the HCs in all myosin types the R2 in the incorporation pattern of nethylmaleimide over the thiol group classes under steadystate conditions of mg atp hydrolysis allowed different conformations of some reaction intermediates to be characterized in all types of myosin the hydrolytic cycle of mg atp was found to be controlled by the same step at degrees c in all three cases this ratelimiting step is changed in the same way by lowereing temperature using the chemically determined molecular weights for myosin light chains their stoichiometry was found on the basis of sodium dodecyl sulfate electrophoresis to be for CS chain light chainlight chain per molecule of fast S1 for light chainlight chain per molecule of slow S1 and for light chainlight chain per molecule of CM this qualitative difference in light subunit composition between the fast and the two types of slow myosin is not reflected in the small variations of the characteristics exhibited by the isolated myosins but rather seems to be connected with their respective myofibrillar atpase activities', LOCATION='45|50|59|65|158|167|176|185', LABEL='groups|functioning|heavy chains|variation|light|myosin|myosin|cardiac myosin'),\n",
              " Row(TEXT='the ph dependencies of the apparent K(m) for oxidized glutathione and the apparent turnover number of yeast glutathione reductase ec have been determined at a fixed concentration of mm nadph in the range ph between ph and both of these parameters are relatively constant the principal effect of low ph on the kinetics of the enzymecatalyzed reaction is the observation of a phdependent ATP inhibition by Ox glutathione at ph less than or equal which is shown to correlate with the IB of oxidized glutathione to the oxidized form of the enzyme the catalytic activity of yeast glutathione reductase at ph is affected by the sodium acetate buffer concentration the stability of the oxidized and reduced forms of the enzyme at ph and degrees c in the absence of bovine SS albumin was studied as a function of sodium acetate concentration the results show that activation of the catalytic activity of the enzyme at low sodium acetate concentration correlates with an effect of sodium acetate on a reduced form of the enzyme in contrast inhibition of the catalytic activity of the enzyme at high sodium acetate concentration correlates with an effect of sodium acetate on the GSSG of the enzyme', LOCATION='6|63|66|81|130|196', LABEL='michaelis constant|substrate|oxidized|binding|serum|oxidized form'),\n",
              " Row(TEXT='the phosphorylated form of CL glycogen phosphorylase alphaglucan orthophosphate alphaglucosyltransferase ec phosphorylase a is AS and easily measured while the dephosphorylated form phosphorylase b in contrast to the muscle enzyme has been reported to be essentially inactive even in the presence of amp we have purified both forms of phosphorylase from rat liver and studied the characteristics of each phosphorylase b activity can be measured with our assay conditions the phosphorylase b we obtained was stimulated by high concentrations of sulfate and was a substrate for muscle phosphorylase kinase whereas phosphorylase a was inhibited by sulfate and was a ATP for liver phosphorylase phosphatase substrate IB to phosphorylase b was poor km glycogen mm glucosep mm compared to phosphorylase a km glycogen mm km glucosep mm CL phosphorylase b was AS in the absence of amp however amp lowered the km for glucosep to mm for purified phosphorylase b and to mm for the enzyme in CE ka mm using AGA substrate buffer and amp concentrations assay conditions have been developed which allow determination of phosphorylase a and of the phosphorylase b activity in liver extracts interconversion of the two forms can be demonstrated in vivo under acute stimulation and in vitro with little change in total activity a decrease in total phosphorylase activity has been observed T3 prolonged starvation and in diabetes', LOCATION='4|14|99|105|126|130|156|160|217', LABEL='liver|active|substrate|binding|liver|active|crude extract|appropriate|after')]"
            ]
          },
          "metadata": {},
          "execution_count": 62
        }
      ]
    },
    {
      "cell_type": "code",
      "source": [],
      "metadata": {
        "id": "QHFQn4PLJ4mQ"
      },
      "execution_count": null,
      "outputs": []
    }
  ]
}