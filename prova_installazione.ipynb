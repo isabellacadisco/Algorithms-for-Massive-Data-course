{
  "nbformat": 4,
  "nbformat_minor": 0,
  "metadata": {
    "colab": {
      "provenance": [],
      "toc_visible": true,
      "authorship_tag": "ABX9TyMJs55k3TPqS0ycHeXcOEYQ",
      "include_colab_link": true
    },
    "kernelspec": {
      "name": "python3",
      "display_name": "Python 3"
    },
    "language_info": {
      "name": "python"
    }
  },
  "cells": [
    {
      "cell_type": "markdown",
      "metadata": {
        "id": "view-in-github",
        "colab_type": "text"
      },
      "source": [
        "<a href=\"https://colab.research.google.com/github/isabellacadisco/Algorithms-for-Massive-Data-course/blob/main/prova_installazione.ipynb\" target=\"_parent\"><img src=\"https://colab.research.google.com/assets/colab-badge.svg\" alt=\"Open In Colab\"/></a>"
      ]
    },
    {
      "cell_type": "code",
      "execution_count": 1,
      "metadata": {
        "colab": {
          "base_uri": "https://localhost:8080/"
        },
        "id": "SpQFsH2AXDu5",
        "outputId": "081efb70-8114-4930-f885-e81e43d04601"
      },
      "outputs": [
        {
          "output_type": "stream",
          "name": "stdout",
          "text": [
            "Looking in indexes: https://pypi.org/simple, https://us-python.pkg.dev/colab-wheels/public/simple/\n",
            "Collecting pyspark\n",
            "  Downloading pyspark-3.3.1.tar.gz (281.4 MB)\n",
            "\u001b[2K     \u001b[90m━━━━━━━━━━━━━━━━━━━━━━━━━━━━━━━━━━━━━━━\u001b[0m \u001b[32m281.4/281.4 MB\u001b[0m \u001b[31m4.5 MB/s\u001b[0m eta \u001b[36m0:00:00\u001b[0m\n",
            "\u001b[?25h  Preparing metadata (setup.py) ... \u001b[?25l\u001b[?25hdone\n",
            "Collecting py4j==0.10.9.5\n",
            "  Downloading py4j-0.10.9.5-py2.py3-none-any.whl (199 kB)\n",
            "\u001b[2K     \u001b[90m━━━━━━━━━━━━━━━━━━━━━━━━━━━━━━━━━━━━━\u001b[0m \u001b[32m199.7/199.7 KB\u001b[0m \u001b[31m414.8 kB/s\u001b[0m eta \u001b[36m0:00:00\u001b[0m\n",
            "\u001b[?25hBuilding wheels for collected packages: pyspark\n",
            "  Building wheel for pyspark (setup.py) ... \u001b[?25l\u001b[?25hdone\n",
            "  Created wheel for pyspark: filename=pyspark-3.3.1-py2.py3-none-any.whl size=281845512 sha256=0a8a4945a7151ef50b5e0e5eb04f14260445d4631d5830640596608aadab1e56\n",
            "  Stored in directory: /root/.cache/pip/wheels/43/dc/11/ec201cd671da62fa9c5cc77078235e40722170ceba231d7598\n",
            "Successfully built pyspark\n",
            "Installing collected packages: py4j, pyspark\n",
            "Successfully installed py4j-0.10.9.5 pyspark-3.3.1\n",
            "Looking in indexes: https://pypi.org/simple, https://us-python.pkg.dev/colab-wheels/public/simple/\n",
            "Collecting findspark\n",
            "  Downloading findspark-2.0.1-py2.py3-none-any.whl (4.4 kB)\n",
            "Installing collected packages: findspark\n",
            "Successfully installed findspark-2.0.1\n"
          ]
        }
      ],
      "source": [
        "!pip install pyspark\n",
        "!pip install findspark"
      ]
    },
    {
      "cell_type": "code",
      "source": [
        "import pyspark\n",
        "import findspark\n",
        "import numpy as np\n",
        "import pandas as pd\n",
        "import csv\n",
        "import re\n",
        "import string\n",
        "import random"
      ],
      "metadata": {
        "id": "kvXtvKEAXGpg"
      },
      "execution_count": 2,
      "outputs": []
    },
    {
      "cell_type": "code",
      "source": [
        "from pyspark.sql import SparkSession"
      ],
      "metadata": {
        "id": "TSvemQ5XXZD-"
      },
      "execution_count": 3,
      "outputs": []
    },
    {
      "cell_type": "code",
      "source": [
        "spark = SparkSession.builder.master(\"local[*]\").getOrCreate()\n",
        "sc = spark.sparkContext"
      ],
      "metadata": {
        "id": "pnw4ZsCVXa6N"
      },
      "execution_count": 4,
      "outputs": []
    },
    {
      "cell_type": "code",
      "source": [
        "np.set_printoptions(precision=3)\n",
        "np.array([.12333122, .13432221, .64442143])\n",
        "labels = ['A', 'B', 'C', 'D',  'E', 'F', 'G']\n",
        "\n",
        "pages = range(len(labels))\n",
        "\n",
        "# this dictionary assiciates number in pages to labels\n",
        "page_labels = {p: l for p, l in zip(pages, labels)}\n",
        "page_labels\n",
        "\n",
        "links = [(1, 0), (3, 0),\n",
        "         (0, 1), (5, 2),\n",
        "         (6, 2), (6, 5),\n",
        "         (5, 6), (2, 6),\n",
        "         (0, 6), (5, 4), (4, 3)]\n",
        "\n",
        "import networkx as nx\n",
        "import matplotlib.pyplot as plt\n",
        "\n",
        "g = nx.DiGraph()\n",
        "\n",
        "for p in pages:\n",
        "    g.add_node(p)\n",
        "\n",
        "for (a, b) in links:\n",
        "    g.add_edge(pages[a], pages[b])\n",
        "\n",
        "\n",
        "opts = {'node_size': 900, \n",
        "        'font_color': 'w',\n",
        "        'font_size': 18,\n",
        "        'font_weight': 'bold'}\n",
        "\n",
        "pos = {0: (0, 1), 1: (0, 2), 2: (1, 0),\n",
        "       3: (1, 1), 4: (2, 1), 5: (2, 0), 6: (0, 0)}\n",
        "\n",
        "nx.draw(g, with_labels=True, labels=page_labels,\n",
        "        pos=pos, node_color='#AAAAEE', **opts)\n",
        "plt.show()"
      ],
      "metadata": {
        "colab": {
          "base_uri": "https://localhost:8080/",
          "height": 319
        },
        "id": "jM-P90EzXdm6",
        "outputId": "46fbd5ea-fdb2-4678-e717-b3a9b510b60f"
      },
      "execution_count": 5,
      "outputs": [
        {
          "output_type": "display_data",
          "data": {
            "text/plain": [
              "<Figure size 432x288 with 1 Axes>"
            ],
            "image/png": "[encoded data removed]"
          },
          "metadata": {}
        }
      ]
    },
    {
      "cell_type": "code",
      "source": [
        "adjacency = {}\n",
        "for u in range(len(pages)):\n",
        "    adjacency[u] = []\n",
        "    \n",
        "for (a, b) in links:\n",
        "    adjacency[a].append(b)\n",
        "\n",
        "print(adjacency)\n",
        "\n",
        "\n",
        "connection_matrix = []\n",
        "for a in adjacency:\n",
        "    for b in adjacency[a]:\n",
        "        # this builds the transition matrix (beware of indices!)\n",
        "        connection_matrix.append((b, a, 1./len(adjacency[a])))\n",
        "connection_matrix"
      ],
      "metadata": {
        "colab": {
          "base_uri": "https://localhost:8080/"
        },
        "id": "gjsf9n9OXljA",
        "outputId": "90a77ed9-fdd6-4b63-f267-4ade3fefba7f"
      },
      "execution_count": 6,
      "outputs": [
        {
          "output_type": "stream",
          "name": "stdout",
          "text": [
            "{0: [1, 6], 1: [0], 2: [6], 3: [0], 4: [3], 5: [2, 6, 4], 6: [2, 5]}\n"
          ]
        },
        {
          "output_type": "execute_result",
          "data": {
            "text/plain": [
              "[(1, 0, 0.5),\n",
              " (6, 0, 0.5),\n",
              " (0, 1, 1.0),\n",
              " (6, 2, 1.0),\n",
              " (0, 3, 1.0),\n",
              " (3, 4, 1.0),\n",
              " (2, 5, 0.3333333333333333),\n",
              " (6, 5, 0.3333333333333333),\n",
              " (4, 5, 0.3333333333333333),\n",
              " (2, 6, 0.5),\n",
              " (5, 6, 0.5)]"
            ]
          },
          "metadata": {},
          "execution_count": 6
        }
      ]
    },
    {
      "cell_type": "code",
      "source": [
        "links_RDD = sc.parallelize(connection_matrix).cache()"
      ],
      "metadata": {
        "id": "CUweYcD6Xmw0"
      },
      "execution_count": 7,
      "outputs": []
    },
    {
      "cell_type": "code",
      "source": [
        "n = len(pages)\n",
        "page_rank = np.ones(n)/n\n",
        "old_page_rank = np.ones(n)"
      ],
      "metadata": {
        "id": "qGldHsd0XqwJ"
      },
      "execution_count": 8,
      "outputs": []
    }
  ]
}