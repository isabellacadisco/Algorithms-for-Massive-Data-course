{
  "nbformat": 4,
  "nbformat_minor": 0,
  "metadata": {
    "kernelspec": {
      "display_name": "Python 3",
      "language": "python",
      "name": "python3"
    },
    "language_info": {
      "codemirror_mode": {
        "name": "ipython",
        "version": 3
      },
      "file_extension": ".py",
      "mimetype": "text/x-python",
      "name": "python",
      "nbconvert_exporter": "python",
      "pygments_lexer": "ipython3",
      "version": "3.7.3"
    },
    "latex_envs": {
      "LaTeX_envs_menu_present": true,
      "autoclose": true,
      "autocomplete": true,
      "bibliofile": "biblio.bib",
      "cite_by": "apalike",
      "current_citInitial": 1,
      "eqLabelWithNumbers": true,
      "eqNumInitial": 1,
      "hotkeys": {
        "equation": "Ctrl-E",
        "itemize": "Ctrl-I"
      },
      "labels_anchors": false,
      "latex_user_defs": false,
      "report_style_numbering": true,
      "user_envs_cfg": false
    },
    "name": "page-rank-en",
    "notebookId": 1863082476512281,
    "toc": {
      "base_numbering": 1,
      "nav_menu": {},
      "number_sections": true,
      "sideBar": false,
      "skip_h1_title": false,
      "title_cell": "Table of Contents",
      "title_sidebar": "Contents",
      "toc_cell": true,
      "toc_position": {},
      "toc_section_display": true,
      "toc_window_display": false
    },
    "colab": {
      "provenance": [],
      "include_colab_link": true
    }
  },
  "cells": [
    {
      "cell_type": "markdown",
      "metadata": {
        "id": "view-in-github",
        "colab_type": "text"
      },
      "source": [
        "<a href=\"https://colab.research.google.com/github/isabellacadisco/Algorithms-for-Massive-Data-course/blob/main/page_rank_en_solution_doubts.ipynb\" target=\"_parent\"><img src=\"https://colab.research.google.com/assets/colab-badge.svg\" alt=\"Open In Colab\"/></a>"
      ]
    },
    {
      "cell_type": "code",
      "metadata": {
        "id": "gv1lKNfT0a8M"
      },
      "source": [
        "!apt-get install openjdk-8-jdk-headless -qq > /dev/null\n",
        "!wget -q https://dlcdn.apache.org/spark/spark-3.2.3/spark-3.2.3-bin-hadoop3.2.tgz\n",
        "!tar xf spark-3.2.3-bin-hadoop3.2.tgz\n",
        "!pip install -q findspark\n",
        "\n",
        "import os\n",
        "os.environ[\"JAVA_HOME\"] = \"/usr/lib/jvm/java-8-openjdk-amd64\"\n",
        "os.environ[\"SPARK_HOME\"] = \"/content/spark-3.2.3-bin-hadoop3.2\"\n",
        "\n",
        "import findspark\n",
        "findspark.init(\"spark-3.2.3-bin-hadoop3.2\")# SPARK_HOME\n",
        "from pyspark.sql import SparkSession\n",
        "spark = SparkSession.builder.master(\"local[*]\").getOrCreate()\n",
        "\n",
        "sc = spark.sparkContext"
      ],
      "execution_count": null,
      "outputs": []
    },
    {
      "cell_type": "code",
      "source": [
        "!apt-get install openjdk-8-jdk-headless -qq > /dev/null"
      ],
      "metadata": {
        "id": "aqPYES7qlx8G"
      },
      "execution_count": 1,
      "outputs": []
    },
    {
      "cell_type": "code",
      "source": [
        "!wget -q https://dlcdn.apache.org/spark/spark-3.2.3/spark-3.2.3-bin-hadoop3.2.tgz\n",
        "!tar xf spark-3.2.3-bin-hadoop3.2.tgz"
      ],
      "metadata": {
        "id": "AqscJyxu6GbI"
      },
      "execution_count": 2,
      "outputs": []
    },
    {
      "cell_type": "code",
      "source": [
        "!pip install -q findspark"
      ],
      "metadata": {
        "id": "a99SMp2s6Lin"
      },
      "execution_count": 3,
      "outputs": []
    },
    {
      "cell_type": "code",
      "source": [
        "import os\n",
        "os.environ[\"JAVA_HOME\"] = \"/usr/lib/jvm/java-8-openjdk-amd64\"\n",
        "os.environ[\"SPARK_HOME\"] = \"/content/spark-3.2.3-bin-hadoop3.2\""
      ],
      "metadata": {
        "id": "R2UzJlUW6Ps6"
      },
      "execution_count": 4,
      "outputs": []
    },
    {
      "cell_type": "code",
      "source": [
        "import findspark\n",
        "findspark.init(\"spark-3.2.3-bin-hadoop3.2\")# SPARK_HOME"
      ],
      "metadata": {
        "id": "j1NfcRl56UpL"
      },
      "execution_count": 5,
      "outputs": []
    },
    {
      "cell_type": "code",
      "source": [
        "from pyspark.sql import SparkSession\n",
        "spark = SparkSession.builder.master(\"local[*]\").getOrCreate()"
      ],
      "metadata": {
        "id": "beTcoxM66Yhv"
      },
      "execution_count": 6,
      "outputs": []
    },
    {
      "cell_type": "code",
      "source": [
        "sc = spark.sparkContext"
      ],
      "metadata": {
        "id": "BNKZ56rN6dTj"
      },
      "execution_count": 7,
      "outputs": []
    },
    {
      "cell_type": "markdown",
      "metadata": {
        "id": "yIZsw82S0RLY"
      },
      "source": [
        "# PageRank #\n",
        "\n",
        "This assignment will allow to get confident with the simplest distributed implementations of the PageRank algorithm.\n",
        "\n",
        "As we will often print probability values, we will modify the default setting of numpy so that `float` entries in arrays are printed showing only a few decimal digits."
      ]
    },
    {
      "cell_type": "code",
      "metadata": {
        "id": "3MGGq4WW0RLZ",
        "colab": {
          "base_uri": "https://localhost:8080/"
        },
        "outputId": "a24939f0-11d5-4110-a8c8-801a11a5968d"
      },
      "source": [
        "import numpy as np\n",
        "np.set_printoptions(precision=3)\n",
        "np.array([.12333122, .13432221, .64442143])"
      ],
      "execution_count": 8,
      "outputs": [
        {
          "output_type": "execute_result",
          "data": {
            "text/plain": [
              "array([0.123, 0.134, 0.644])"
            ]
          },
          "metadata": {},
          "execution_count": 8
        }
      ]
    },
    {
      "cell_type": "markdown",
      "metadata": {
        "id": "1OtVflc-0RLg"
      },
      "source": [
        "Let's start considering a hypothetical (very small) portion of the Web described by a fairly simple graph, made up by seven nodes. We will univocally identify each node through an integer number (starting from zero), but for sake of visualization we also want to draw labels on each node. This is why we will start from the following `labels` list, generating automatically the corresponding integer values for nodes. In order to easily convert node numbers to labels we can build a dictionary."
      ]
    },
    {
      "cell_type": "code",
      "source": [
        "labels = ['A', 'B', 'C', 'D',  'E', 'F', 'G']\n",
        "\n",
        "pages = range(len(labels))\n",
        "\n",
        "print(pages)"
      ],
      "metadata": {
        "id": "srESsBhG68J7",
        "outputId": "0b7e29dd-f9ec-4555-a5e3-94f88325a49a",
        "colab": {
          "base_uri": "https://localhost:8080/"
        }
      },
      "execution_count": 9,
      "outputs": [
        {
          "output_type": "stream",
          "name": "stdout",
          "text": [
            "range(0, 7)\n"
          ]
        }
      ]
    },
    {
      "cell_type": "code",
      "source": [
        "list( zip(pages, labels))"
      ],
      "metadata": {
        "id": "TIz_aVOC7RQB",
        "outputId": "98bcf536-c34f-41d7-d882-d866f5502dcf",
        "colab": {
          "base_uri": "https://localhost:8080/"
        }
      },
      "execution_count": 10,
      "outputs": [
        {
          "output_type": "execute_result",
          "data": {
            "text/plain": [
              "[(0, 'A'), (1, 'B'), (2, 'C'), (3, 'D'), (4, 'E'), (5, 'F'), (6, 'G')]"
            ]
          },
          "metadata": {},
          "execution_count": 10
        }
      ]
    },
    {
      "cell_type": "code",
      "metadata": {
        "id": "4Eg2BdmG0RLi",
        "colab": {
          "base_uri": "https://localhost:8080/"
        },
        "outputId": "1125c6bc-b2c1-4d99-faa5-3d896c282655"
      },
      "source": [
        "# this dictionary assiciates number in pages to labels\n",
        "page_labels = {p: l for p, l in zip(pages, labels)}\n",
        "page_labels"
      ],
      "execution_count": 11,
      "outputs": [
        {
          "output_type": "execute_result",
          "data": {
            "text/plain": [
              "{0: 'A', 1: 'B', 2: 'C', 3: 'D', 4: 'E', 5: 'F', 6: 'G'}"
            ]
          },
          "metadata": {},
          "execution_count": 11
        }
      ]
    },
    {
      "cell_type": "markdown",
      "metadata": {
        "id": "0BPOzF3g0RLo"
      },
      "source": [
        "Connections between pages will be described by a list of pairs, whose elements respectively identify the starting and the ending page."
      ]
    },
    {
      "cell_type": "code",
      "metadata": {
        "id": "fqfmr2rT0RLq"
      },
      "source": [
        "links = [(1, 0), (3, 0),\n",
        "         (0, 1), (5, 2),\n",
        "         (6, 2), (6, 5),\n",
        "         (5, 6), (2, 6),\n",
        "         (0, 6), (5, 4), (4, 3)]"
      ],
      "execution_count": 12,
      "outputs": []
    },
    {
      "cell_type": "markdown",
      "metadata": {
        "id": "YP9RMzfz0RLv"
      },
      "source": [
        "We will show graphs using `networkx`, a package implementing a class whose instances are oriented graphs to which nodes and edges can be easily added using the data structures we have created."
      ]
    },
    {
      "cell_type": "code",
      "metadata": {
        "id": "XpJEkJ6K0RLw"
      },
      "source": [
        "import networkx as nx\n",
        "import matplotlib.pyplot as plt\n",
        "\n",
        "g = nx.DiGraph()\n",
        "\n",
        "for p in pages:\n",
        "    g.add_node(p)\n",
        "\n",
        "for (a, b) in links:\n",
        "    g.add_edge(pages[a], pages[b])"
      ],
      "execution_count": 13,
      "outputs": []
    },
    {
      "cell_type": "markdown",
      "metadata": {
        "id": "NC4oQohk0RL2"
      },
      "source": [
        "The visualization of a graph is triggered by the invocation of `nx.draw`, and it highlights directed arcs (using a thicker part of an edge to show their direction), node labels and different coloring of nodes. We will use the latter feature later on."
      ]
    },
    {
      "cell_type": "code",
      "metadata": {
        "id": "vF8nipqX0RL4",
        "colab": {
          "base_uri": "https://localhost:8080/",
          "height": 319
        },
        "outputId": "42056a48-531a-42f6-e819-70be940888de"
      },
      "source": [
        "opts = {'node_size': 900, \n",
        "        'font_color': 'w',\n",
        "        'font_size': 18,\n",
        "        'font_weight': 'bold'}\n",
        "\n",
        "pos = {0: (0, 1), 1: (0, 2), 2: (1, 0),\n",
        "       3: (1, 1), 4: (2, 1), 5: (2, 0), 6: (0, 0)}\n",
        "\n",
        "nx.draw(g, with_labels=True, labels=page_labels,\n",
        "        pos=pos, node_color='#AAAAEE', **opts)\n",
        "plt.show()"
      ],
      "execution_count": 14,
      "outputs": [
        {
          "output_type": "display_data",
          "data": {
            "text/plain": [
              "<Figure size 432x288 with 1 Axes>"
            ],
            "image/png": "[encoded data removed]"
          },
          "metadata": {}
        }
      ]
    },
    {
      "cell_type": "markdown",
      "metadata": {
        "id": "TKpU-irm0RL9"
      },
      "source": [
        "Building the transition matrix at the basis of PageRank it is necessary to compute the adjacency lists for each node: we can organize them into a dictionary assigning each node to its adjaceny list."
      ]
    },
    {
      "cell_type": "code",
      "source": [
        "adjacency = {}\n",
        "for u in range(len(pages)):\n",
        "    adjacency[u] = []\n",
        "\n",
        "print(adjacency)"
      ],
      "metadata": {
        "id": "LVnfYFTt-E7Y",
        "outputId": "93e4d49d-5cd8-4096-e062-90c2d84333b6",
        "colab": {
          "base_uri": "https://localhost:8080/"
        }
      },
      "execution_count": 16,
      "outputs": [
        {
          "output_type": "stream",
          "name": "stdout",
          "text": [
            "{0: [], 1: [], 2: [], 3: [], 4: [], 5: [], 6: []}\n"
          ]
        }
      ]
    },
    {
      "cell_type": "code",
      "metadata": {
        "id": "VQP_aMEa0RL-",
        "colab": {
          "base_uri": "https://localhost:8080/"
        },
        "outputId": "282be2c5-c4b7-4265-d415-29520da968bb"
      },
      "source": [
        "for (a, b) in links:\n",
        "    adjacency[a].append(b) #list of nodes reachable from the node whose adjacency list we are considering\n",
        "\n",
        "print(adjacency)"
      ],
      "execution_count": 17,
      "outputs": [
        {
          "output_type": "stream",
          "name": "stdout",
          "text": [
            "{0: [1, 6], 1: [0], 2: [6], 3: [0], 4: [3], 5: [2, 6, 4], 6: [2, 5]}\n"
          ]
        }
      ]
    },
    {
      "cell_type": "markdown",
      "metadata": {
        "id": "mAK0opKE0RMD"
      },
      "source": [
        "Starting from adjacency lists it is relatively easy to build the transition matrix, whose generic element in position \\\\((i, j)\\\\) is \\\\(0\\\\) if starting from \\\\(j\\\\)-th node it is not possible to directly reach \\\\(i\\\\)-th node, and the inverse of outer degree of \\\\(j\\\\)-th node otherwise. We will exploit the fact that this matrix is typically sparse, storing it as a list of triples \\\\( (i, j, m\\_{ij} ) \\\\) but considering only triples such that \\\\( m_{ij} \\neq 0 \\\\)."
      ]
    },
    {
      "cell_type": "code",
      "metadata": {
        "id": "JOUScLeV0RME",
        "colab": {
          "base_uri": "https://localhost:8080/"
        },
        "outputId": "11b6a0ad-dc06-4a76-da6e-94a7c401747b"
      },
      "source": [
        "connection_matrix = []\n",
        "for a in adjacency:\n",
        "    for b in adjacency[a]:\n",
        "        # this builds the transition matrix (beware of indices!)\n",
        "        connection_matrix.append((b, a, 1./len(adjacency[a])))\n",
        "connection_matrix"
      ],
      "execution_count": 18,
      "outputs": [
        {
          "output_type": "execute_result",
          "data": {
            "text/plain": [
              "[(1, 0, 0.5),\n",
              " (6, 0, 0.5),\n",
              " (0, 1, 1.0),\n",
              " (6, 2, 1.0),\n",
              " (0, 3, 1.0),\n",
              " (3, 4, 1.0),\n",
              " (2, 5, 0.3333333333333333),\n",
              " (6, 5, 0.3333333333333333),\n",
              " (4, 5, 0.3333333333333333),\n",
              " (2, 6, 0.5),\n",
              " (5, 6, 0.5)]"
            ]
          },
          "metadata": {},
          "execution_count": 18
        }
      ]
    },
    {
      "cell_type": "markdown",
      "metadata": {
        "id": "t5_jAPCT0RMJ"
      },
      "source": [
        "We can now create a RDD containing the sparse representation of the transition matrix: as we will use it extensively, it is better to cache this RDD.\n",
        "\n",
        "**Remark.** In usual conditions we would read the matrix representation from a distributed file system."
      ]
    },
    {
      "cell_type": "code",
      "metadata": {
        "id": "3wWSCVVV0RMK"
      },
      "source": [
        "links_RDD = sc.parallelize(connection_matrix).cache()"
      ],
      "execution_count": 19,
      "outputs": []
    },
    {
      "cell_type": "markdown",
      "metadata": {
        "id": "ofZwvT_f0RMO"
      },
      "source": [
        "We are almost ready to compute the simplest PageRank index: `n` will denote the number of analysed pages, and the two arrays `page_rank` and `old_page_rank` will store the PageRank values obtained in two successive iterations. The first will be initialized so as to describe the uniform distribution over pages in the Web portion we are considering, while the second one will be initialized in order to ensure that at least one iteration of the PageRank algorithm is executed."
      ]
    },
    {
      "cell_type": "code",
      "source": [
        "n = len(pages)\n",
        "page_rank = np.ones(n)/n\n",
        "print(page_rank)"
      ],
      "metadata": {
        "id": "Suahh5rgEikq",
        "outputId": "1ed19337-030f-4aee-f312-ff73d162634a",
        "colab": {
          "base_uri": "https://localhost:8080/"
        }
      },
      "execution_count": 20,
      "outputs": [
        {
          "output_type": "stream",
          "name": "stdout",
          "text": [
            "[0.143 0.143 0.143 0.143 0.143 0.143 0.143]\n"
          ]
        }
      ]
    },
    {
      "cell_type": "code",
      "metadata": {
        "id": "ewOdNgsC0RMP",
        "outputId": "89438b2d-842f-4319-86dd-2eeb4cc439f4",
        "colab": {
          "base_uri": "https://localhost:8080/"
        }
      },
      "source": [
        "old_page_rank = np.ones(n)\n",
        "print(old_page_rank)"
      ],
      "execution_count": 21,
      "outputs": [
        {
          "output_type": "stream",
          "name": "stdout",
          "text": [
            "[1. 1. 1. 1. 1. 1. 1.]\n"
          ]
        }
      ]
    },
    {
      "cell_type": "markdown",
      "metadata": {
        "id": "v2fShb5J0RMT"
      },
      "source": [
        "In order to correctly stop the algorithm we need a function measuring the distance between two successive PageRank vectors: let's resort to the Euclidean distance, here implemented through the following `l2distance` function."
      ]
    },
    {
      "cell_type": "code",
      "metadata": {
        "id": "u1bx4Be-0RMU"
      },
      "source": [
        "def l2distance(v, q):\n",
        "    '''Computes the Euclidean distance between two vectors.\n",
        "    \n",
        "    Args\n",
        "    \n",
        "    v: list or tuple\n",
        "    q: list or tuple\n",
        "    \n",
        "    Returns\n",
        "    \n",
        "    d: Euclidean distance between v and q\n",
        "    \n",
        "    Throws exception of v and q do not have the same length.\n",
        "    '''\n",
        "    \n",
        "    if len(v) != len(q):\n",
        "        raise ValueError('Cannot compute the distance'\n",
        "                         ' of two vectors of different size')\n",
        "    \n",
        "    return sum([(q_el - v_el)**2 for v_el, q_el in zip(v, q)])"
      ],
      "execution_count": 22,
      "outputs": []
    },
    {
      "cell_type": "markdown",
      "metadata": {
        "id": "h8X6vxxV0RMY"
      },
      "source": [
        "We can now implement the PageRank computation algorithm, based on the iterated product between the transition matrix and the `page_rank` vector. The iteration will proceed until the distance between two successive PageRank vector values will go below a threshold value stored in `tolerance`, and in any case after `max_iterations` have been exectued."
      ]
    },
    {
      "cell_type": "code",
      "metadata": {
        "id": "TD0IHFWW0RMZ",
        "colab": {
          "base_uri": "https://localhost:8080/"
        },
        "outputId": "251a8caa-9440-4acc-e822-34a2ae56fe33"
      },
      "source": [
        "tolerance = 10e-7\n",
        "max_iterations = 1000\n",
        "\n",
        "iteration = 0\n",
        "while l2distance(old_page_rank, page_rank) >= tolerance and \\\n",
        "      iteration < max_iterations:\n",
        "    old_page_rank = page_rank\n",
        "    \n",
        "    page_rank_values = (links_RDD\n",
        "                        .map(lambda t: (t[0], t[2]*page_rank[t[1]]))\n",
        "                        .reduceByKey(lambda a, b: a+b)\n",
        "                        .sortByKey()\n",
        "                        .collect()\n",
        "                       )\n",
        "    \n",
        "    page_rank = np.array([c for (i, c) in page_rank_values])\n",
        "    \n",
        "    print(page_rank)\n",
        "\n",
        "    iteration += 1"
      ],
      "execution_count": 24,
      "outputs": [
        {
          "output_type": "stream",
          "name": "stdout",
          "text": [
            "[0.286 0.071 0.119 0.143 0.048 0.071 0.262]\n",
            "[0.214 0.143 0.155 0.048 0.024 0.131 0.286]\n",
            "[0.19  0.107 0.187 0.024 0.044 0.143 0.306]\n",
            "[0.131 0.095 0.2   0.044 0.048 0.153 0.329]\n",
            "[0.139 0.065 0.216 0.048 0.051 0.165 0.317]\n",
            "[0.113 0.069 0.213 0.051 0.055 0.158 0.34 ]\n",
            "[0.12  0.057 0.223 0.055 0.053 0.17  0.323]\n",
            "[0.111 0.06  0.218 0.053 0.057 0.161 0.34 ]\n",
            "[0.113 0.056 0.224 0.057 0.054 0.17  0.327]\n",
            "[0.112 0.056 0.22  0.054 0.057 0.164 0.337]\n",
            "[0.11  0.056 0.223 0.057 0.055 0.168 0.331]\n",
            "[0.113 0.055 0.222 0.055 0.056 0.166 0.334]\n",
            "[0.11  0.056 0.222 0.056 0.055 0.167 0.333]\n",
            "[0.113 0.055 0.222 0.055 0.056 0.167 0.333]\n",
            "[0.11  0.056 0.222 0.056 0.056 0.166 0.334]\n",
            "[0.112 0.055 0.223 0.056 0.055 0.167 0.332]\n",
            "[0.111 0.056 0.222 0.055 0.056 0.166 0.334]\n",
            "[0.111 0.055 0.222 0.056 0.055 0.167 0.333]\n",
            "[0.111 0.056 0.222 0.055 0.056 0.166 0.334]\n",
            "[0.111 0.055 0.222 0.056 0.055 0.167 0.333]\n",
            "[0.111 0.056 0.222 0.055 0.056 0.166 0.334]\n"
          ]
        }
      ]
    },
    {
      "cell_type": "markdown",
      "metadata": {
        "id": "YYQhl7Z70RMe"
      },
      "source": [
        "How many iterations have been executed? Did the system converge or did the maximum iteration number was reached?"
      ]
    },
    {
      "cell_type": "code",
      "metadata": {
        "id": "L3DdbrdJ0RMf",
        "colab": {
          "base_uri": "https://localhost:8080/"
        },
        "outputId": "52273fb9-91a0-42a2-bf3e-21f566b260ae"
      },
      "source": [
        "iteration"
      ],
      "execution_count": 25,
      "outputs": [
        {
          "output_type": "execute_result",
          "data": {
            "text/plain": [
              "21"
            ]
          },
          "metadata": {},
          "execution_count": 25
        }
      ]
    },
    {
      "cell_type": "markdown",
      "metadata": {
        "id": "14IyPyMh0RMk"
      },
      "source": [
        "A better way to analyze the obtained result is through graphical visualization, showing the graph describing our portion of the Web and using for each node a red shade linked to the corresponding PageRank value."
      ]
    },
    {
      "cell_type": "code",
      "metadata": {
        "id": "QOZL6R8f0RMl",
        "colab": {
          "base_uri": "https://localhost:8080/",
          "height": 319
        },
        "outputId": "c222f5e4-5a6c-4e95-d426-037a6153bb91"
      },
      "source": [
        "nx.draw(g, with_labels=True, labels=page_labels, pos=pos,\n",
        "        node_color=page_rank, cmap=plt.cm.coolwarm, **opts)\n",
        "plt.show()"
      ],
      "execution_count": 26,
      "outputs": [
        {
          "output_type": "display_data",
          "data": {
            "text/plain": [
              "<Figure size 432x288 with 1 Axes>"
            ],
            "image/png": "[encoded data removed]"
          },
          "metadata": {}
        }
      ]
    },
    {
      "cell_type": "markdown",
      "metadata": {
        "id": "YGS_sewy0RMp"
      },
      "source": [
        "We want now to perform some exploratory analysis of simple variants of the PageRank algorithm. In order to avoid writing the same code several times, let's set up the following functions:\n",
        "\n",
        "* `get_graph`, accepting as inputs the lists of nodes and of connections and returning the corresponding graph;\n",
        "* `get_connection_matrix`, accepting as inputs the lists of connections and returning the transition matrix;\n",
        "* `get_page_rank`, accepting as input the lists of nodes and connections and returning the corresponding PageRank vector; this function will also accept the optional arguments `verbose` (with default value `False`, allowing to print the PageRank vector at each iteration), `tolerance` and `max_iterations` (respectively with default values `10e-7` and `100` and whose behaviour is that of the previously introduced variables having the same names)."
      ]
    },
    {
      "cell_type": "code",
      "metadata": {
        "id": "X4bTA0c00RMq"
      },
      "source": [
        "def get_graph(pages, links):\n",
        "    g = nx.DiGraph()\n",
        "\n",
        "    for p in pages:\n",
        "        g.add_node(p)\n",
        "\n",
        "    for (a, b) in links:\n",
        "        g.add_edge(pages[a], pages[b])\n",
        "\n",
        "    return g\n",
        "\n",
        "def get_connection_matrix(pages, links):\n",
        "    incidency = {}\n",
        "    for u in range(len(pages)):\n",
        "        incidency[u] = []\n",
        "    \n",
        "    for (a, b) in links:\n",
        "        incidency[a].append(b)\n",
        "    \n",
        "    connection_matrix = []\n",
        "    for a in incidency:\n",
        "       for b in incidency[a]:\n",
        "            connection_matrix.append((b, a, 1./len(incidency[a])))\n",
        "            \n",
        "    return connection_matrix\n",
        "\n",
        "def get_page_rank(pages, links,\n",
        "                  verbose=False, tolerance=10e-7, max_iterations=100):\n",
        "    connection_matrix = get_connection_matrix(pages, links)\n",
        "    links_RDD = sc.parallelize(connection_matrix).cache()\n",
        "\n",
        "    n = len(pages)\n",
        "    page_rank = np.ones(n)/n\n",
        "    old_page_rank = np.ones(n)\n",
        "    \n",
        "    iteration = 0\n",
        "    while l2distance(old_page_rank, page_rank) >= tolerance and \\\n",
        "          iteration < max_iterations:\n",
        "        old_page_rank = page_rank\n",
        "        page_rank_values = (links_RDD\n",
        "                            .map(lambda t: (t[0], t[2]*page_rank[t[1]]))\n",
        "                            .reduceByKey(lambda a, b: a+b)\n",
        "                            .sortByKey()\n",
        "                            .collect()\n",
        "                           )\n",
        "        page_rank = np.array([c for (i, c) in page_rank_values])\n",
        "            \n",
        "        if verbose:\n",
        "            nice_print(page_rank)\n",
        "\n",
        "        iteration += 1\n",
        "        \n",
        "    print('{} iterations'.format(iteration))\n",
        "    \n",
        "    return page_rank"
      ],
      "execution_count": 27,
      "outputs": []
    },
    {
      "cell_type": "markdown",
      "metadata": {
        "id": "6TtyIc8N0RMt"
      },
      "source": [
        "Let's check these functions on the already available graph and test that they return the same PageRank values."
      ]
    },
    {
      "cell_type": "code",
      "metadata": {
        "id": "ss05gLf10RMv",
        "colab": {
          "base_uri": "https://localhost:8080/"
        },
        "outputId": "524aa4e7-8a13-4e5e-91dd-d160d5b901a6"
      },
      "source": [
        "page_rank = get_page_rank(pages, links)"
      ],
      "execution_count": 28,
      "outputs": [
        {
          "output_type": "stream",
          "name": "stdout",
          "text": [
            "21 iterations\n"
          ]
        }
      ]
    },
    {
      "cell_type": "code",
      "metadata": {
        "id": "ZanLUinj0RM1",
        "colab": {
          "base_uri": "https://localhost:8080/"
        },
        "outputId": "480c1909-d109-4976-b4ec-99ee3aac863e"
      },
      "source": [
        "page_rank"
      ],
      "execution_count": 29,
      "outputs": [
        {
          "output_type": "execute_result",
          "data": {
            "text/plain": [
              "array([0.111, 0.056, 0.222, 0.055, 0.056, 0.166, 0.334])"
            ]
          },
          "metadata": {},
          "execution_count": 29
        }
      ]
    },
    {
      "cell_type": "code",
      "metadata": {
        "scrolled": true,
        "id": "w9RLfn090RM6",
        "colab": {
          "base_uri": "https://localhost:8080/",
          "height": 319
        },
        "outputId": "378b09d3-7197-4048-9daa-6684ea6089b7"
      },
      "source": [
        "g = get_graph(pages, links)\n",
        "nx.draw(g, with_labels=True, labels=page_labels, pos=pos,\n",
        "        node_color=page_rank, cmap=plt.cm.coolwarm, **opts)"
      ],
      "execution_count": 30,
      "outputs": [
        {
          "output_type": "display_data",
          "data": {
            "text/plain": [
              "<Figure size 432x288 with 1 Axes>"
            ],
            "image/png": "[encoded data removed]"
          },
          "metadata": {}
        }
      ]
    },
    {
      "cell_type": "markdown",
      "metadata": {
        "id": "j6ZMk3__0RM9"
      },
      "source": [
        "Let's consider now the following graph, having node B as a dead end."
      ]
    },
    {
      "cell_type": "code",
      "metadata": {
        "id": "jOTdII720RM-",
        "colab": {
          "base_uri": "https://localhost:8080/",
          "height": 319
        },
        "outputId": "cd457390-7f35-4415-8a73-387e79e9607b"
      },
      "source": [
        "links = [\n",
        "         (3, 0), (0, 1),\n",
        "         (5, 2), (6, 2),\n",
        "         (6, 5), (5, 6),\n",
        "         (2, 6), (0, 6),\n",
        "         (5, 4), (4, 3),\n",
        "        ]\n",
        "\n",
        "g = get_graph(pages, links)\n",
        "nx.draw(g, with_labels=True, labels=page_labels,\n",
        "        pos=pos, node_color='#AAAAEE', **opts)"
      ],
      "execution_count": 31,
      "outputs": [
        {
          "output_type": "display_data",
          "data": {
            "text/plain": [
              "<Figure size 432x288 with 1 Axes>"
            ],
            "image/png": "[encoded data removed]"
          },
          "metadata": {}
        }
      ]
    },
    {
      "cell_type": "markdown",
      "metadata": {
        "id": "12Tkb1Jh0RNC"
      },
      "source": [
        "What happens if we compute its PageRank value?"
      ]
    },
    {
      "cell_type": "code",
      "metadata": {
        "id": "CxREEXVW0RND",
        "colab": {
          "base_uri": "https://localhost:8080/"
        },
        "outputId": "d07f5470-c3d3-406c-9884-641d7ae260ef"
      },
      "source": [
        "page_rank = get_page_rank(pages, links)"
      ],
      "execution_count": 32,
      "outputs": [
        {
          "output_type": "stream",
          "name": "stdout",
          "text": [
            "73 iterations\n"
          ]
        }
      ]
    },
    {
      "cell_type": "markdown",
      "metadata": {
        "id": "JROkaa5v0RNM"
      },
      "source": [
        "Why is this result odd? The following cell should give you a hint."
      ]
    },
    {
      "cell_type": "code",
      "metadata": {
        "id": "aqWbq3oA0RNN",
        "colab": {
          "base_uri": "https://localhost:8080/"
        },
        "outputId": "a5161b46-5149-4527-8380-e0ea188f932f"
      },
      "source": [
        "page_rank"
      ],
      "execution_count": 33,
      "outputs": [
        {
          "output_type": "execute_result",
          "data": {
            "text/plain": [
              "array([0.004, 0.002, 0.014, 0.004, 0.004, 0.01 , 0.02 ])"
            ]
          },
          "metadata": {},
          "execution_count": 33
        }
      ]
    },
    {
      "cell_type": "code",
      "metadata": {
        "id": "VBJCdExr0RNS",
        "colab": {
          "base_uri": "https://localhost:8080/"
        },
        "outputId": "f11fb62d-ab5e-44eb-d21a-da5683f2cca1"
      },
      "source": [
        "sum(page_rank)"
      ],
      "execution_count": 34,
      "outputs": [
        {
          "output_type": "execute_result",
          "data": {
            "text/plain": [
              "0.05721862657052279"
            ]
          },
          "metadata": {},
          "execution_count": 34
        }
      ]
    },
    {
      "cell_type": "markdown",
      "metadata": {
        "id": "hU9aRcR50RNW"
      },
      "source": [
        "Despite the unpleasant results we obtained, show the graph together with node coloring according to the obtained PageRank values"
      ]
    },
    {
      "cell_type": "code",
      "metadata": {
        "id": "AmRkW7S60RNX",
        "colab": {
          "base_uri": "https://localhost:8080/",
          "height": 319
        },
        "outputId": "6fc1b6f0-1bc6-48cb-9f3d-11ce991f66c7"
      },
      "source": [
        "nx.draw(g, with_labels=True, labels=page_labels,\n",
        "        pos=pos, node_color=page_rank, cmap=plt.cm.coolwarm, **opts)"
      ],
      "execution_count": 35,
      "outputs": [
        {
          "output_type": "display_data",
          "data": {
            "text/plain": [
              "<Figure size 432x288 with 1 Axes>"
            ],
            "image/png": "[encoded data removed]"
          },
          "metadata": {}
        }
      ]
    },
    {
      "cell_type": "code",
      "metadata": {
        "id": "MyrYGc8O0RNb",
        "colab": {
          "base_uri": "https://localhost:8080/",
          "height": 319
        },
        "outputId": "1ff37479-3b4c-43ff-d1f6-03a94f954db0"
      },
      "source": [
        "nx.draw(g, with_labels=True, labels=page_labels,\n",
        "        pos=pos, node_color=page_rank, cmap=plt.cm.coolwarm,\n",
        "        **opts, vmin=0, vmax=1)"
      ],
      "execution_count": 36,
      "outputs": [
        {
          "output_type": "display_data",
          "data": {
            "text/plain": [
              "<Figure size 432x288 with 1 Axes>"
            ],
            "image/png": "[encoded data removed]"
          },
          "metadata": {}
        }
      ]
    },
    {
      "cell_type": "code",
      "source": [
        "page_rank"
      ],
      "metadata": {
        "id": "QZSpf7oDOysi",
        "outputId": "3e0a2872-519c-4eca-dc7b-d75326b0cd61",
        "colab": {
          "base_uri": "https://localhost:8080/"
        }
      },
      "execution_count": 37,
      "outputs": [
        {
          "output_type": "execute_result",
          "data": {
            "text/plain": [
              "array([0.004, 0.002, 0.014, 0.004, 0.004, 0.01 , 0.02 ])"
            ]
          },
          "metadata": {},
          "execution_count": 37
        }
      ]
    },
    {
      "cell_type": "markdown",
      "metadata": {
        "id": "SeYYe3vd0RNg"
      },
      "source": [
        "Consider now another graph, containing the spider trap identified by nodes B, H, and I."
      ]
    },
    {
      "cell_type": "code",
      "metadata": {
        "id": "0HyCMlKD0RNh",
        "colab": {
          "base_uri": "https://localhost:8080/",
          "height": 319
        },
        "outputId": "37dac208-07ea-469e-e6be-b7004c16c357"
      },
      "source": [
        "labels = ['A',  'B', 'C', 'D', 'E', 'F', 'G', 'H', 'I']\n",
        "\n",
        "pages = range(len(labels))\n",
        "\n",
        "page_labels = {page: label for page, label in zip(pages, labels)}\n",
        "\n",
        "links = [\n",
        "         (3, 0), (0, 1), (5, 2),\n",
        "         (6, 2), (6, 5), (5, 6),\n",
        "         (2, 6), (0, 6), (5, 4), (4, 3),\n",
        "         (1, 7), (7, 8), (8, 1)\n",
        "        ]\n",
        "\n",
        "g = get_graph(pages, links)\n",
        "pos_trap = {0: (0, 1), 1: (0, 2), 2: (1, 0), 3: (1, 1),\n",
        "            4: (2, 1), 5: (2, 0), 6: (0, 0), 7: (0, 3), 8: (1, 3)}\n",
        "#plt.cla()\n",
        "nx.draw(g, with_labels=True, labels=page_labels,\n",
        "        pos=pos_trap, node_color='#AAAAEE', **opts)"
      ],
      "execution_count": null,
      "outputs": [
        {
          "output_type": "display_data",
          "data": {
            "text/plain": [
              "<Figure size 432x288 with 1 Axes>"
            ],
            "image/png": "[encoded data removed]"
          },
          "metadata": {}
        }
      ]
    },
    {
      "cell_type": "markdown",
      "metadata": {
        "id": "9PntggXu0RNl"
      },
      "source": [
        "Compute and print the PageRank values for this graph."
      ]
    },
    {
      "cell_type": "code",
      "metadata": {
        "id": "m6_dUEaB0RNm",
        "colab": {
          "base_uri": "https://localhost:8080/"
        },
        "outputId": "64f7efb2-4af4-4ea4-fddb-37db8b19d910"
      },
      "source": [
        "page_rank = get_page_rank(pages, links)"
      ],
      "execution_count": null,
      "outputs": [
        {
          "output_type": "stream",
          "name": "stdout",
          "text": [
            "100 iterations\n"
          ]
        }
      ]
    },
    {
      "cell_type": "markdown",
      "metadata": {
        "id": "1YL2yjah0RNq"
      },
      "source": [
        "As in previsous cases, show the graph coloring its nodes according to their PageRank values."
      ]
    },
    {
      "cell_type": "code",
      "metadata": {
        "id": "2YF6-kmS0RNr",
        "colab": {
          "base_uri": "https://localhost:8080/",
          "height": 319
        },
        "outputId": "acf5940e-c6d1-41ec-99b5-303ea3b72fd4"
      },
      "source": [
        "nx.draw(g, with_labels=True, labels=page_labels,\n",
        "        pos=pos_trap, node_color=page_rank, cmap=plt.cm.coolwarm,\n",
        "        **opts, vmin=0, vmax=1)"
      ],
      "execution_count": null,
      "outputs": [
        {
          "output_type": "display_data",
          "data": {
            "text/plain": [
              "<Figure size 432x288 with 1 Axes>"
            ],
            "image/png": "[encoded data removed]"
          },
          "metadata": {}
        }
      ]
    },
    {
      "cell_type": "code",
      "metadata": {
        "id": "QBCcFON90RNw",
        "colab": {
          "base_uri": "https://localhost:8080/"
        },
        "outputId": "2f04b53b-7681-4050-c8a5-6fbf416b91f1"
      },
      "source": [
        "page_rank"
      ],
      "execution_count": null,
      "outputs": [
        {
          "output_type": "execute_result",
          "data": {
            "text/plain": [
              "array([0.001, 0.336, 0.004, 0.001, 0.001, 0.003, 0.006, 0.324, 0.324])"
            ]
          },
          "metadata": {},
          "execution_count": 29
        }
      ]
    },
    {
      "cell_type": "markdown",
      "metadata": {
        "id": "hVhfaGWW0RNz"
      },
      "source": [
        "Modify the `get_page_rank` function in order to implement the taxation-based variant. Note that the function signature has been modified in order to accept an optional argument `beta` playing the role of parameter \\\\(\\beta\\\\) in the variant."
      ]
    },
    {
      "cell_type": "code",
      "metadata": {
        "id": "6OH4I1Vj0RN0"
      },
      "source": [
        "def get_page_rank(pages, links, beta=0.8,\n",
        "                  max_iterations=400, tolerance=1.e-5, verbose=False):\n",
        "\n",
        "    connection_matrix = get_connection_matrix(pages, links)\n",
        "    links_RDD = sc.parallelize(connection_matrix).cache()\n",
        "\n",
        "    n = len(pages)\n",
        "    page_rank = np.ones(n)/n\n",
        "    old_page_rank = np.ones(n)\n",
        "    \n",
        "    iteration = 0\n",
        "    while l2distance(old_page_rank, page_rank) >= tolerance and \\\n",
        "          iteration < max_iterations:\n",
        "        old_page_rank = page_rank\n",
        "        page_rank_values = (links_RDD\n",
        "                            .map(lambda t: (t[0], t[2]*page_rank[t[1]]))\n",
        "                            .reduceByKey(lambda a, b: a+b)\n",
        "                            .sortByKey()\n",
        "                            .collect()\n",
        "                           )\n",
        "        page_rank = np.array([beta*c + (1-beta)/n\n",
        "                              for (i, c) in page_rank_values])\n",
        "            \n",
        "        if verbose:\n",
        "            print(page_rank)\n",
        "\n",
        "        iteration += 1\n",
        "        \n",
        "    print('{} iterations'.format(iteration))\n",
        "    \n",
        "    return page_rank"
      ],
      "execution_count": null,
      "outputs": []
    },
    {
      "cell_type": "markdown",
      "metadata": {
        "id": "HZaCBsj50RN5"
      },
      "source": [
        "Apply the taxation method-based variant to the following graph exhibiting a dead end, and check that the results are different from those previously obtained."
      ]
    },
    {
      "cell_type": "code",
      "metadata": {
        "id": "Zel-sgIN0RN6",
        "colab": {
          "base_uri": "https://localhost:8080/",
          "height": 319
        },
        "outputId": "57e54399-5e5e-4700-a43d-a7bf88b0d223"
      },
      "source": [
        "labels = ['A', 'B', 'C', 'D', 'E', 'F', 'G']\n",
        "\n",
        "pages = range(len(labels))\n",
        "\n",
        "page_labels = {page: label for page, label in zip(pages, labels)}\n",
        "\n",
        "links = [\n",
        "         (3, 0), (0, 1), (5, 2), (6, 2),\n",
        "         (6, 5), (5, 6), (2, 6), (0, 6),\n",
        "         (5, 4), (4, 3),\n",
        "        ]\n",
        "\n",
        "g = get_graph(pages, links)\n",
        "nx.draw(g, with_labels=True, labels=page_labels,\n",
        "        node_color='#AAAAEE', pos=pos, **opts)"
      ],
      "execution_count": null,
      "outputs": [
        {
          "output_type": "display_data",
          "data": {
            "text/plain": [
              "<Figure size 432x288 with 1 Axes>"
            ],
            "image/png": "[encoded data removed]"
          },
          "metadata": {}
        }
      ]
    },
    {
      "cell_type": "code",
      "metadata": {
        "id": "0R0qo2Wd0RN-",
        "colab": {
          "base_uri": "https://localhost:8080/",
          "height": 336
        },
        "outputId": "159371bb-1fc4-42f7-a9ff-b98e70870715"
      },
      "source": [
        "page_rank = get_page_rank(pages, links)\n",
        "nx.draw(g, with_labels=True, labels=page_labels,\n",
        "        pos=pos, node_color=page_rank, cmap=plt.cm.coolwarm,\n",
        "        **opts, vmin=0, vmax=1)"
      ],
      "execution_count": null,
      "outputs": [
        {
          "output_type": "stream",
          "name": "stdout",
          "text": [
            "8 iterations\n"
          ]
        },
        {
          "output_type": "display_data",
          "data": {
            "text/plain": [
              "<Figure size 432x288 with 1 Axes>"
            ],
            "image/png": "[encoded data removed]"
          },
          "metadata": {}
        }
      ]
    },
    {
      "cell_type": "code",
      "metadata": {
        "id": "w2iQgcSA0ROC",
        "colab": {
          "base_uri": "https://localhost:8080/"
        },
        "outputId": "9ebe00e3-f9c3-43b6-c241-f55186a80652"
      },
      "source": [
        "page_rank"
      ],
      "execution_count": null,
      "outputs": [
        {
          "output_type": "execute_result",
          "data": {
            "text/plain": [
              "array([0.089, 0.065, 0.143, 0.076, 0.059, 0.113, 0.21 ])"
            ]
          },
          "metadata": {},
          "execution_count": 33
        }
      ]
    },
    {
      "cell_type": "markdown",
      "metadata": {
        "id": "5HEFRKkJ0ROF"
      },
      "source": [
        "Do the same with the following graph containing a spider trap."
      ]
    },
    {
      "cell_type": "code",
      "metadata": {
        "id": "I7sFtY2A0ROG",
        "colab": {
          "base_uri": "https://localhost:8080/",
          "height": 319
        },
        "outputId": "7e090603-9714-45f8-bdd6-c2de6e18229c"
      },
      "source": [
        "labels = ['A', 'B', 'C', 'D', 'E', 'F', 'G', 'H', 'I']\n",
        "\n",
        "pages = range(len(labels))\n",
        "\n",
        "page_labels = {page: label for page, label in zip(pages, labels)}\n",
        "\n",
        "links = [\n",
        "         (3, 0), (0, 1), (5, 2),\n",
        "         (6, 2), (6, 5), (5, 6),\n",
        "         (2, 6), (0, 6), (5, 4), (4, 3),\n",
        "         (1, 7), (7, 8), (8, 1)\n",
        "        ]\n",
        "\n",
        "g = get_graph(pages, links)\n",
        "nx.draw(g, with_labels=True, labels=page_labels,\n",
        "        pos=pos_trap, node_color='#AAAAEE', **opts)"
      ],
      "execution_count": null,
      "outputs": [
        {
          "output_type": "display_data",
          "data": {
            "text/plain": [
              "<Figure size 432x288 with 1 Axes>"
            ],
            "image/png": "[encoded data removed]"
          },
          "metadata": {}
        }
      ]
    },
    {
      "cell_type": "code",
      "metadata": {
        "id": "USamCxo10ROJ",
        "colab": {
          "base_uri": "https://localhost:8080/",
          "height": 336
        },
        "outputId": "a26f7015-0d4b-42a1-d54c-e4d989f6ab0d"
      },
      "source": [
        "page_rank = get_page_rank(pages, links)\n",
        "nx.draw(g, with_labels=True, labels=page_labels,\n",
        "        pos=pos_trap, node_color=page_rank, cmap=plt.cm.coolwarm,\n",
        "        **opts, vmin=0, vmax=1)"
      ],
      "execution_count": null,
      "outputs": [
        {
          "output_type": "stream",
          "name": "stdout",
          "text": [
            "9 iterations\n"
          ]
        },
        {
          "output_type": "display_data",
          "data": {
            "text/plain": [
              "<Figure size 432x288 with 1 Axes>"
            ],
            "image/png": "[encoded data removed]"
          },
          "metadata": {}
        }
      ]
    },
    {
      "cell_type": "code",
      "metadata": {
        "id": "NlWgHD1T0ROO",
        "colab": {
          "base_uri": "https://localhost:8080/"
        },
        "outputId": "c9888bc1-d073-4938-a654-d8f56ecada28"
      },
      "source": [
        "page_rank"
      ],
      "execution_count": null,
      "outputs": [
        {
          "output_type": "execute_result",
          "data": {
            "text/plain": [
              "array([0.07 , 0.165, 0.111, 0.059, 0.046, 0.088, 0.163, 0.154, 0.146])"
            ]
          },
          "metadata": {},
          "execution_count": 36
        }
      ]
    },
    {
      "cell_type": "markdown",
      "metadata": {
        "id": "VO5xaiWd0ROT"
      },
      "source": [
        "Consider the following **topic-sensitive** version of PageRank: suppose that you know that a subsed \\\\(E\\\\) of the pages you are considering speaks about a specific argument, say Java. You can bias the PageRank algorithm to giving higher importance to such pages modifying how the taxation method works: when taxation takes place, instead of teleporting the random surfers to a generic page, teleport him/her to one of the pages in \\\\(E\\\\) chosen uniformly at random.\n",
        "\n",
        "In your previous assignment you saved to file the equivalent of the transition matrix for a set of books, where a (bidirectional) link between two books was in place if and only if they shared at least a coauthor. You also saved in another file the association of each book to the fact that it is related to the Java programming language.\n",
        "\n",
        "Implement the topic-senstivie variant of PageRank and apply it to your books dataset."
      ]
    },
    {
      "cell_type": "code",
      "metadata": {
        "id": "KJRsyyTv0ROV"
      },
      "source": [],
      "execution_count": null,
      "outputs": []
    }
  ]
}